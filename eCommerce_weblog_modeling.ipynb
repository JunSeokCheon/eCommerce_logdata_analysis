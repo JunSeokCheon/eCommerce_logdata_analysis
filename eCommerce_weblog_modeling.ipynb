{
  "nbformat": 4,
  "nbformat_minor": 0,
  "metadata": {
    "colab": {
      "name": "eCommerce_weblog_modeling.ipynb",
      "provenance": [],
      "authorship_tag": "ABX9TyOr+XXLHHB4Y+/9IYiS60La",
      "include_colab_link": true
    },
    "kernelspec": {
      "name": "python3",
      "display_name": "Python 3"
    },
    "language_info": {
      "name": "python"
    }
  },
  "cells": [
    {
      "cell_type": "markdown",
      "metadata": {
        "id": "view-in-github",
        "colab_type": "text"
      },
      "source": [
        "<a href=\"https://colab.research.google.com/github/JunSeokCheon/eCommerce_weblog_analysis/blob/master/eCommerce_weblog_modeling.ipynb\" target=\"_parent\"><img src=\"https://colab.research.google.com/assets/colab-badge.svg\" alt=\"Open In Colab\"/></a>"
      ]
    },
    {
      "cell_type": "markdown",
      "source": [
        "# - 이번 프로젝트는 kaggle에서 제공하는 데이터셋인 eCommerce 웹 로그 데이터 분석 프로젝트이다.\n",
        "### 1. 데이터 전처리\n",
        "### 2. 데이터 분석 & 시각화\n",
        "### 3. 데이터 모델링\n",
        "\n",
        "#### 해당 파일은 xgboost를 사용한 고객 구매 정확도 모델을 만들것이다.\n",
        "#### 가격과 브랜드를 포함한 여러한 피처들을 사용하여 고객이 결국 장바구니에 있는 항목을 구매할지 여부를 예측하는 파일이다."
      ],
      "metadata": {
        "id": "S62XU7GX3O8N"
      }
    },
    {
      "cell_type": "code",
      "execution_count": null,
      "metadata": {
        "id": "WaGDyoxx3IaM"
      },
      "outputs": [],
      "source": [
        ""
      ]
    }
  ]
}