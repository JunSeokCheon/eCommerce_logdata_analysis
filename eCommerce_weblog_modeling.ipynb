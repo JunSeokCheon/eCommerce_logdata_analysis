{
  "nbformat": 4,
  "nbformat_minor": 0,
  "metadata": {
    "colab": {
      "name": "eCommerce_weblog_modeling.ipynb",
      "provenance": [],
      "collapsed_sections": [],
      "authorship_tag": "ABX9TyND6Lt6gIs13r3SSD/u0oEj",
      "include_colab_link": true
    },
    "kernelspec": {
      "name": "python3",
      "display_name": "Python 3"
    },
    "language_info": {
      "name": "python"
    }
  },
  "cells": [
    {
      "cell_type": "markdown",
      "metadata": {
        "id": "view-in-github",
        "colab_type": "text"
      },
      "source": [
        "<a href=\"https://colab.research.google.com/github/JunSeokCheon/eCommerce_weblog_analysis/blob/master/eCommerce_weblog_modeling.ipynb\" target=\"_parent\"><img src=\"https://colab.research.google.com/assets/colab-badge.svg\" alt=\"Open In Colab\"/></a>"
      ]
    },
    {
      "cell_type": "markdown",
      "source": [
        "# - 이번 프로젝트는 kaggle에서 제공하는 데이터셋인 eCommerce 웹 로그 데이터 분석 프로젝트이다.\n",
        "### 1. 데이터 전처리\n",
        "### 2. 데이터 분석 & 시각화\n",
        "### 3. 데이터 모델링\n",
        "\n",
        "#### 해당 파일은 xgboost를 사용한 고객 구매 정확도 모델을 만들것이다.\n",
        "#### 가격과 브랜드를 포함한 여러한 피처들을 사용하여 고객이 결국 장바구니에 있는 항목을 구매할지 여부를 예측하는 파일이다."
      ],
      "metadata": {
        "id": "S62XU7GX3O8N"
      }
    },
    {
      "cell_type": "code",
      "source": [
        "from google.colab import drive\n",
        "drive.mount('/content/drive')"
      ],
      "metadata": {
        "colab": {
          "base_uri": "https://localhost:8080/"
        },
        "id": "XYUPDjhVq4EA",
        "outputId": "20057dcf-e7fd-4087-e529-b116b2c7cc1d"
      },
      "execution_count": 1,
      "outputs": [
        {
          "output_type": "stream",
          "name": "stdout",
          "text": [
            "Mounted at /content/drive\n"
          ]
        }
      ]
    },
    {
      "cell_type": "code",
      "execution_count": 2,
      "metadata": {
        "id": "WaGDyoxx3IaM",
        "colab": {
          "base_uri": "https://localhost:8080/"
        },
        "outputId": "01454d6f-972a-49b2-fae4-87d0d0f333e5"
      },
      "outputs": [
        {
          "output_type": "stream",
          "name": "stdout",
          "text": [
            "/content/drive/MyDrive/ecommerce_log_analysis\n"
          ]
        }
      ],
      "source": [
        "cd /content/drive/MyDrive/ecommerce_log_analysis"
      ]
    },
    {
      "cell_type": "code",
      "source": [
        "ls"
      ],
      "metadata": {
        "colab": {
          "base_uri": "https://localhost:8080/"
        },
        "id": "ez_HszMcrBQ2",
        "outputId": "f867e03a-9d92-47cb-b0d0-0065e11e4a62"
      },
      "execution_count": 4,
      "outputs": [
        {
          "output_type": "stream",
          "name": "stdout",
          "text": [
            "2019-Nov.csv\n",
            "2019-Oct.csv\n",
            "data_load.ipynb\n",
            "ecommerce-behavior-data-from-multi-category-store.zip\n",
            "eCommerce_weblog_analysis.ipynb\n",
            "eCommerce_weblog_modeling.ipynb\n",
            "eCommerce_weblog_preprocessing.ipynb\n",
            "eCommerce_weblog_RFManalysis.ipynb\n",
            "kaggle.json\n",
            "refined_2019_Oct.csv\n"
          ]
        }
      ]
    },
    {
      "cell_type": "markdown",
      "source": [
        "## 데이터 load & import"
      ],
      "metadata": {
        "id": "lmRATO3TrD5l"
      }
    },
    {
      "cell_type": "code",
      "source": [
        "import pandas as pd\n",
        "import numpy as np\n",
        "import matplotlib.pyplot as plt\n",
        "import seaborn as sns\n",
        "from datetime import datetime, timedelta\n",
        "import datetime as dt\n",
        "\n",
        "from sklearn.preprocessing import LabelEncoder\n",
        "from sklearn.preprocessing import MinMaxScaler\n",
        "from sklearn.model_selection import train_test_split\n",
        "from xgboost import plot_importance\n",
        "from sklearn.utils import resample\n",
        "from sklearn import metrics\n",
        "\n",
        "%matplotlib inline"
      ],
      "metadata": {
        "id": "Lfi3VlQ6rCln"
      },
      "execution_count": 45,
      "outputs": []
    },
    {
      "cell_type": "code",
      "source": [
        "ecommerce_df = pd.read_csv(\"refined_2019_Oct.csv\", index_col = 0)"
      ],
      "metadata": {
        "id": "zCqkwuHrrH_C"
      },
      "execution_count": 7,
      "outputs": []
    },
    {
      "cell_type": "code",
      "source": [
        "ecommerce_df.head()"
      ],
      "metadata": {
        "colab": {
          "base_uri": "https://localhost:8080/",
          "height": 206
        },
        "id": "sMIdpKTErLzL",
        "outputId": "631322a1-bf0d-4e3a-dfe9-fb89d57ed3d2"
      },
      "execution_count": 8,
      "outputs": [
        {
          "output_type": "execute_result",
          "data": {
            "text/plain": [
              "  event_type  product_id          category_id  \\\n",
              "0       view     3900821  2053013552326770905   \n",
              "1       view     1307067  2053013558920217191   \n",
              "2       view     1004237  2053013555631882655   \n",
              "3       view     1480613  2053013561092866779   \n",
              "4       view    28719074  2053013565480109009   \n",
              "\n",
              "                         category_code   brand    price    user_id  \\\n",
              "0  appliances.environment.water_heater    aqua    33.20  554748717   \n",
              "1                   computers.notebook  lenovo   251.74  550050854   \n",
              "2               electronics.smartphone   apple  1081.98  535871217   \n",
              "3                    computers.desktop  pulser   908.62  512742880   \n",
              "4                   apparel.shoes.keds   baden   102.71  520571932   \n",
              "\n",
              "                           user_session             kst_time  \n",
              "0  9333dfbd-b87a-4708-9857-6336556b0fcc  2019-10-01 09:00:00  \n",
              "1  7c90fc70-0e80-4590-96f3-13c02c18c713  2019-10-01 09:00:01  \n",
              "2  c6bd7419-2748-4c56-95b4-8cec9ff8b80d  2019-10-01 09:00:04  \n",
              "3  0d0d91c2-c9c2-4e81-90a5-86594dec0db9  2019-10-01 09:00:05  \n",
              "4  ac1cd4e5-a3ce-4224-a2d7-ff660a105880  2019-10-01 09:00:10  "
            ],
            "text/html": [
              "\n",
              "  <div id=\"df-76cc9f2e-6795-4958-9bbe-751b9387238f\">\n",
              "    <div class=\"colab-df-container\">\n",
              "      <div>\n",
              "<style scoped>\n",
              "    .dataframe tbody tr th:only-of-type {\n",
              "        vertical-align: middle;\n",
              "    }\n",
              "\n",
              "    .dataframe tbody tr th {\n",
              "        vertical-align: top;\n",
              "    }\n",
              "\n",
              "    .dataframe thead th {\n",
              "        text-align: right;\n",
              "    }\n",
              "</style>\n",
              "<table border=\"1\" class=\"dataframe\">\n",
              "  <thead>\n",
              "    <tr style=\"text-align: right;\">\n",
              "      <th></th>\n",
              "      <th>event_type</th>\n",
              "      <th>product_id</th>\n",
              "      <th>category_id</th>\n",
              "      <th>category_code</th>\n",
              "      <th>brand</th>\n",
              "      <th>price</th>\n",
              "      <th>user_id</th>\n",
              "      <th>user_session</th>\n",
              "      <th>kst_time</th>\n",
              "    </tr>\n",
              "  </thead>\n",
              "  <tbody>\n",
              "    <tr>\n",
              "      <th>0</th>\n",
              "      <td>view</td>\n",
              "      <td>3900821</td>\n",
              "      <td>2053013552326770905</td>\n",
              "      <td>appliances.environment.water_heater</td>\n",
              "      <td>aqua</td>\n",
              "      <td>33.20</td>\n",
              "      <td>554748717</td>\n",
              "      <td>9333dfbd-b87a-4708-9857-6336556b0fcc</td>\n",
              "      <td>2019-10-01 09:00:00</td>\n",
              "    </tr>\n",
              "    <tr>\n",
              "      <th>1</th>\n",
              "      <td>view</td>\n",
              "      <td>1307067</td>\n",
              "      <td>2053013558920217191</td>\n",
              "      <td>computers.notebook</td>\n",
              "      <td>lenovo</td>\n",
              "      <td>251.74</td>\n",
              "      <td>550050854</td>\n",
              "      <td>7c90fc70-0e80-4590-96f3-13c02c18c713</td>\n",
              "      <td>2019-10-01 09:00:01</td>\n",
              "    </tr>\n",
              "    <tr>\n",
              "      <th>2</th>\n",
              "      <td>view</td>\n",
              "      <td>1004237</td>\n",
              "      <td>2053013555631882655</td>\n",
              "      <td>electronics.smartphone</td>\n",
              "      <td>apple</td>\n",
              "      <td>1081.98</td>\n",
              "      <td>535871217</td>\n",
              "      <td>c6bd7419-2748-4c56-95b4-8cec9ff8b80d</td>\n",
              "      <td>2019-10-01 09:00:04</td>\n",
              "    </tr>\n",
              "    <tr>\n",
              "      <th>3</th>\n",
              "      <td>view</td>\n",
              "      <td>1480613</td>\n",
              "      <td>2053013561092866779</td>\n",
              "      <td>computers.desktop</td>\n",
              "      <td>pulser</td>\n",
              "      <td>908.62</td>\n",
              "      <td>512742880</td>\n",
              "      <td>0d0d91c2-c9c2-4e81-90a5-86594dec0db9</td>\n",
              "      <td>2019-10-01 09:00:05</td>\n",
              "    </tr>\n",
              "    <tr>\n",
              "      <th>4</th>\n",
              "      <td>view</td>\n",
              "      <td>28719074</td>\n",
              "      <td>2053013565480109009</td>\n",
              "      <td>apparel.shoes.keds</td>\n",
              "      <td>baden</td>\n",
              "      <td>102.71</td>\n",
              "      <td>520571932</td>\n",
              "      <td>ac1cd4e5-a3ce-4224-a2d7-ff660a105880</td>\n",
              "      <td>2019-10-01 09:00:10</td>\n",
              "    </tr>\n",
              "  </tbody>\n",
              "</table>\n",
              "</div>\n",
              "      <button class=\"colab-df-convert\" onclick=\"convertToInteractive('df-76cc9f2e-6795-4958-9bbe-751b9387238f')\"\n",
              "              title=\"Convert this dataframe to an interactive table.\"\n",
              "              style=\"display:none;\">\n",
              "        \n",
              "  <svg xmlns=\"http://www.w3.org/2000/svg\" height=\"24px\"viewBox=\"0 0 24 24\"\n",
              "       width=\"24px\">\n",
              "    <path d=\"M0 0h24v24H0V0z\" fill=\"none\"/>\n",
              "    <path d=\"M18.56 5.44l.94 2.06.94-2.06 2.06-.94-2.06-.94-.94-2.06-.94 2.06-2.06.94zm-11 1L8.5 8.5l.94-2.06 2.06-.94-2.06-.94L8.5 2.5l-.94 2.06-2.06.94zm10 10l.94 2.06.94-2.06 2.06-.94-2.06-.94-.94-2.06-.94 2.06-2.06.94z\"/><path d=\"M17.41 7.96l-1.37-1.37c-.4-.4-.92-.59-1.43-.59-.52 0-1.04.2-1.43.59L10.3 9.45l-7.72 7.72c-.78.78-.78 2.05 0 2.83L4 21.41c.39.39.9.59 1.41.59.51 0 1.02-.2 1.41-.59l7.78-7.78 2.81-2.81c.8-.78.8-2.07 0-2.86zM5.41 20L4 18.59l7.72-7.72 1.47 1.35L5.41 20z\"/>\n",
              "  </svg>\n",
              "      </button>\n",
              "      \n",
              "  <style>\n",
              "    .colab-df-container {\n",
              "      display:flex;\n",
              "      flex-wrap:wrap;\n",
              "      gap: 12px;\n",
              "    }\n",
              "\n",
              "    .colab-df-convert {\n",
              "      background-color: #E8F0FE;\n",
              "      border: none;\n",
              "      border-radius: 50%;\n",
              "      cursor: pointer;\n",
              "      display: none;\n",
              "      fill: #1967D2;\n",
              "      height: 32px;\n",
              "      padding: 0 0 0 0;\n",
              "      width: 32px;\n",
              "    }\n",
              "\n",
              "    .colab-df-convert:hover {\n",
              "      background-color: #E2EBFA;\n",
              "      box-shadow: 0px 1px 2px rgba(60, 64, 67, 0.3), 0px 1px 3px 1px rgba(60, 64, 67, 0.15);\n",
              "      fill: #174EA6;\n",
              "    }\n",
              "\n",
              "    [theme=dark] .colab-df-convert {\n",
              "      background-color: #3B4455;\n",
              "      fill: #D2E3FC;\n",
              "    }\n",
              "\n",
              "    [theme=dark] .colab-df-convert:hover {\n",
              "      background-color: #434B5C;\n",
              "      box-shadow: 0px 1px 3px 1px rgba(0, 0, 0, 0.15);\n",
              "      filter: drop-shadow(0px 1px 2px rgba(0, 0, 0, 0.3));\n",
              "      fill: #FFFFFF;\n",
              "    }\n",
              "  </style>\n",
              "\n",
              "      <script>\n",
              "        const buttonEl =\n",
              "          document.querySelector('#df-76cc9f2e-6795-4958-9bbe-751b9387238f button.colab-df-convert');\n",
              "        buttonEl.style.display =\n",
              "          google.colab.kernel.accessAllowed ? 'block' : 'none';\n",
              "\n",
              "        async function convertToInteractive(key) {\n",
              "          const element = document.querySelector('#df-76cc9f2e-6795-4958-9bbe-751b9387238f');\n",
              "          const dataTable =\n",
              "            await google.colab.kernel.invokeFunction('convertToInteractive',\n",
              "                                                     [key], {});\n",
              "          if (!dataTable) return;\n",
              "\n",
              "          const docLinkHtml = 'Like what you see? Visit the ' +\n",
              "            '<a target=\"_blank\" href=https://colab.research.google.com/notebooks/data_table.ipynb>data table notebook</a>'\n",
              "            + ' to learn more about interactive tables.';\n",
              "          element.innerHTML = '';\n",
              "          dataTable['output_type'] = 'display_data';\n",
              "          await google.colab.output.renderOutput(dataTable, element);\n",
              "          const docLink = document.createElement('div');\n",
              "          docLink.innerHTML = docLinkHtml;\n",
              "          element.appendChild(docLink);\n",
              "        }\n",
              "      </script>\n",
              "    </div>\n",
              "  </div>\n",
              "  "
            ]
          },
          "metadata": {},
          "execution_count": 8
        }
      ]
    },
    {
      "cell_type": "markdown",
      "source": [
        "## **모델링**\n",
        "event_type이 cart인 제품을 고객이 구매할지 안할지 예측하는 모델링  \n",
        "\n",
        "#### **피처 엔지니어링**\n",
        "머신러닝 모델을 학습시키기 위해서 데이터를 재구조화합니다. 이떄 고객이 장바구니에 제품을 \"cart\" 데이터만 대상으로 합니다.\n",
        "\n",
        "\n",
        "\n",
        "*   category_code_level1: 카테고리\n",
        "*   category_code_level2: 하위 카테고리\n",
        "*   event_weekday: 요일\n",
        "*   activity_count: 세션 활동 수\n",
        "*   is_purchased: cart 제품 구매 여부\n",
        "\n",
        "train 데이터 세트에는 위에서 언급한 새로운 기능과 함께 중복되지 않은 모든 장바구니 트랜잭션이 포함합니다.   \n",
        "원래 가격과 브랜드를 포함한 이러한 기능을 사용하여 고객이 결국 장바구니에 있는 항목을 구매할지 여부를 예측합니다."
      ],
      "metadata": {
        "id": "Upi10nZcrty2"
      }
    },
    {
      "cell_type": "markdown",
      "source": [
        "### 데이터 엔지니어링 \n",
        "1. event_type이 cart, purchase인 데이터를 대상으로 중복없이 추출한다.\n",
        "2. event_type이 puchasedlaus 1, 아니면 0인 새로운 \"is_purchased\" 컬럼을 생성한다.\n",
        "3. \"user_session\", \"product_id\"가 같다면 같은 제품에 대한 처리이기 때문에 하나라도 구입한 사례가 있으면 1로 처리한다.\n",
        "4. 우리의 목표는 cart에 있는 항묵을 구매할지 여부를 예측하는 것이니 cart인 데이터를 대상으로 중복없이 추출한다.\n",
        "5. \"kst_time\"에 weekday 함수를 사용해 요일을 추출해 새로운 \"event_weekend\" 컬럼을 생성한다.. (0-월 ~ 6-일)\n",
        "6. 상위 카테고리와 하위 카테고리를 추출하기 위해 category_code에 split을 하고 category 타입으로 astype하여 추출해 새로운 컬럼들을 생성한다."
      ],
      "metadata": {
        "id": "oH6Slamu0HwE"
      }
    },
    {
      "cell_type": "code",
      "source": [
        "df_targets = ecommerce_df.loc[ecommerce_df[\"event_type\"].isin([\"cart\",\"purchase\"])].drop_duplicates(subset=['event_type', 'product_id','price', 'user_id','user_session'])\n",
        "df_targets[\"is_purchased\"] = np.where(df_targets[\"event_type\"] == \"purchase\", 1, 0)\n",
        "df_targets[\"is_purchased\"] = df_targets.groupby([\"user_session\", \"product_id\"])[\"is_purchased\"].transform(\"max\")\n",
        "df_targets = df_targets.loc[df_targets[\"event_type\"] == \"cart\"].drop_duplicates([\"user_session\", \"product_id\", \"is_purchased\"])\n",
        "df_targets['event_weekend'] = df_targets['kst_time'].apply(lambda s: str(datetime.strptime(str(s)[0:10], \"%Y-%m-%d\").weekday()))\n",
        "df_targets[\"category_code_level1\"] = df_targets[\"category_code\"].str.split(\".\", expand=True)[0].astype(\"category\")\n",
        "df_targets[\"category_code_level2\"] = df_targets[\"category_code\"].str.split(\".\", expand=True)[1].astype(\"category\")"
      ],
      "metadata": {
        "id": "QKijxYi9rL1m"
      },
      "execution_count": 30,
      "outputs": []
    },
    {
      "cell_type": "markdown",
      "source": [
        "#### 세션 활동 수 컬럼 생성 방법\n",
        "1. event_type이 cart와 purchase가 있는 user_id 데이터만 뽑는다.\n",
        "2. user_session 별 그룹핑하여 evnet_type의 개수를 세면 해당 세션의 활동 수가 나온다.\n",
        "3. event_type 명을 activity_count로 rename 한다."
      ],
      "metadata": {
        "id": "TxLtK43p2Vo_"
      }
    },
    {
      "cell_type": "code",
      "source": [
        "cart_purchase_users = ecommerce_df[ecommerce_df[\"event_type\"].isin([\"cart\", \"purchase\"])].drop_duplicates(subset = [\"user_id\"])\n",
        "cart_purchase_users_al_activity = ecommerce_df.loc[ecommerce_df['user_id'].isin(cart_purchase_users['user_id'])]\n",
        "activity_in_session = cart_purchase_users_al_activity.groupby(['user_session'])['event_type'].count().reset_index()\n",
        "activity_in_session = activity_in_session.rename(columns={\"event_type\": \"activity_count\"})"
      ],
      "metadata": {
        "id": "wTGEHDN6rL4Q"
      },
      "execution_count": 41,
      "outputs": []
    },
    {
      "cell_type": "markdown",
      "source": [
        "새롭게 만든 컬럼들이 있는 데이터프레임과 세션 활동 수 컬럼의 데이터프레임을 merge 한다."
      ],
      "metadata": {
        "id": "yY8egwcn48ID"
      }
    },
    {
      "cell_type": "code",
      "source": [
        "df_targets = df_targets.merge(activity_in_session, on='user_session', how='left')\n",
        "df_targets['activity_count'] = df_targets['activity_count'].fillna(0)"
      ],
      "metadata": {
        "id": "PGzQT9gG26xQ"
      },
      "execution_count": 42,
      "outputs": []
    },
    {
      "cell_type": "code",
      "source": [
        "df_targets.head()"
      ],
      "metadata": {
        "colab": {
          "base_uri": "https://localhost:8080/",
          "height": 513
        },
        "id": "V5sAxMi6xkd8",
        "outputId": "8b37971c-6853-45c9-ef36-8da59a3c7995"
      },
      "execution_count": 43,
      "outputs": [
        {
          "output_type": "execute_result",
          "data": {
            "text/plain": [
              "  event_type  product_id          category_id                category_code  \\\n",
              "0       cart     1002524  2053013555631882655       electronics.smartphone   \n",
              "1       cart     4804056  2053013554658804075  electronics.audio.headphone   \n",
              "2       cart     1004833  2053013555631882655       electronics.smartphone   \n",
              "3       cart     1005003  2053013555631882655       electronics.smartphone   \n",
              "4       cart     1004750  2053013555631882655       electronics.smartphone   \n",
              "\n",
              "     brand   price    user_id                          user_session  \\\n",
              "0    apple  515.67  524325294  0b74a829-f9d7-4654-b5b0-35bc9822c238   \n",
              "1    apple  161.98  533624186  e5ac3caa-e6d5-4d6b-ae06-2c18cd9ca683   \n",
              "2  samsung  174.76  536415846  685b5b42-f597-4a69-ab4c-ef96a30bc454   \n",
              "3   huawei  258.21  513632293  f2cc68f7-39d1-4a50-9dcf-f2a0921bdfda   \n",
              "4  samsung  197.43  555110488  ce885079-4d92-4fe6-92a3-377c5a2d8291   \n",
              "\n",
              "              kst_time  is_purchased event_weekend category_code_level1  \\\n",
              "0  2019-10-01 09:09:33             1             1          electronics   \n",
              "1  2019-10-01 09:11:00             0             1          electronics   \n",
              "2  2019-10-01 11:17:59             0             1          electronics   \n",
              "3  2019-10-01 11:19:36             1             1          electronics   \n",
              "4  2019-10-01 11:19:43             1             1          electronics   \n",
              "\n",
              "  category_code_level2  activity_count  \n",
              "0           smartphone               4  \n",
              "1                audio               4  \n",
              "2           smartphone               7  \n",
              "3           smartphone              16  \n",
              "4           smartphone              10  "
            ],
            "text/html": [
              "\n",
              "  <div id=\"df-065bf37a-4285-478b-a8e0-afb609647962\">\n",
              "    <div class=\"colab-df-container\">\n",
              "      <div>\n",
              "<style scoped>\n",
              "    .dataframe tbody tr th:only-of-type {\n",
              "        vertical-align: middle;\n",
              "    }\n",
              "\n",
              "    .dataframe tbody tr th {\n",
              "        vertical-align: top;\n",
              "    }\n",
              "\n",
              "    .dataframe thead th {\n",
              "        text-align: right;\n",
              "    }\n",
              "</style>\n",
              "<table border=\"1\" class=\"dataframe\">\n",
              "  <thead>\n",
              "    <tr style=\"text-align: right;\">\n",
              "      <th></th>\n",
              "      <th>event_type</th>\n",
              "      <th>product_id</th>\n",
              "      <th>category_id</th>\n",
              "      <th>category_code</th>\n",
              "      <th>brand</th>\n",
              "      <th>price</th>\n",
              "      <th>user_id</th>\n",
              "      <th>user_session</th>\n",
              "      <th>kst_time</th>\n",
              "      <th>is_purchased</th>\n",
              "      <th>event_weekend</th>\n",
              "      <th>category_code_level1</th>\n",
              "      <th>category_code_level2</th>\n",
              "      <th>activity_count</th>\n",
              "    </tr>\n",
              "  </thead>\n",
              "  <tbody>\n",
              "    <tr>\n",
              "      <th>0</th>\n",
              "      <td>cart</td>\n",
              "      <td>1002524</td>\n",
              "      <td>2053013555631882655</td>\n",
              "      <td>electronics.smartphone</td>\n",
              "      <td>apple</td>\n",
              "      <td>515.67</td>\n",
              "      <td>524325294</td>\n",
              "      <td>0b74a829-f9d7-4654-b5b0-35bc9822c238</td>\n",
              "      <td>2019-10-01 09:09:33</td>\n",
              "      <td>1</td>\n",
              "      <td>1</td>\n",
              "      <td>electronics</td>\n",
              "      <td>smartphone</td>\n",
              "      <td>4</td>\n",
              "    </tr>\n",
              "    <tr>\n",
              "      <th>1</th>\n",
              "      <td>cart</td>\n",
              "      <td>4804056</td>\n",
              "      <td>2053013554658804075</td>\n",
              "      <td>electronics.audio.headphone</td>\n",
              "      <td>apple</td>\n",
              "      <td>161.98</td>\n",
              "      <td>533624186</td>\n",
              "      <td>e5ac3caa-e6d5-4d6b-ae06-2c18cd9ca683</td>\n",
              "      <td>2019-10-01 09:11:00</td>\n",
              "      <td>0</td>\n",
              "      <td>1</td>\n",
              "      <td>electronics</td>\n",
              "      <td>audio</td>\n",
              "      <td>4</td>\n",
              "    </tr>\n",
              "    <tr>\n",
              "      <th>2</th>\n",
              "      <td>cart</td>\n",
              "      <td>1004833</td>\n",
              "      <td>2053013555631882655</td>\n",
              "      <td>electronics.smartphone</td>\n",
              "      <td>samsung</td>\n",
              "      <td>174.76</td>\n",
              "      <td>536415846</td>\n",
              "      <td>685b5b42-f597-4a69-ab4c-ef96a30bc454</td>\n",
              "      <td>2019-10-01 11:17:59</td>\n",
              "      <td>0</td>\n",
              "      <td>1</td>\n",
              "      <td>electronics</td>\n",
              "      <td>smartphone</td>\n",
              "      <td>7</td>\n",
              "    </tr>\n",
              "    <tr>\n",
              "      <th>3</th>\n",
              "      <td>cart</td>\n",
              "      <td>1005003</td>\n",
              "      <td>2053013555631882655</td>\n",
              "      <td>electronics.smartphone</td>\n",
              "      <td>huawei</td>\n",
              "      <td>258.21</td>\n",
              "      <td>513632293</td>\n",
              "      <td>f2cc68f7-39d1-4a50-9dcf-f2a0921bdfda</td>\n",
              "      <td>2019-10-01 11:19:36</td>\n",
              "      <td>1</td>\n",
              "      <td>1</td>\n",
              "      <td>electronics</td>\n",
              "      <td>smartphone</td>\n",
              "      <td>16</td>\n",
              "    </tr>\n",
              "    <tr>\n",
              "      <th>4</th>\n",
              "      <td>cart</td>\n",
              "      <td>1004750</td>\n",
              "      <td>2053013555631882655</td>\n",
              "      <td>electronics.smartphone</td>\n",
              "      <td>samsung</td>\n",
              "      <td>197.43</td>\n",
              "      <td>555110488</td>\n",
              "      <td>ce885079-4d92-4fe6-92a3-377c5a2d8291</td>\n",
              "      <td>2019-10-01 11:19:43</td>\n",
              "      <td>1</td>\n",
              "      <td>1</td>\n",
              "      <td>electronics</td>\n",
              "      <td>smartphone</td>\n",
              "      <td>10</td>\n",
              "    </tr>\n",
              "  </tbody>\n",
              "</table>\n",
              "</div>\n",
              "      <button class=\"colab-df-convert\" onclick=\"convertToInteractive('df-065bf37a-4285-478b-a8e0-afb609647962')\"\n",
              "              title=\"Convert this dataframe to an interactive table.\"\n",
              "              style=\"display:none;\">\n",
              "        \n",
              "  <svg xmlns=\"http://www.w3.org/2000/svg\" height=\"24px\"viewBox=\"0 0 24 24\"\n",
              "       width=\"24px\">\n",
              "    <path d=\"M0 0h24v24H0V0z\" fill=\"none\"/>\n",
              "    <path d=\"M18.56 5.44l.94 2.06.94-2.06 2.06-.94-2.06-.94-.94-2.06-.94 2.06-2.06.94zm-11 1L8.5 8.5l.94-2.06 2.06-.94-2.06-.94L8.5 2.5l-.94 2.06-2.06.94zm10 10l.94 2.06.94-2.06 2.06-.94-2.06-.94-.94-2.06-.94 2.06-2.06.94z\"/><path d=\"M17.41 7.96l-1.37-1.37c-.4-.4-.92-.59-1.43-.59-.52 0-1.04.2-1.43.59L10.3 9.45l-7.72 7.72c-.78.78-.78 2.05 0 2.83L4 21.41c.39.39.9.59 1.41.59.51 0 1.02-.2 1.41-.59l7.78-7.78 2.81-2.81c.8-.78.8-2.07 0-2.86zM5.41 20L4 18.59l7.72-7.72 1.47 1.35L5.41 20z\"/>\n",
              "  </svg>\n",
              "      </button>\n",
              "      \n",
              "  <style>\n",
              "    .colab-df-container {\n",
              "      display:flex;\n",
              "      flex-wrap:wrap;\n",
              "      gap: 12px;\n",
              "    }\n",
              "\n",
              "    .colab-df-convert {\n",
              "      background-color: #E8F0FE;\n",
              "      border: none;\n",
              "      border-radius: 50%;\n",
              "      cursor: pointer;\n",
              "      display: none;\n",
              "      fill: #1967D2;\n",
              "      height: 32px;\n",
              "      padding: 0 0 0 0;\n",
              "      width: 32px;\n",
              "    }\n",
              "\n",
              "    .colab-df-convert:hover {\n",
              "      background-color: #E2EBFA;\n",
              "      box-shadow: 0px 1px 2px rgba(60, 64, 67, 0.3), 0px 1px 3px 1px rgba(60, 64, 67, 0.15);\n",
              "      fill: #174EA6;\n",
              "    }\n",
              "\n",
              "    [theme=dark] .colab-df-convert {\n",
              "      background-color: #3B4455;\n",
              "      fill: #D2E3FC;\n",
              "    }\n",
              "\n",
              "    [theme=dark] .colab-df-convert:hover {\n",
              "      background-color: #434B5C;\n",
              "      box-shadow: 0px 1px 3px 1px rgba(0, 0, 0, 0.15);\n",
              "      filter: drop-shadow(0px 1px 2px rgba(0, 0, 0, 0.3));\n",
              "      fill: #FFFFFF;\n",
              "    }\n",
              "  </style>\n",
              "\n",
              "      <script>\n",
              "        const buttonEl =\n",
              "          document.querySelector('#df-065bf37a-4285-478b-a8e0-afb609647962 button.colab-df-convert');\n",
              "        buttonEl.style.display =\n",
              "          google.colab.kernel.accessAllowed ? 'block' : 'none';\n",
              "\n",
              "        async function convertToInteractive(key) {\n",
              "          const element = document.querySelector('#df-065bf37a-4285-478b-a8e0-afb609647962');\n",
              "          const dataTable =\n",
              "            await google.colab.kernel.invokeFunction('convertToInteractive',\n",
              "                                                     [key], {});\n",
              "          if (!dataTable) return;\n",
              "\n",
              "          const docLinkHtml = 'Like what you see? Visit the ' +\n",
              "            '<a target=\"_blank\" href=https://colab.research.google.com/notebooks/data_table.ipynb>data table notebook</a>'\n",
              "            + ' to learn more about interactive tables.';\n",
              "          element.innerHTML = '';\n",
              "          dataTable['output_type'] = 'display_data';\n",
              "          await google.colab.output.renderOutput(dataTable, element);\n",
              "          const docLink = document.createElement('div');\n",
              "          docLink.innerHTML = docLinkHtml;\n",
              "          element.appendChild(docLink);\n",
              "        }\n",
              "      </script>\n",
              "    </div>\n",
              "  </div>\n",
              "  "
            ]
          },
          "metadata": {},
          "execution_count": 43
        }
      ]
    },
    {
      "cell_type": "code",
      "source": [
        "df_targets.to_csv('training_data.csv')"
      ],
      "metadata": {
        "id": "_RVviPGY36vP"
      },
      "execution_count": 44,
      "outputs": []
    },
    {
      "cell_type": "markdown",
      "source": [
        "#### resampling 진행\n",
        "- training set에서 반복해서 sample을 뽑고, 거기에 반복에서 model을 적합시켜 볼 것이다."
      ],
      "metadata": {
        "id": "NI9C32tM7evH"
      }
    },
    {
      "cell_type": "code",
      "source": [
        "is_purchase_set = df_targets[df_targets['is_purchased'] == 1]\n",
        "is_purchase_set.shape"
      ],
      "metadata": {
        "colab": {
          "base_uri": "https://localhost:8080/"
        },
        "id": "8H-qFMJcyEwl",
        "outputId": "af80cbfb-6dee-4b43-c13b-b9080e59da02"
      },
      "execution_count": 47,
      "outputs": [
        {
          "output_type": "execute_result",
          "data": {
            "text/plain": [
              "(273909, 14)"
            ]
          },
          "metadata": {},
          "execution_count": 47
        }
      ]
    },
    {
      "cell_type": "code",
      "source": [
        "not_purchase_set = df_targets[df_targets['is_purchased'] == 0]\n",
        "not_purchase_set.shape"
      ],
      "metadata": {
        "colab": {
          "base_uri": "https://localhost:8080/"
        },
        "id": "8x2Qa0R8ztkX",
        "outputId": "36b827d1-bf0d-4059-a944-aefaafd5254e"
      },
      "execution_count": 48,
      "outputs": [
        {
          "output_type": "execute_result",
          "data": {
            "text/plain": [
              "(272691, 14)"
            ]
          },
          "metadata": {},
          "execution_count": 48
        }
      ]
    },
    {
      "cell_type": "code",
      "source": [
        "n_samples = 200000\n",
        "is_purchase_sample = resample(is_purchase_set, replace=False, n_samples=n_samples, random_state=27)\n",
        "not_purchase_sample = resample(not_purchase_set, replace=False, n_samples=n_samples, random_state=27)"
      ],
      "metadata": {
        "id": "uPXJoL0Y6ZRM"
      },
      "execution_count": 49,
      "outputs": []
    },
    {
      "cell_type": "code",
      "source": [
        "sampled = pd.concat([is_purchase_sample, not_purchase_sample])\n",
        "sampled['is_purchased'].value_counts()"
      ],
      "metadata": {
        "colab": {
          "base_uri": "https://localhost:8080/"
        },
        "id": "GwqNpkt378xY",
        "outputId": "188720ed-1e1b-4fc3-a9e5-9216ca4b8f50"
      },
      "execution_count": 50,
      "outputs": [
        {
          "output_type": "execute_result",
          "data": {
            "text/plain": [
              "1    200000\n",
              "0    200000\n",
              "Name: is_purchased, dtype: int64"
            ]
          },
          "metadata": {},
          "execution_count": 50
        }
      ]
    },
    {
      "cell_type": "code",
      "source": [
        "features = sampled.loc[:,['brand', 'price', 'event_weekend', 'category_code_level1', 'category_code_level2', 'activity_count']]"
      ],
      "metadata": {
        "id": "okIcDNyE8FRP"
      },
      "execution_count": 66,
      "outputs": []
    },
    {
      "cell_type": "code",
      "source": [
        "features.head()"
      ],
      "metadata": {
        "colab": {
          "base_uri": "https://localhost:8080/",
          "height": 206
        },
        "id": "ozOH5wXE8IWa",
        "outputId": "de6b620a-4fb7-4f70-f840-103cc8641adf"
      },
      "execution_count": 67,
      "outputs": [
        {
          "output_type": "execute_result",
          "data": {
            "text/plain": [
              "          brand   price event_weekend category_code_level1  \\\n",
              "153655    apple  160.88             5          electronics   \n",
              "129910   xiaomi   98.84             3          electronics   \n",
              "352658    turbo  154.42             0           appliances   \n",
              "168343  samsung  285.40             6          electronics   \n",
              "534231  samsung  362.74             3          electronics   \n",
              "\n",
              "       category_code_level2  activity_count  \n",
              "153655                audio               4  \n",
              "129910           smartphone              15  \n",
              "352658              kitchen               4  \n",
              "168343           smartphone               5  \n",
              "534231           smartphone              14  "
            ],
            "text/html": [
              "\n",
              "  <div id=\"df-ec6c5af5-ca0c-4284-a991-df69f815cff8\">\n",
              "    <div class=\"colab-df-container\">\n",
              "      <div>\n",
              "<style scoped>\n",
              "    .dataframe tbody tr th:only-of-type {\n",
              "        vertical-align: middle;\n",
              "    }\n",
              "\n",
              "    .dataframe tbody tr th {\n",
              "        vertical-align: top;\n",
              "    }\n",
              "\n",
              "    .dataframe thead th {\n",
              "        text-align: right;\n",
              "    }\n",
              "</style>\n",
              "<table border=\"1\" class=\"dataframe\">\n",
              "  <thead>\n",
              "    <tr style=\"text-align: right;\">\n",
              "      <th></th>\n",
              "      <th>brand</th>\n",
              "      <th>price</th>\n",
              "      <th>event_weekend</th>\n",
              "      <th>category_code_level1</th>\n",
              "      <th>category_code_level2</th>\n",
              "      <th>activity_count</th>\n",
              "    </tr>\n",
              "  </thead>\n",
              "  <tbody>\n",
              "    <tr>\n",
              "      <th>153655</th>\n",
              "      <td>apple</td>\n",
              "      <td>160.88</td>\n",
              "      <td>5</td>\n",
              "      <td>electronics</td>\n",
              "      <td>audio</td>\n",
              "      <td>4</td>\n",
              "    </tr>\n",
              "    <tr>\n",
              "      <th>129910</th>\n",
              "      <td>xiaomi</td>\n",
              "      <td>98.84</td>\n",
              "      <td>3</td>\n",
              "      <td>electronics</td>\n",
              "      <td>smartphone</td>\n",
              "      <td>15</td>\n",
              "    </tr>\n",
              "    <tr>\n",
              "      <th>352658</th>\n",
              "      <td>turbo</td>\n",
              "      <td>154.42</td>\n",
              "      <td>0</td>\n",
              "      <td>appliances</td>\n",
              "      <td>kitchen</td>\n",
              "      <td>4</td>\n",
              "    </tr>\n",
              "    <tr>\n",
              "      <th>168343</th>\n",
              "      <td>samsung</td>\n",
              "      <td>285.40</td>\n",
              "      <td>6</td>\n",
              "      <td>electronics</td>\n",
              "      <td>smartphone</td>\n",
              "      <td>5</td>\n",
              "    </tr>\n",
              "    <tr>\n",
              "      <th>534231</th>\n",
              "      <td>samsung</td>\n",
              "      <td>362.74</td>\n",
              "      <td>3</td>\n",
              "      <td>electronics</td>\n",
              "      <td>smartphone</td>\n",
              "      <td>14</td>\n",
              "    </tr>\n",
              "  </tbody>\n",
              "</table>\n",
              "</div>\n",
              "      <button class=\"colab-df-convert\" onclick=\"convertToInteractive('df-ec6c5af5-ca0c-4284-a991-df69f815cff8')\"\n",
              "              title=\"Convert this dataframe to an interactive table.\"\n",
              "              style=\"display:none;\">\n",
              "        \n",
              "  <svg xmlns=\"http://www.w3.org/2000/svg\" height=\"24px\"viewBox=\"0 0 24 24\"\n",
              "       width=\"24px\">\n",
              "    <path d=\"M0 0h24v24H0V0z\" fill=\"none\"/>\n",
              "    <path d=\"M18.56 5.44l.94 2.06.94-2.06 2.06-.94-2.06-.94-.94-2.06-.94 2.06-2.06.94zm-11 1L8.5 8.5l.94-2.06 2.06-.94-2.06-.94L8.5 2.5l-.94 2.06-2.06.94zm10 10l.94 2.06.94-2.06 2.06-.94-2.06-.94-.94-2.06-.94 2.06-2.06.94z\"/><path d=\"M17.41 7.96l-1.37-1.37c-.4-.4-.92-.59-1.43-.59-.52 0-1.04.2-1.43.59L10.3 9.45l-7.72 7.72c-.78.78-.78 2.05 0 2.83L4 21.41c.39.39.9.59 1.41.59.51 0 1.02-.2 1.41-.59l7.78-7.78 2.81-2.81c.8-.78.8-2.07 0-2.86zM5.41 20L4 18.59l7.72-7.72 1.47 1.35L5.41 20z\"/>\n",
              "  </svg>\n",
              "      </button>\n",
              "      \n",
              "  <style>\n",
              "    .colab-df-container {\n",
              "      display:flex;\n",
              "      flex-wrap:wrap;\n",
              "      gap: 12px;\n",
              "    }\n",
              "\n",
              "    .colab-df-convert {\n",
              "      background-color: #E8F0FE;\n",
              "      border: none;\n",
              "      border-radius: 50%;\n",
              "      cursor: pointer;\n",
              "      display: none;\n",
              "      fill: #1967D2;\n",
              "      height: 32px;\n",
              "      padding: 0 0 0 0;\n",
              "      width: 32px;\n",
              "    }\n",
              "\n",
              "    .colab-df-convert:hover {\n",
              "      background-color: #E2EBFA;\n",
              "      box-shadow: 0px 1px 2px rgba(60, 64, 67, 0.3), 0px 1px 3px 1px rgba(60, 64, 67, 0.15);\n",
              "      fill: #174EA6;\n",
              "    }\n",
              "\n",
              "    [theme=dark] .colab-df-convert {\n",
              "      background-color: #3B4455;\n",
              "      fill: #D2E3FC;\n",
              "    }\n",
              "\n",
              "    [theme=dark] .colab-df-convert:hover {\n",
              "      background-color: #434B5C;\n",
              "      box-shadow: 0px 1px 3px 1px rgba(0, 0, 0, 0.15);\n",
              "      filter: drop-shadow(0px 1px 2px rgba(0, 0, 0, 0.3));\n",
              "      fill: #FFFFFF;\n",
              "    }\n",
              "  </style>\n",
              "\n",
              "      <script>\n",
              "        const buttonEl =\n",
              "          document.querySelector('#df-ec6c5af5-ca0c-4284-a991-df69f815cff8 button.colab-df-convert');\n",
              "        buttonEl.style.display =\n",
              "          google.colab.kernel.accessAllowed ? 'block' : 'none';\n",
              "\n",
              "        async function convertToInteractive(key) {\n",
              "          const element = document.querySelector('#df-ec6c5af5-ca0c-4284-a991-df69f815cff8');\n",
              "          const dataTable =\n",
              "            await google.colab.kernel.invokeFunction('convertToInteractive',\n",
              "                                                     [key], {});\n",
              "          if (!dataTable) return;\n",
              "\n",
              "          const docLinkHtml = 'Like what you see? Visit the ' +\n",
              "            '<a target=\"_blank\" href=https://colab.research.google.com/notebooks/data_table.ipynb>data table notebook</a>'\n",
              "            + ' to learn more about interactive tables.';\n",
              "          element.innerHTML = '';\n",
              "          dataTable['output_type'] = 'display_data';\n",
              "          await google.colab.output.renderOutput(dataTable, element);\n",
              "          const docLink = document.createElement('div');\n",
              "          docLink.innerHTML = docLinkHtml;\n",
              "          element.appendChild(docLink);\n",
              "        }\n",
              "      </script>\n",
              "    </div>\n",
              "  </div>\n",
              "  "
            ]
          },
          "metadata": {},
          "execution_count": 67
        }
      ]
    },
    {
      "cell_type": "markdown",
      "source": [
        "#### 카테고리 컬럼들 encode\n",
        "모델을 학습시키 위해 컬럼들의 값들이 숫자형으로 인코딩하는 작업이 요구된다.  \n",
        "카테고리 데이터들을 인코딩하는 간단한 방법인 labelencoder를 사용할 것이다."
      ],
      "metadata": {
        "id": "2LWSXQ_c8OpH"
      }
    },
    {
      "cell_type": "code",
      "source": [
        "features.loc[:,'brand'] = LabelEncoder().fit_transform(sampled.loc[:,'brand'].copy())\n",
        "features.loc[:,'event_weekend'] = LabelEncoder().fit_transform(sampled.loc[:,'event_weekend'].copy())\n",
        "features.loc[:,'category_code_level1'] = LabelEncoder().fit_transform(sampled.loc[:,'category_code_level1'].copy())\n",
        "features.loc[:,'category_code_level2'] = LabelEncoder().fit_transform(sampled.loc[:,'category_code_level2'].copy())\n",
        "\n",
        "is_purchased = LabelEncoder().fit_transform(sampled['is_purchased']) # 정답 배열 - 구입 여부"
      ],
      "metadata": {
        "id": "NtGa1VVD8Mtp"
      },
      "execution_count": 68,
      "outputs": []
    },
    {
      "cell_type": "code",
      "source": [
        "features.head()"
      ],
      "metadata": {
        "colab": {
          "base_uri": "https://localhost:8080/",
          "height": 206
        },
        "id": "Q5royxNe8_kZ",
        "outputId": "83b6737a-6cb6-4e14-a495-c8900cc6d87b"
      },
      "execution_count": 69,
      "outputs": [
        {
          "output_type": "execute_result",
          "data": {
            "text/plain": [
              "        brand   price  event_weekend  category_code_level1  \\\n",
              "153655     20  160.88              5                     7   \n",
              "129910    349   98.84              3                     7   \n",
              "352658    331  154.42              0                     2   \n",
              "168343    285  285.40              6                     7   \n",
              "534231    285  362.74              3                     7   \n",
              "\n",
              "        category_code_level2  activity_count  \n",
              "153655                     1               4  \n",
              "129910                    27              15  \n",
              "352658                    19               4  \n",
              "168343                    27               5  \n",
              "534231                    27              14  "
            ],
            "text/html": [
              "\n",
              "  <div id=\"df-ff7941a3-815b-4b09-91b8-39499bb1e075\">\n",
              "    <div class=\"colab-df-container\">\n",
              "      <div>\n",
              "<style scoped>\n",
              "    .dataframe tbody tr th:only-of-type {\n",
              "        vertical-align: middle;\n",
              "    }\n",
              "\n",
              "    .dataframe tbody tr th {\n",
              "        vertical-align: top;\n",
              "    }\n",
              "\n",
              "    .dataframe thead th {\n",
              "        text-align: right;\n",
              "    }\n",
              "</style>\n",
              "<table border=\"1\" class=\"dataframe\">\n",
              "  <thead>\n",
              "    <tr style=\"text-align: right;\">\n",
              "      <th></th>\n",
              "      <th>brand</th>\n",
              "      <th>price</th>\n",
              "      <th>event_weekend</th>\n",
              "      <th>category_code_level1</th>\n",
              "      <th>category_code_level2</th>\n",
              "      <th>activity_count</th>\n",
              "    </tr>\n",
              "  </thead>\n",
              "  <tbody>\n",
              "    <tr>\n",
              "      <th>153655</th>\n",
              "      <td>20</td>\n",
              "      <td>160.88</td>\n",
              "      <td>5</td>\n",
              "      <td>7</td>\n",
              "      <td>1</td>\n",
              "      <td>4</td>\n",
              "    </tr>\n",
              "    <tr>\n",
              "      <th>129910</th>\n",
              "      <td>349</td>\n",
              "      <td>98.84</td>\n",
              "      <td>3</td>\n",
              "      <td>7</td>\n",
              "      <td>27</td>\n",
              "      <td>15</td>\n",
              "    </tr>\n",
              "    <tr>\n",
              "      <th>352658</th>\n",
              "      <td>331</td>\n",
              "      <td>154.42</td>\n",
              "      <td>0</td>\n",
              "      <td>2</td>\n",
              "      <td>19</td>\n",
              "      <td>4</td>\n",
              "    </tr>\n",
              "    <tr>\n",
              "      <th>168343</th>\n",
              "      <td>285</td>\n",
              "      <td>285.40</td>\n",
              "      <td>6</td>\n",
              "      <td>7</td>\n",
              "      <td>27</td>\n",
              "      <td>5</td>\n",
              "    </tr>\n",
              "    <tr>\n",
              "      <th>534231</th>\n",
              "      <td>285</td>\n",
              "      <td>362.74</td>\n",
              "      <td>3</td>\n",
              "      <td>7</td>\n",
              "      <td>27</td>\n",
              "      <td>14</td>\n",
              "    </tr>\n",
              "  </tbody>\n",
              "</table>\n",
              "</div>\n",
              "      <button class=\"colab-df-convert\" onclick=\"convertToInteractive('df-ff7941a3-815b-4b09-91b8-39499bb1e075')\"\n",
              "              title=\"Convert this dataframe to an interactive table.\"\n",
              "              style=\"display:none;\">\n",
              "        \n",
              "  <svg xmlns=\"http://www.w3.org/2000/svg\" height=\"24px\"viewBox=\"0 0 24 24\"\n",
              "       width=\"24px\">\n",
              "    <path d=\"M0 0h24v24H0V0z\" fill=\"none\"/>\n",
              "    <path d=\"M18.56 5.44l.94 2.06.94-2.06 2.06-.94-2.06-.94-.94-2.06-.94 2.06-2.06.94zm-11 1L8.5 8.5l.94-2.06 2.06-.94-2.06-.94L8.5 2.5l-.94 2.06-2.06.94zm10 10l.94 2.06.94-2.06 2.06-.94-2.06-.94-.94-2.06-.94 2.06-2.06.94z\"/><path d=\"M17.41 7.96l-1.37-1.37c-.4-.4-.92-.59-1.43-.59-.52 0-1.04.2-1.43.59L10.3 9.45l-7.72 7.72c-.78.78-.78 2.05 0 2.83L4 21.41c.39.39.9.59 1.41.59.51 0 1.02-.2 1.41-.59l7.78-7.78 2.81-2.81c.8-.78.8-2.07 0-2.86zM5.41 20L4 18.59l7.72-7.72 1.47 1.35L5.41 20z\"/>\n",
              "  </svg>\n",
              "      </button>\n",
              "      \n",
              "  <style>\n",
              "    .colab-df-container {\n",
              "      display:flex;\n",
              "      flex-wrap:wrap;\n",
              "      gap: 12px;\n",
              "    }\n",
              "\n",
              "    .colab-df-convert {\n",
              "      background-color: #E8F0FE;\n",
              "      border: none;\n",
              "      border-radius: 50%;\n",
              "      cursor: pointer;\n",
              "      display: none;\n",
              "      fill: #1967D2;\n",
              "      height: 32px;\n",
              "      padding: 0 0 0 0;\n",
              "      width: 32px;\n",
              "    }\n",
              "\n",
              "    .colab-df-convert:hover {\n",
              "      background-color: #E2EBFA;\n",
              "      box-shadow: 0px 1px 2px rgba(60, 64, 67, 0.3), 0px 1px 3px 1px rgba(60, 64, 67, 0.15);\n",
              "      fill: #174EA6;\n",
              "    }\n",
              "\n",
              "    [theme=dark] .colab-df-convert {\n",
              "      background-color: #3B4455;\n",
              "      fill: #D2E3FC;\n",
              "    }\n",
              "\n",
              "    [theme=dark] .colab-df-convert:hover {\n",
              "      background-color: #434B5C;\n",
              "      box-shadow: 0px 1px 3px 1px rgba(0, 0, 0, 0.15);\n",
              "      filter: drop-shadow(0px 1px 2px rgba(0, 0, 0, 0.3));\n",
              "      fill: #FFFFFF;\n",
              "    }\n",
              "  </style>\n",
              "\n",
              "      <script>\n",
              "        const buttonEl =\n",
              "          document.querySelector('#df-ff7941a3-815b-4b09-91b8-39499bb1e075 button.colab-df-convert');\n",
              "        buttonEl.style.display =\n",
              "          google.colab.kernel.accessAllowed ? 'block' : 'none';\n",
              "\n",
              "        async function convertToInteractive(key) {\n",
              "          const element = document.querySelector('#df-ff7941a3-815b-4b09-91b8-39499bb1e075');\n",
              "          const dataTable =\n",
              "            await google.colab.kernel.invokeFunction('convertToInteractive',\n",
              "                                                     [key], {});\n",
              "          if (!dataTable) return;\n",
              "\n",
              "          const docLinkHtml = 'Like what you see? Visit the ' +\n",
              "            '<a target=\"_blank\" href=https://colab.research.google.com/notebooks/data_table.ipynb>data table notebook</a>'\n",
              "            + ' to learn more about interactive tables.';\n",
              "          element.innerHTML = '';\n",
              "          dataTable['output_type'] = 'display_data';\n",
              "          await google.colab.output.renderOutput(dataTable, element);\n",
              "          const docLink = document.createElement('div');\n",
              "          docLink.innerHTML = docLinkHtml;\n",
              "          element.appendChild(docLink);\n",
              "        }\n",
              "      </script>\n",
              "    </div>\n",
              "  </div>\n",
              "  "
            ]
          },
          "metadata": {},
          "execution_count": 69
        }
      ]
    },
    {
      "cell_type": "code",
      "source": [
        "features.info()"
      ],
      "metadata": {
        "colab": {
          "base_uri": "https://localhost:8080/"
        },
        "id": "fZfFwfKn90dZ",
        "outputId": "22e59d09-1b64-4009-a2bf-211cb4771b62"
      },
      "execution_count": 70,
      "outputs": [
        {
          "output_type": "stream",
          "name": "stdout",
          "text": [
            "<class 'pandas.core.frame.DataFrame'>\n",
            "Int64Index: 400000 entries, 153655 to 25960\n",
            "Data columns (total 6 columns):\n",
            " #   Column                Non-Null Count   Dtype  \n",
            "---  ------                --------------   -----  \n",
            " 0   brand                 400000 non-null  int64  \n",
            " 1   price                 400000 non-null  float64\n",
            " 2   event_weekend         400000 non-null  int64  \n",
            " 3   category_code_level1  400000 non-null  int64  \n",
            " 4   category_code_level2  400000 non-null  int64  \n",
            " 5   activity_count        400000 non-null  int64  \n",
            "dtypes: float64(1), int64(5)\n",
            "memory usage: 21.4 MB\n"
          ]
        }
      ]
    },
    {
      "cell_type": "markdown",
      "source": [
        "#### 데이터 분리"
      ],
      "metadata": {
        "id": "Og6ymAVa9PGM"
      }
    },
    {
      "cell_type": "code",
      "source": [
        "X_train, X_test, y_train, y_test = train_test_split(features, is_purchased, test_size = 0.3, random_state = 0)"
      ],
      "metadata": {
        "id": "XG_SP4yq9Gjv"
      },
      "execution_count": 71,
      "outputs": []
    },
    {
      "cell_type": "markdown",
      "source": [
        "#### 모델 학습"
      ],
      "metadata": {
        "id": "KVYy1t0o9fRW"
      }
    },
    {
      "cell_type": "code",
      "source": [
        "from xgboost import XGBClassifier\n",
        "model = XGBClassifier(learning_rate = 0.1)\n",
        "model.fit(X_train, y_train)\n",
        "y_pred = model.predict(X_test)"
      ],
      "metadata": {
        "id": "31FupVJi9eLg"
      },
      "execution_count": 72,
      "outputs": []
    },
    {
      "cell_type": "code",
      "source": [
        "print(\"Accuracy:\",metrics.accuracy_score(y_test, y_pred))\n",
        "print(\"Precision:\",metrics.precision_score(y_test, y_pred))\n",
        "print(\"Recall:\",metrics.recall_score(y_test, y_pred))\n",
        "print(\"fbeta:\",metrics.fbeta_score(y_test, y_pred, average='weighted', beta=0.5))"
      ],
      "metadata": {
        "colab": {
          "base_uri": "https://localhost:8080/"
        },
        "id": "d4pAEBGj9sm_",
        "outputId": "ccccd8f9-8504-4ab5-a74d-943561fe08ff"
      },
      "execution_count": 73,
      "outputs": [
        {
          "output_type": "stream",
          "name": "stdout",
          "text": [
            "Accuracy: 0.6120833333333333\n",
            "Precision: 0.5939353357566481\n",
            "Recall: 0.7208033433944742\n",
            "fbeta: 0.6113485789789493\n"
          ]
        }
      ]
    },
    {
      "cell_type": "markdown",
      "source": [
        "#### 피처 중요도"
      ],
      "metadata": {
        "id": "hY0rHmEP-PgV"
      }
    },
    {
      "cell_type": "code",
      "source": [
        "plot_importance(model, max_num_features=10, importance_type ='gain')\n",
        "plt.rcParams['figure.figsize'] = (40,10)\n",
        "plt.show()"
      ],
      "metadata": {
        "colab": {
          "base_uri": "https://localhost:8080/",
          "height": 295
        },
        "id": "1Od2DEQm-NwA",
        "outputId": "82854cfd-1226-433f-8bd9-69c6ddc7c6cd"
      },
      "execution_count": 74,
      "outputs": [
        {
          "output_type": "display_data",
          "data": {
            "text/plain": [
              "<Figure size 432x288 with 1 Axes>"
            ],
            "image/png": "[encoded data removed]"
          },
          "metadata": {
            "needs_background": "light"
          }
        }
      ]
    }
  ]
}