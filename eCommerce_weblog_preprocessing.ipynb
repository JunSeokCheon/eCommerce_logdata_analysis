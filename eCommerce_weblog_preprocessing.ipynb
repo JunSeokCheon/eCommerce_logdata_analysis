{
  "nbformat": 4,
  "nbformat_minor": 0,
  "metadata": {
    "colab": {
      "name": "eCommerce_weblog_preprocessing.ipynb",
      "provenance": [],
      "collapsed_sections": [],
      "machine_shape": "hm",
      "mount_file_id": "1flI-E4ysg2HPbJRE27BMRTTYwofESmzN",
      "authorship_tag": "ABX9TyOYvizTQXKZTHU+LR2qKD9H",
      "include_colab_link": true
    },
    "kernelspec": {
      "name": "python3",
      "display_name": "Python 3"
    },
    "language_info": {
      "name": "python"
    },
    "accelerator": "GPU",
    "gpuClass": "standard"
  },
  "cells": [
    {
      "cell_type": "markdown",
      "metadata": {
        "id": "view-in-github",
        "colab_type": "text"
      },
      "source": [
        "<a href=\"https://colab.research.google.com/github/JunSeokCheon/eCommerce_weblog_analysis/blob/master/eCommerce_weblog_preprocessing.ipynb\" target=\"_parent\"><img src=\"https://colab.research.google.com/assets/colab-badge.svg\" alt=\"Open In Colab\"/></a>"
      ]
    },
    {
      "cell_type": "markdown",
      "source": [
        "# - 이번 프로젝트는 kaggle에서 제공하는 데이터셋인 eCommerce 웹 로그 데이터 분석 프로젝트이다.\n",
        "### 1. 데이터 전처리\n",
        "### 2. 데이터 분석 & 시각화\n",
        "\n",
        "#### 해당 파일은 데이터 전처리 과정이다."
      ],
      "metadata": {
        "id": "gNJ_TB3otJ8K"
      }
    },
    {
      "cell_type": "code",
      "source": [
        "from google.colab import drive\n",
        "drive.mount('/content/drive')"
      ],
      "metadata": {
        "colab": {
          "base_uri": "https://localhost:8080/"
        },
        "id": "-2b--0dEUKBm",
        "outputId": "138e2108-b9f9-4fbc-fa22-e193a36828f0"
      },
      "execution_count": 1,
      "outputs": [
        {
          "output_type": "stream",
          "name": "stdout",
          "text": [
            "Drive already mounted at /content/drive; to attempt to forcibly remount, call drive.mount(\"/content/drive\", force_remount=True).\n"
          ]
        }
      ]
    },
    {
      "cell_type": "code",
      "execution_count": 2,
      "metadata": {
        "colab": {
          "base_uri": "https://localhost:8080/"
        },
        "id": "D_5ZBfV5BLEN",
        "outputId": "1dcee2e2-9793-4ce9-c899-90f474f228df"
      },
      "outputs": [
        {
          "output_type": "stream",
          "name": "stdout",
          "text": [
            "/content/drive/MyDrive/ecommerce_log_analysis\n"
          ]
        }
      ],
      "source": [
        "cd /content/drive/MyDrive/ecommerce_log_analysis"
      ]
    },
    {
      "cell_type": "code",
      "source": [
        "ls"
      ],
      "metadata": {
        "colab": {
          "base_uri": "https://localhost:8080/"
        },
        "id": "txO8I7NPDRYS",
        "outputId": "fa687844-f004-46f7-dab4-e271a5df3977"
      },
      "execution_count": 3,
      "outputs": [
        {
          "output_type": "stream",
          "name": "stdout",
          "text": [
            "2019-Nov.csv     ecommerce-behavior-data-from-multi-category-store.zip\n",
            "2019-Oct.csv     eCommerce_weblog_preprocessing.ipynb\n",
            "data_load.ipynb  kaggle.json\n"
          ]
        }
      ]
    },
    {
      "cell_type": "markdown",
      "source": [
        "## 데이터 load & import"
      ],
      "metadata": {
        "id": "8O9J82AVtI0e"
      }
    },
    {
      "cell_type": "code",
      "source": [
        "import pandas as pd\n",
        "import numpy as np\n",
        "import matplotlib.pyplot as plt\n",
        "import seaborn as sns\n",
        "from datetime import datetime, timedelta\n",
        "\n",
        "%matplotlib inline"
      ],
      "metadata": {
        "id": "32bt3o5FDSay"
      },
      "execution_count": 4,
      "outputs": []
    },
    {
      "cell_type": "code",
      "source": [
        "ecommerce_df = pd.read_csv(\"2019-Oct.csv\")"
      ],
      "metadata": {
        "id": "ly2QpfDTIaem"
      },
      "execution_count": 5,
      "outputs": []
    },
    {
      "cell_type": "code",
      "source": [
        "temp_data = ecommerce_df"
      ],
      "metadata": {
        "id": "ChGxEhBbvv1k"
      },
      "execution_count": 6,
      "outputs": []
    },
    {
      "cell_type": "markdown",
      "source": [
        "#### 4200만개 데이터와 9개의 컬럼(event_time, event_type, product_id, category_id, category_code, brand, price, user_id, user_session)으로 구성되어 있다.\n",
        "#### 결측값(NaN)과 텍스트 통일 등 여러 가지 전처리를 확인하자.\n",
        "#### 컬럼들에 대한 데이터 타입을 보면 event_time에 대한 처리가 필요할 것으로 보인다."
      ],
      "metadata": {
        "id": "0UbGVOu0uW0s"
      }
    },
    {
      "cell_type": "code",
      "source": [
        "ecommerce_df.shape"
      ],
      "metadata": {
        "colab": {
          "base_uri": "https://localhost:8080/"
        },
        "id": "4WqBItYSp0bR",
        "outputId": "48433950-e35c-44f3-d91a-d987901ad3c9"
      },
      "execution_count": 7,
      "outputs": [
        {
          "output_type": "execute_result",
          "data": {
            "text/plain": [
              "(42448764, 9)"
            ]
          },
          "metadata": {},
          "execution_count": 7
        }
      ]
    },
    {
      "cell_type": "code",
      "source": [
        "ecommerce_df.head()"
      ],
      "metadata": {
        "colab": {
          "base_uri": "https://localhost:8080/",
          "height": 206
        },
        "id": "wyqRskd9Ien-",
        "outputId": "306e9796-e513-4518-f0f7-04ab920c854d"
      },
      "execution_count": 8,
      "outputs": [
        {
          "output_type": "execute_result",
          "data": {
            "text/plain": [
              "                event_time event_type  product_id          category_id  \\\n",
              "0  2019-10-01 00:00:00 UTC       view    44600062  2103807459595387724   \n",
              "1  2019-10-01 00:00:00 UTC       view     3900821  2053013552326770905   \n",
              "2  2019-10-01 00:00:01 UTC       view    17200506  2053013559792632471   \n",
              "3  2019-10-01 00:00:01 UTC       view     1307067  2053013558920217191   \n",
              "4  2019-10-01 00:00:04 UTC       view     1004237  2053013555631882655   \n",
              "\n",
              "                         category_code     brand    price    user_id  \\\n",
              "0                                  NaN  shiseido    35.79  541312140   \n",
              "1  appliances.environment.water_heater      aqua    33.20  554748717   \n",
              "2           furniture.living_room.sofa       NaN   543.10  519107250   \n",
              "3                   computers.notebook    lenovo   251.74  550050854   \n",
              "4               electronics.smartphone     apple  1081.98  535871217   \n",
              "\n",
              "                           user_session  \n",
              "0  72d76fde-8bb3-4e00-8c23-a032dfed738c  \n",
              "1  9333dfbd-b87a-4708-9857-6336556b0fcc  \n",
              "2  566511c2-e2e3-422b-b695-cf8e6e792ca8  \n",
              "3  7c90fc70-0e80-4590-96f3-13c02c18c713  \n",
              "4  c6bd7419-2748-4c56-95b4-8cec9ff8b80d  "
            ],
            "text/html": [
              "\n",
              "  <div id=\"df-81375973-60d0-4a74-9334-baa64ff78965\">\n",
              "    <div class=\"colab-df-container\">\n",
              "      <div>\n",
              "<style scoped>\n",
              "    .dataframe tbody tr th:only-of-type {\n",
              "        vertical-align: middle;\n",
              "    }\n",
              "\n",
              "    .dataframe tbody tr th {\n",
              "        vertical-align: top;\n",
              "    }\n",
              "\n",
              "    .dataframe thead th {\n",
              "        text-align: right;\n",
              "    }\n",
              "</style>\n",
              "<table border=\"1\" class=\"dataframe\">\n",
              "  <thead>\n",
              "    <tr style=\"text-align: right;\">\n",
              "      <th></th>\n",
              "      <th>event_time</th>\n",
              "      <th>event_type</th>\n",
              "      <th>product_id</th>\n",
              "      <th>category_id</th>\n",
              "      <th>category_code</th>\n",
              "      <th>brand</th>\n",
              "      <th>price</th>\n",
              "      <th>user_id</th>\n",
              "      <th>user_session</th>\n",
              "    </tr>\n",
              "  </thead>\n",
              "  <tbody>\n",
              "    <tr>\n",
              "      <th>0</th>\n",
              "      <td>2019-10-01 00:00:00 UTC</td>\n",
              "      <td>view</td>\n",
              "      <td>44600062</td>\n",
              "      <td>2103807459595387724</td>\n",
              "      <td>NaN</td>\n",
              "      <td>shiseido</td>\n",
              "      <td>35.79</td>\n",
              "      <td>541312140</td>\n",
              "      <td>72d76fde-8bb3-4e00-8c23-a032dfed738c</td>\n",
              "    </tr>\n",
              "    <tr>\n",
              "      <th>1</th>\n",
              "      <td>2019-10-01 00:00:00 UTC</td>\n",
              "      <td>view</td>\n",
              "      <td>3900821</td>\n",
              "      <td>2053013552326770905</td>\n",
              "      <td>appliances.environment.water_heater</td>\n",
              "      <td>aqua</td>\n",
              "      <td>33.20</td>\n",
              "      <td>554748717</td>\n",
              "      <td>9333dfbd-b87a-4708-9857-6336556b0fcc</td>\n",
              "    </tr>\n",
              "    <tr>\n",
              "      <th>2</th>\n",
              "      <td>2019-10-01 00:00:01 UTC</td>\n",
              "      <td>view</td>\n",
              "      <td>17200506</td>\n",
              "      <td>2053013559792632471</td>\n",
              "      <td>furniture.living_room.sofa</td>\n",
              "      <td>NaN</td>\n",
              "      <td>543.10</td>\n",
              "      <td>519107250</td>\n",
              "      <td>566511c2-e2e3-422b-b695-cf8e6e792ca8</td>\n",
              "    </tr>\n",
              "    <tr>\n",
              "      <th>3</th>\n",
              "      <td>2019-10-01 00:00:01 UTC</td>\n",
              "      <td>view</td>\n",
              "      <td>1307067</td>\n",
              "      <td>2053013558920217191</td>\n",
              "      <td>computers.notebook</td>\n",
              "      <td>lenovo</td>\n",
              "      <td>251.74</td>\n",
              "      <td>550050854</td>\n",
              "      <td>7c90fc70-0e80-4590-96f3-13c02c18c713</td>\n",
              "    </tr>\n",
              "    <tr>\n",
              "      <th>4</th>\n",
              "      <td>2019-10-01 00:00:04 UTC</td>\n",
              "      <td>view</td>\n",
              "      <td>1004237</td>\n",
              "      <td>2053013555631882655</td>\n",
              "      <td>electronics.smartphone</td>\n",
              "      <td>apple</td>\n",
              "      <td>1081.98</td>\n",
              "      <td>535871217</td>\n",
              "      <td>c6bd7419-2748-4c56-95b4-8cec9ff8b80d</td>\n",
              "    </tr>\n",
              "  </tbody>\n",
              "</table>\n",
              "</div>\n",
              "      <button class=\"colab-df-convert\" onclick=\"convertToInteractive('df-81375973-60d0-4a74-9334-baa64ff78965')\"\n",
              "              title=\"Convert this dataframe to an interactive table.\"\n",
              "              style=\"display:none;\">\n",
              "        \n",
              "  <svg xmlns=\"http://www.w3.org/2000/svg\" height=\"24px\"viewBox=\"0 0 24 24\"\n",
              "       width=\"24px\">\n",
              "    <path d=\"M0 0h24v24H0V0z\" fill=\"none\"/>\n",
              "    <path d=\"M18.56 5.44l.94 2.06.94-2.06 2.06-.94-2.06-.94-.94-2.06-.94 2.06-2.06.94zm-11 1L8.5 8.5l.94-2.06 2.06-.94-2.06-.94L8.5 2.5l-.94 2.06-2.06.94zm10 10l.94 2.06.94-2.06 2.06-.94-2.06-.94-.94-2.06-.94 2.06-2.06.94z\"/><path d=\"M17.41 7.96l-1.37-1.37c-.4-.4-.92-.59-1.43-.59-.52 0-1.04.2-1.43.59L10.3 9.45l-7.72 7.72c-.78.78-.78 2.05 0 2.83L4 21.41c.39.39.9.59 1.41.59.51 0 1.02-.2 1.41-.59l7.78-7.78 2.81-2.81c.8-.78.8-2.07 0-2.86zM5.41 20L4 18.59l7.72-7.72 1.47 1.35L5.41 20z\"/>\n",
              "  </svg>\n",
              "      </button>\n",
              "      \n",
              "  <style>\n",
              "    .colab-df-container {\n",
              "      display:flex;\n",
              "      flex-wrap:wrap;\n",
              "      gap: 12px;\n",
              "    }\n",
              "\n",
              "    .colab-df-convert {\n",
              "      background-color: #E8F0FE;\n",
              "      border: none;\n",
              "      border-radius: 50%;\n",
              "      cursor: pointer;\n",
              "      display: none;\n",
              "      fill: #1967D2;\n",
              "      height: 32px;\n",
              "      padding: 0 0 0 0;\n",
              "      width: 32px;\n",
              "    }\n",
              "\n",
              "    .colab-df-convert:hover {\n",
              "      background-color: #E2EBFA;\n",
              "      box-shadow: 0px 1px 2px rgba(60, 64, 67, 0.3), 0px 1px 3px 1px rgba(60, 64, 67, 0.15);\n",
              "      fill: #174EA6;\n",
              "    }\n",
              "\n",
              "    [theme=dark] .colab-df-convert {\n",
              "      background-color: #3B4455;\n",
              "      fill: #D2E3FC;\n",
              "    }\n",
              "\n",
              "    [theme=dark] .colab-df-convert:hover {\n",
              "      background-color: #434B5C;\n",
              "      box-shadow: 0px 1px 3px 1px rgba(0, 0, 0, 0.15);\n",
              "      filter: drop-shadow(0px 1px 2px rgba(0, 0, 0, 0.3));\n",
              "      fill: #FFFFFF;\n",
              "    }\n",
              "  </style>\n",
              "\n",
              "      <script>\n",
              "        const buttonEl =\n",
              "          document.querySelector('#df-81375973-60d0-4a74-9334-baa64ff78965 button.colab-df-convert');\n",
              "        buttonEl.style.display =\n",
              "          google.colab.kernel.accessAllowed ? 'block' : 'none';\n",
              "\n",
              "        async function convertToInteractive(key) {\n",
              "          const element = document.querySelector('#df-81375973-60d0-4a74-9334-baa64ff78965');\n",
              "          const dataTable =\n",
              "            await google.colab.kernel.invokeFunction('convertToInteractive',\n",
              "                                                     [key], {});\n",
              "          if (!dataTable) return;\n",
              "\n",
              "          const docLinkHtml = 'Like what you see? Visit the ' +\n",
              "            '<a target=\"_blank\" href=https://colab.research.google.com/notebooks/data_table.ipynb>data table notebook</a>'\n",
              "            + ' to learn more about interactive tables.';\n",
              "          element.innerHTML = '';\n",
              "          dataTable['output_type'] = 'display_data';\n",
              "          await google.colab.output.renderOutput(dataTable, element);\n",
              "          const docLink = document.createElement('div');\n",
              "          docLink.innerHTML = docLinkHtml;\n",
              "          element.appendChild(docLink);\n",
              "        }\n",
              "      </script>\n",
              "    </div>\n",
              "  </div>\n",
              "  "
            ]
          },
          "metadata": {},
          "execution_count": 8
        }
      ]
    },
    {
      "cell_type": "code",
      "source": [
        "ecommerce_df.info()"
      ],
      "metadata": {
        "colab": {
          "base_uri": "https://localhost:8080/"
        },
        "id": "uslgG-LIppmI",
        "outputId": "14324107-19fb-4da8-d5ef-0b64df2f1df4"
      },
      "execution_count": 9,
      "outputs": [
        {
          "output_type": "stream",
          "name": "stdout",
          "text": [
            "<class 'pandas.core.frame.DataFrame'>\n",
            "RangeIndex: 42448764 entries, 0 to 42448763\n",
            "Data columns (total 9 columns):\n",
            " #   Column         Dtype  \n",
            "---  ------         -----  \n",
            " 0   event_time     object \n",
            " 1   event_type     object \n",
            " 2   product_id     int64  \n",
            " 3   category_id    int64  \n",
            " 4   category_code  object \n",
            " 5   brand          object \n",
            " 6   price          float64\n",
            " 7   user_id        int64  \n",
            " 8   user_session   object \n",
            "dtypes: float64(1), int64(3), object(5)\n",
            "memory usage: 2.8+ GB\n"
          ]
        }
      ]
    },
    {
      "cell_type": "markdown",
      "source": [
        "## 각 컬럼들을 상세히 알아보기 전에 데이터 수가 많기 때문에 결측값(NaN)이 있는 데이터는 삭제하자."
      ],
      "metadata": {
        "id": "lMQcYvsQyv3X"
      }
    },
    {
      "cell_type": "code",
      "source": [
        "aft_ecommerce_df = ecommerce_df.dropna().reset_index(drop=True)"
      ],
      "metadata": {
        "id": "2YgvqvkDyvXw"
      },
      "execution_count": 10,
      "outputs": []
    },
    {
      "cell_type": "code",
      "source": [
        "aft_ecommerce_df.shape"
      ],
      "metadata": {
        "colab": {
          "base_uri": "https://localhost:8080/"
        },
        "id": "XCQ_UVKqzeUx",
        "outputId": "bce9d126-bc35-4d78-b1f4-a29768d370fa"
      },
      "execution_count": 11,
      "outputs": [
        {
          "output_type": "execute_result",
          "data": {
            "text/plain": [
              "(26560620, 9)"
            ]
          },
          "metadata": {},
          "execution_count": 11
        }
      ]
    },
    {
      "cell_type": "markdown",
      "source": [
        "## event_time"
      ],
      "metadata": {
        "id": "Fc5Bx5sGv4wa"
      }
    },
    {
      "cell_type": "markdown",
      "source": [
        "#### 데이터의 time은 2019년 10월 데이터이다.\n",
        "#### 데이터의 timezone이 UTC 기준이므로 KST로 변경하자. (KST는 UTC보다 9시간 빠르다)"
      ],
      "metadata": {
        "id": "HnW2D-S6xUFD"
      }
    },
    {
      "cell_type": "code",
      "source": [
        "print(aft_ecommerce_df['event_time'].min())\n",
        "print(aft_ecommerce_df['event_time'].max())"
      ],
      "metadata": {
        "colab": {
          "base_uri": "https://localhost:8080/"
        },
        "id": "ulEuwOfQv4IC",
        "outputId": "a4348d11-ddba-461b-e7f4-d7277f2be105"
      },
      "execution_count": 12,
      "outputs": [
        {
          "output_type": "stream",
          "name": "stdout",
          "text": [
            "2019-10-01 00:00:00 UTC\n",
            "2019-10-31 23:59:59 UTC\n"
          ]
        }
      ]
    },
    {
      "cell_type": "code",
      "source": [
        "aft_ecommerce_df['event_time'].head()"
      ],
      "metadata": {
        "colab": {
          "base_uri": "https://localhost:8080/"
        },
        "id": "EXOeFdVsxf-N",
        "outputId": "5121de80-b271-488d-d83a-f2a17dbb40ad"
      },
      "execution_count": 13,
      "outputs": [
        {
          "output_type": "execute_result",
          "data": {
            "text/plain": [
              "0    2019-10-01 00:00:00 UTC\n",
              "1    2019-10-01 00:00:01 UTC\n",
              "2    2019-10-01 00:00:04 UTC\n",
              "3    2019-10-01 00:00:05 UTC\n",
              "4    2019-10-01 00:00:10 UTC\n",
              "Name: event_time, dtype: object"
            ]
          },
          "metadata": {},
          "execution_count": 13
        }
      ]
    },
    {
      "cell_type": "markdown",
      "source": [
        "#### UTC -> KST 변경 방법 \n",
        "1. event_time에서 UTC 문자열을 제외한 date 데이터만 추출해서 리스트에 저장한다. \n",
        "2. convert_kst 함수에서 9시간을 더해서 utc -> kst로 변환한다.\n",
        "3. 새로운 컬럼(kst_time)을 만들어서 변환한 데이터를 추가한다.\n",
        "4. 필요없어진 event_time을 삭제한다.\n",
        "5. kst_time의 데이터 타입을 datetime으로 변환한다. "
      ],
      "metadata": {
        "id": "yVB7u5ZJ1c5V"
      }
    },
    {
      "cell_type": "code",
      "source": [
        "utc_list = []\n",
        "for date in aft_ecommerce_df['event_time']:\n",
        "  utc_list.append(date[:19])"
      ],
      "metadata": {
        "id": "C7Wb18IFwBB-"
      },
      "execution_count": 14,
      "outputs": []
    },
    {
      "cell_type": "code",
      "source": [
        "utc_list[:10]"
      ],
      "metadata": {
        "colab": {
          "base_uri": "https://localhost:8080/"
        },
        "id": "iAc_jm7AwBEY",
        "outputId": "1b92d2c4-312d-466a-d560-43c5d34acdf3"
      },
      "execution_count": 15,
      "outputs": [
        {
          "output_type": "execute_result",
          "data": {
            "text/plain": [
              "['2019-10-01 00:00:00',\n",
              " '2019-10-01 00:00:01',\n",
              " '2019-10-01 00:00:04',\n",
              " '2019-10-01 00:00:05',\n",
              " '2019-10-01 00:00:10',\n",
              " '2019-10-01 00:00:11',\n",
              " '2019-10-01 00:00:11',\n",
              " '2019-10-01 00:00:11',\n",
              " '2019-10-01 00:00:13',\n",
              " '2019-10-01 00:00:16']"
            ]
          },
          "metadata": {},
          "execution_count": 15
        }
      ]
    },
    {
      "cell_type": "code",
      "source": [
        "def convert_kst(utc_string):\n",
        "  utc_dt = datetime.strptime(utc_string, '%Y-%m-%d %H:%M:%S')\n",
        "  kst_dt = utc_dt + timedelta(hours=9)\n",
        "  str_datetime = kst_dt.strftime('%Y-%m-%d %H:%M:%S')\n",
        "\n",
        "  return str_datetime"
      ],
      "metadata": {
        "id": "_j1qSt58wBGq"
      },
      "execution_count": 16,
      "outputs": []
    },
    {
      "cell_type": "code",
      "source": [
        "kst_list = []\n",
        "for utc in utc_list:\n",
        "  kst_list.append(convert_kst(utc))"
      ],
      "metadata": {
        "id": "MuzYBZT9wBI6"
      },
      "execution_count": 17,
      "outputs": []
    },
    {
      "cell_type": "code",
      "source": [
        "kst_list[:10]"
      ],
      "metadata": {
        "colab": {
          "base_uri": "https://localhost:8080/"
        },
        "id": "3h0lTdrn1Wh0",
        "outputId": "d2c2297f-d533-4e9e-cde9-4c838ef79416"
      },
      "execution_count": 18,
      "outputs": [
        {
          "output_type": "execute_result",
          "data": {
            "text/plain": [
              "['2019-10-01 09:00:00',\n",
              " '2019-10-01 09:00:01',\n",
              " '2019-10-01 09:00:04',\n",
              " '2019-10-01 09:00:05',\n",
              " '2019-10-01 09:00:10',\n",
              " '2019-10-01 09:00:11',\n",
              " '2019-10-01 09:00:11',\n",
              " '2019-10-01 09:00:11',\n",
              " '2019-10-01 09:00:13',\n",
              " '2019-10-01 09:00:16']"
            ]
          },
          "metadata": {},
          "execution_count": 18
        }
      ]
    },
    {
      "cell_type": "code",
      "source": [
        "len(kst_list)"
      ],
      "metadata": {
        "colab": {
          "base_uri": "https://localhost:8080/"
        },
        "id": "sVKZfBkY89XM",
        "outputId": "ff2157be-0d1a-4460-f367-655f36e88ce8"
      },
      "execution_count": 19,
      "outputs": [
        {
          "output_type": "execute_result",
          "data": {
            "text/plain": [
              "26560620"
            ]
          },
          "metadata": {},
          "execution_count": 19
        }
      ]
    },
    {
      "cell_type": "code",
      "source": [
        "aft_ecommerce_df['kst_time'] = pd.DataFrame(kst_list)"
      ],
      "metadata": {
        "id": "98rAsMYc4EyR"
      },
      "execution_count": 20,
      "outputs": []
    },
    {
      "cell_type": "code",
      "source": [
        "aft_ecommerce_df.head()"
      ],
      "metadata": {
        "colab": {
          "base_uri": "https://localhost:8080/",
          "height": 206
        },
        "id": "DWJeruX14FLe",
        "outputId": "12e0cb7f-5e19-4998-a8ae-fe219155f79f"
      },
      "execution_count": 21,
      "outputs": [
        {
          "output_type": "execute_result",
          "data": {
            "text/plain": [
              "                event_time event_type  product_id          category_id  \\\n",
              "0  2019-10-01 00:00:00 UTC       view     3900821  2053013552326770905   \n",
              "1  2019-10-01 00:00:01 UTC       view     1307067  2053013558920217191   \n",
              "2  2019-10-01 00:00:04 UTC       view     1004237  2053013555631882655   \n",
              "3  2019-10-01 00:00:05 UTC       view     1480613  2053013561092866779   \n",
              "4  2019-10-01 00:00:10 UTC       view    28719074  2053013565480109009   \n",
              "\n",
              "                         category_code   brand    price    user_id  \\\n",
              "0  appliances.environment.water_heater    aqua    33.20  554748717   \n",
              "1                   computers.notebook  lenovo   251.74  550050854   \n",
              "2               electronics.smartphone   apple  1081.98  535871217   \n",
              "3                    computers.desktop  pulser   908.62  512742880   \n",
              "4                   apparel.shoes.keds   baden   102.71  520571932   \n",
              "\n",
              "                           user_session             kst_time  \n",
              "0  9333dfbd-b87a-4708-9857-6336556b0fcc  2019-10-01 09:00:00  \n",
              "1  7c90fc70-0e80-4590-96f3-13c02c18c713  2019-10-01 09:00:01  \n",
              "2  c6bd7419-2748-4c56-95b4-8cec9ff8b80d  2019-10-01 09:00:04  \n",
              "3  0d0d91c2-c9c2-4e81-90a5-86594dec0db9  2019-10-01 09:00:05  \n",
              "4  ac1cd4e5-a3ce-4224-a2d7-ff660a105880  2019-10-01 09:00:10  "
            ],
            "text/html": [
              "\n",
              "  <div id=\"df-1bc7191e-54b1-4cd4-b792-09876e8a5329\">\n",
              "    <div class=\"colab-df-container\">\n",
              "      <div>\n",
              "<style scoped>\n",
              "    .dataframe tbody tr th:only-of-type {\n",
              "        vertical-align: middle;\n",
              "    }\n",
              "\n",
              "    .dataframe tbody tr th {\n",
              "        vertical-align: top;\n",
              "    }\n",
              "\n",
              "    .dataframe thead th {\n",
              "        text-align: right;\n",
              "    }\n",
              "</style>\n",
              "<table border=\"1\" class=\"dataframe\">\n",
              "  <thead>\n",
              "    <tr style=\"text-align: right;\">\n",
              "      <th></th>\n",
              "      <th>event_time</th>\n",
              "      <th>event_type</th>\n",
              "      <th>product_id</th>\n",
              "      <th>category_id</th>\n",
              "      <th>category_code</th>\n",
              "      <th>brand</th>\n",
              "      <th>price</th>\n",
              "      <th>user_id</th>\n",
              "      <th>user_session</th>\n",
              "      <th>kst_time</th>\n",
              "    </tr>\n",
              "  </thead>\n",
              "  <tbody>\n",
              "    <tr>\n",
              "      <th>0</th>\n",
              "      <td>2019-10-01 00:00:00 UTC</td>\n",
              "      <td>view</td>\n",
              "      <td>3900821</td>\n",
              "      <td>2053013552326770905</td>\n",
              "      <td>appliances.environment.water_heater</td>\n",
              "      <td>aqua</td>\n",
              "      <td>33.20</td>\n",
              "      <td>554748717</td>\n",
              "      <td>9333dfbd-b87a-4708-9857-6336556b0fcc</td>\n",
              "      <td>2019-10-01 09:00:00</td>\n",
              "    </tr>\n",
              "    <tr>\n",
              "      <th>1</th>\n",
              "      <td>2019-10-01 00:00:01 UTC</td>\n",
              "      <td>view</td>\n",
              "      <td>1307067</td>\n",
              "      <td>2053013558920217191</td>\n",
              "      <td>computers.notebook</td>\n",
              "      <td>lenovo</td>\n",
              "      <td>251.74</td>\n",
              "      <td>550050854</td>\n",
              "      <td>7c90fc70-0e80-4590-96f3-13c02c18c713</td>\n",
              "      <td>2019-10-01 09:00:01</td>\n",
              "    </tr>\n",
              "    <tr>\n",
              "      <th>2</th>\n",
              "      <td>2019-10-01 00:00:04 UTC</td>\n",
              "      <td>view</td>\n",
              "      <td>1004237</td>\n",
              "      <td>2053013555631882655</td>\n",
              "      <td>electronics.smartphone</td>\n",
              "      <td>apple</td>\n",
              "      <td>1081.98</td>\n",
              "      <td>535871217</td>\n",
              "      <td>c6bd7419-2748-4c56-95b4-8cec9ff8b80d</td>\n",
              "      <td>2019-10-01 09:00:04</td>\n",
              "    </tr>\n",
              "    <tr>\n",
              "      <th>3</th>\n",
              "      <td>2019-10-01 00:00:05 UTC</td>\n",
              "      <td>view</td>\n",
              "      <td>1480613</td>\n",
              "      <td>2053013561092866779</td>\n",
              "      <td>computers.desktop</td>\n",
              "      <td>pulser</td>\n",
              "      <td>908.62</td>\n",
              "      <td>512742880</td>\n",
              "      <td>0d0d91c2-c9c2-4e81-90a5-86594dec0db9</td>\n",
              "      <td>2019-10-01 09:00:05</td>\n",
              "    </tr>\n",
              "    <tr>\n",
              "      <th>4</th>\n",
              "      <td>2019-10-01 00:00:10 UTC</td>\n",
              "      <td>view</td>\n",
              "      <td>28719074</td>\n",
              "      <td>2053013565480109009</td>\n",
              "      <td>apparel.shoes.keds</td>\n",
              "      <td>baden</td>\n",
              "      <td>102.71</td>\n",
              "      <td>520571932</td>\n",
              "      <td>ac1cd4e5-a3ce-4224-a2d7-ff660a105880</td>\n",
              "      <td>2019-10-01 09:00:10</td>\n",
              "    </tr>\n",
              "  </tbody>\n",
              "</table>\n",
              "</div>\n",
              "      <button class=\"colab-df-convert\" onclick=\"convertToInteractive('df-1bc7191e-54b1-4cd4-b792-09876e8a5329')\"\n",
              "              title=\"Convert this dataframe to an interactive table.\"\n",
              "              style=\"display:none;\">\n",
              "        \n",
              "  <svg xmlns=\"http://www.w3.org/2000/svg\" height=\"24px\"viewBox=\"0 0 24 24\"\n",
              "       width=\"24px\">\n",
              "    <path d=\"M0 0h24v24H0V0z\" fill=\"none\"/>\n",
              "    <path d=\"M18.56 5.44l.94 2.06.94-2.06 2.06-.94-2.06-.94-.94-2.06-.94 2.06-2.06.94zm-11 1L8.5 8.5l.94-2.06 2.06-.94-2.06-.94L8.5 2.5l-.94 2.06-2.06.94zm10 10l.94 2.06.94-2.06 2.06-.94-2.06-.94-.94-2.06-.94 2.06-2.06.94z\"/><path d=\"M17.41 7.96l-1.37-1.37c-.4-.4-.92-.59-1.43-.59-.52 0-1.04.2-1.43.59L10.3 9.45l-7.72 7.72c-.78.78-.78 2.05 0 2.83L4 21.41c.39.39.9.59 1.41.59.51 0 1.02-.2 1.41-.59l7.78-7.78 2.81-2.81c.8-.78.8-2.07 0-2.86zM5.41 20L4 18.59l7.72-7.72 1.47 1.35L5.41 20z\"/>\n",
              "  </svg>\n",
              "      </button>\n",
              "      \n",
              "  <style>\n",
              "    .colab-df-container {\n",
              "      display:flex;\n",
              "      flex-wrap:wrap;\n",
              "      gap: 12px;\n",
              "    }\n",
              "\n",
              "    .colab-df-convert {\n",
              "      background-color: #E8F0FE;\n",
              "      border: none;\n",
              "      border-radius: 50%;\n",
              "      cursor: pointer;\n",
              "      display: none;\n",
              "      fill: #1967D2;\n",
              "      height: 32px;\n",
              "      padding: 0 0 0 0;\n",
              "      width: 32px;\n",
              "    }\n",
              "\n",
              "    .colab-df-convert:hover {\n",
              "      background-color: #E2EBFA;\n",
              "      box-shadow: 0px 1px 2px rgba(60, 64, 67, 0.3), 0px 1px 3px 1px rgba(60, 64, 67, 0.15);\n",
              "      fill: #174EA6;\n",
              "    }\n",
              "\n",
              "    [theme=dark] .colab-df-convert {\n",
              "      background-color: #3B4455;\n",
              "      fill: #D2E3FC;\n",
              "    }\n",
              "\n",
              "    [theme=dark] .colab-df-convert:hover {\n",
              "      background-color: #434B5C;\n",
              "      box-shadow: 0px 1px 3px 1px rgba(0, 0, 0, 0.15);\n",
              "      filter: drop-shadow(0px 1px 2px rgba(0, 0, 0, 0.3));\n",
              "      fill: #FFFFFF;\n",
              "    }\n",
              "  </style>\n",
              "\n",
              "      <script>\n",
              "        const buttonEl =\n",
              "          document.querySelector('#df-1bc7191e-54b1-4cd4-b792-09876e8a5329 button.colab-df-convert');\n",
              "        buttonEl.style.display =\n",
              "          google.colab.kernel.accessAllowed ? 'block' : 'none';\n",
              "\n",
              "        async function convertToInteractive(key) {\n",
              "          const element = document.querySelector('#df-1bc7191e-54b1-4cd4-b792-09876e8a5329');\n",
              "          const dataTable =\n",
              "            await google.colab.kernel.invokeFunction('convertToInteractive',\n",
              "                                                     [key], {});\n",
              "          if (!dataTable) return;\n",
              "\n",
              "          const docLinkHtml = 'Like what you see? Visit the ' +\n",
              "            '<a target=\"_blank\" href=https://colab.research.google.com/notebooks/data_table.ipynb>data table notebook</a>'\n",
              "            + ' to learn more about interactive tables.';\n",
              "          element.innerHTML = '';\n",
              "          dataTable['output_type'] = 'display_data';\n",
              "          await google.colab.output.renderOutput(dataTable, element);\n",
              "          const docLink = document.createElement('div');\n",
              "          docLink.innerHTML = docLinkHtml;\n",
              "          element.appendChild(docLink);\n",
              "        }\n",
              "      </script>\n",
              "    </div>\n",
              "  </div>\n",
              "  "
            ]
          },
          "metadata": {},
          "execution_count": 21
        }
      ]
    },
    {
      "cell_type": "code",
      "source": [
        "aft_ecommerce_df = aft_ecommerce_df.drop(['event_time'], axis = 1)\n",
        "aft_ecommerce_df.head()"
      ],
      "metadata": {
        "colab": {
          "base_uri": "https://localhost:8080/",
          "height": 206
        },
        "id": "FnLCG7dB4FOH",
        "outputId": "9f7d7a7e-3185-4062-d9f8-1b7b945d3a23"
      },
      "execution_count": 22,
      "outputs": [
        {
          "output_type": "execute_result",
          "data": {
            "text/plain": [
              "  event_type  product_id          category_id  \\\n",
              "0       view     3900821  2053013552326770905   \n",
              "1       view     1307067  2053013558920217191   \n",
              "2       view     1004237  2053013555631882655   \n",
              "3       view     1480613  2053013561092866779   \n",
              "4       view    28719074  2053013565480109009   \n",
              "\n",
              "                         category_code   brand    price    user_id  \\\n",
              "0  appliances.environment.water_heater    aqua    33.20  554748717   \n",
              "1                   computers.notebook  lenovo   251.74  550050854   \n",
              "2               electronics.smartphone   apple  1081.98  535871217   \n",
              "3                    computers.desktop  pulser   908.62  512742880   \n",
              "4                   apparel.shoes.keds   baden   102.71  520571932   \n",
              "\n",
              "                           user_session             kst_time  \n",
              "0  9333dfbd-b87a-4708-9857-6336556b0fcc  2019-10-01 09:00:00  \n",
              "1  7c90fc70-0e80-4590-96f3-13c02c18c713  2019-10-01 09:00:01  \n",
              "2  c6bd7419-2748-4c56-95b4-8cec9ff8b80d  2019-10-01 09:00:04  \n",
              "3  0d0d91c2-c9c2-4e81-90a5-86594dec0db9  2019-10-01 09:00:05  \n",
              "4  ac1cd4e5-a3ce-4224-a2d7-ff660a105880  2019-10-01 09:00:10  "
            ],
            "text/html": [
              "\n",
              "  <div id=\"df-b3621ed3-b088-4c37-9676-d53c8ec71e1c\">\n",
              "    <div class=\"colab-df-container\">\n",
              "      <div>\n",
              "<style scoped>\n",
              "    .dataframe tbody tr th:only-of-type {\n",
              "        vertical-align: middle;\n",
              "    }\n",
              "\n",
              "    .dataframe tbody tr th {\n",
              "        vertical-align: top;\n",
              "    }\n",
              "\n",
              "    .dataframe thead th {\n",
              "        text-align: right;\n",
              "    }\n",
              "</style>\n",
              "<table border=\"1\" class=\"dataframe\">\n",
              "  <thead>\n",
              "    <tr style=\"text-align: right;\">\n",
              "      <th></th>\n",
              "      <th>event_type</th>\n",
              "      <th>product_id</th>\n",
              "      <th>category_id</th>\n",
              "      <th>category_code</th>\n",
              "      <th>brand</th>\n",
              "      <th>price</th>\n",
              "      <th>user_id</th>\n",
              "      <th>user_session</th>\n",
              "      <th>kst_time</th>\n",
              "    </tr>\n",
              "  </thead>\n",
              "  <tbody>\n",
              "    <tr>\n",
              "      <th>0</th>\n",
              "      <td>view</td>\n",
              "      <td>3900821</td>\n",
              "      <td>2053013552326770905</td>\n",
              "      <td>appliances.environment.water_heater</td>\n",
              "      <td>aqua</td>\n",
              "      <td>33.20</td>\n",
              "      <td>554748717</td>\n",
              "      <td>9333dfbd-b87a-4708-9857-6336556b0fcc</td>\n",
              "      <td>2019-10-01 09:00:00</td>\n",
              "    </tr>\n",
              "    <tr>\n",
              "      <th>1</th>\n",
              "      <td>view</td>\n",
              "      <td>1307067</td>\n",
              "      <td>2053013558920217191</td>\n",
              "      <td>computers.notebook</td>\n",
              "      <td>lenovo</td>\n",
              "      <td>251.74</td>\n",
              "      <td>550050854</td>\n",
              "      <td>7c90fc70-0e80-4590-96f3-13c02c18c713</td>\n",
              "      <td>2019-10-01 09:00:01</td>\n",
              "    </tr>\n",
              "    <tr>\n",
              "      <th>2</th>\n",
              "      <td>view</td>\n",
              "      <td>1004237</td>\n",
              "      <td>2053013555631882655</td>\n",
              "      <td>electronics.smartphone</td>\n",
              "      <td>apple</td>\n",
              "      <td>1081.98</td>\n",
              "      <td>535871217</td>\n",
              "      <td>c6bd7419-2748-4c56-95b4-8cec9ff8b80d</td>\n",
              "      <td>2019-10-01 09:00:04</td>\n",
              "    </tr>\n",
              "    <tr>\n",
              "      <th>3</th>\n",
              "      <td>view</td>\n",
              "      <td>1480613</td>\n",
              "      <td>2053013561092866779</td>\n",
              "      <td>computers.desktop</td>\n",
              "      <td>pulser</td>\n",
              "      <td>908.62</td>\n",
              "      <td>512742880</td>\n",
              "      <td>0d0d91c2-c9c2-4e81-90a5-86594dec0db9</td>\n",
              "      <td>2019-10-01 09:00:05</td>\n",
              "    </tr>\n",
              "    <tr>\n",
              "      <th>4</th>\n",
              "      <td>view</td>\n",
              "      <td>28719074</td>\n",
              "      <td>2053013565480109009</td>\n",
              "      <td>apparel.shoes.keds</td>\n",
              "      <td>baden</td>\n",
              "      <td>102.71</td>\n",
              "      <td>520571932</td>\n",
              "      <td>ac1cd4e5-a3ce-4224-a2d7-ff660a105880</td>\n",
              "      <td>2019-10-01 09:00:10</td>\n",
              "    </tr>\n",
              "  </tbody>\n",
              "</table>\n",
              "</div>\n",
              "      <button class=\"colab-df-convert\" onclick=\"convertToInteractive('df-b3621ed3-b088-4c37-9676-d53c8ec71e1c')\"\n",
              "              title=\"Convert this dataframe to an interactive table.\"\n",
              "              style=\"display:none;\">\n",
              "        \n",
              "  <svg xmlns=\"http://www.w3.org/2000/svg\" height=\"24px\"viewBox=\"0 0 24 24\"\n",
              "       width=\"24px\">\n",
              "    <path d=\"M0 0h24v24H0V0z\" fill=\"none\"/>\n",
              "    <path d=\"M18.56 5.44l.94 2.06.94-2.06 2.06-.94-2.06-.94-.94-2.06-.94 2.06-2.06.94zm-11 1L8.5 8.5l.94-2.06 2.06-.94-2.06-.94L8.5 2.5l-.94 2.06-2.06.94zm10 10l.94 2.06.94-2.06 2.06-.94-2.06-.94-.94-2.06-.94 2.06-2.06.94z\"/><path d=\"M17.41 7.96l-1.37-1.37c-.4-.4-.92-.59-1.43-.59-.52 0-1.04.2-1.43.59L10.3 9.45l-7.72 7.72c-.78.78-.78 2.05 0 2.83L4 21.41c.39.39.9.59 1.41.59.51 0 1.02-.2 1.41-.59l7.78-7.78 2.81-2.81c.8-.78.8-2.07 0-2.86zM5.41 20L4 18.59l7.72-7.72 1.47 1.35L5.41 20z\"/>\n",
              "  </svg>\n",
              "      </button>\n",
              "      \n",
              "  <style>\n",
              "    .colab-df-container {\n",
              "      display:flex;\n",
              "      flex-wrap:wrap;\n",
              "      gap: 12px;\n",
              "    }\n",
              "\n",
              "    .colab-df-convert {\n",
              "      background-color: #E8F0FE;\n",
              "      border: none;\n",
              "      border-radius: 50%;\n",
              "      cursor: pointer;\n",
              "      display: none;\n",
              "      fill: #1967D2;\n",
              "      height: 32px;\n",
              "      padding: 0 0 0 0;\n",
              "      width: 32px;\n",
              "    }\n",
              "\n",
              "    .colab-df-convert:hover {\n",
              "      background-color: #E2EBFA;\n",
              "      box-shadow: 0px 1px 2px rgba(60, 64, 67, 0.3), 0px 1px 3px 1px rgba(60, 64, 67, 0.15);\n",
              "      fill: #174EA6;\n",
              "    }\n",
              "\n",
              "    [theme=dark] .colab-df-convert {\n",
              "      background-color: #3B4455;\n",
              "      fill: #D2E3FC;\n",
              "    }\n",
              "\n",
              "    [theme=dark] .colab-df-convert:hover {\n",
              "      background-color: #434B5C;\n",
              "      box-shadow: 0px 1px 3px 1px rgba(0, 0, 0, 0.15);\n",
              "      filter: drop-shadow(0px 1px 2px rgba(0, 0, 0, 0.3));\n",
              "      fill: #FFFFFF;\n",
              "    }\n",
              "  </style>\n",
              "\n",
              "      <script>\n",
              "        const buttonEl =\n",
              "          document.querySelector('#df-b3621ed3-b088-4c37-9676-d53c8ec71e1c button.colab-df-convert');\n",
              "        buttonEl.style.display =\n",
              "          google.colab.kernel.accessAllowed ? 'block' : 'none';\n",
              "\n",
              "        async function convertToInteractive(key) {\n",
              "          const element = document.querySelector('#df-b3621ed3-b088-4c37-9676-d53c8ec71e1c');\n",
              "          const dataTable =\n",
              "            await google.colab.kernel.invokeFunction('convertToInteractive',\n",
              "                                                     [key], {});\n",
              "          if (!dataTable) return;\n",
              "\n",
              "          const docLinkHtml = 'Like what you see? Visit the ' +\n",
              "            '<a target=\"_blank\" href=https://colab.research.google.com/notebooks/data_table.ipynb>data table notebook</a>'\n",
              "            + ' to learn more about interactive tables.';\n",
              "          element.innerHTML = '';\n",
              "          dataTable['output_type'] = 'display_data';\n",
              "          await google.colab.output.renderOutput(dataTable, element);\n",
              "          const docLink = document.createElement('div');\n",
              "          docLink.innerHTML = docLinkHtml;\n",
              "          element.appendChild(docLink);\n",
              "        }\n",
              "      </script>\n",
              "    </div>\n",
              "  </div>\n",
              "  "
            ]
          },
          "metadata": {},
          "execution_count": 22
        }
      ]
    },
    {
      "cell_type": "code",
      "source": [
        "aft_ecommerce_df.info()"
      ],
      "metadata": {
        "colab": {
          "base_uri": "https://localhost:8080/"
        },
        "id": "5n1uclAY4FQe",
        "outputId": "783032d1-17c2-4650-944c-70338b74dd50"
      },
      "execution_count": 23,
      "outputs": [
        {
          "output_type": "stream",
          "name": "stdout",
          "text": [
            "<class 'pandas.core.frame.DataFrame'>\n",
            "RangeIndex: 26560620 entries, 0 to 26560619\n",
            "Data columns (total 9 columns):\n",
            " #   Column         Dtype  \n",
            "---  ------         -----  \n",
            " 0   event_type     object \n",
            " 1   product_id     int64  \n",
            " 2   category_id    int64  \n",
            " 3   category_code  object \n",
            " 4   brand          object \n",
            " 5   price          float64\n",
            " 6   user_id        int64  \n",
            " 7   user_session   object \n",
            " 8   kst_time       object \n",
            "dtypes: float64(1), int64(3), object(5)\n",
            "memory usage: 1.8+ GB\n"
          ]
        }
      ]
    },
    {
      "cell_type": "code",
      "source": [
        "aft_ecommerce_df['kst_time'] = pd.to_datetime(aft_ecommerce_df['kst_time'])\n",
        "aft_ecommerce_df.info()"
      ],
      "metadata": {
        "colab": {
          "base_uri": "https://localhost:8080/"
        },
        "id": "x8_WQ8gG43C8",
        "outputId": "2a43073b-eb93-4ff3-8c35-46621056548c"
      },
      "execution_count": 24,
      "outputs": [
        {
          "output_type": "stream",
          "name": "stdout",
          "text": [
            "<class 'pandas.core.frame.DataFrame'>\n",
            "RangeIndex: 26560620 entries, 0 to 26560619\n",
            "Data columns (total 9 columns):\n",
            " #   Column         Dtype         \n",
            "---  ------         -----         \n",
            " 0   event_type     object        \n",
            " 1   product_id     int64         \n",
            " 2   category_id    int64         \n",
            " 3   category_code  object        \n",
            " 4   brand          object        \n",
            " 5   price          float64       \n",
            " 6   user_id        int64         \n",
            " 7   user_session   object        \n",
            " 8   kst_time       datetime64[ns]\n",
            "dtypes: datetime64[ns](1), float64(1), int64(3), object(4)\n",
            "memory usage: 1.8+ GB\n"
          ]
        }
      ]
    },
    {
      "cell_type": "code",
      "source": [
        "aft_ecommerce_df['kst_time']"
      ],
      "metadata": {
        "colab": {
          "base_uri": "https://localhost:8080/"
        },
        "id": "kmD2ISUr9SZO",
        "outputId": "3eddb184-6a92-48e8-e1b3-bae0506e1125"
      },
      "execution_count": 25,
      "outputs": [
        {
          "output_type": "execute_result",
          "data": {
            "text/plain": [
              "0          2019-10-01 09:00:00\n",
              "1          2019-10-01 09:00:01\n",
              "2          2019-10-01 09:00:04\n",
              "3          2019-10-01 09:00:05\n",
              "4          2019-10-01 09:00:10\n",
              "                   ...        \n",
              "26560615   2019-11-01 08:59:58\n",
              "26560616   2019-11-01 08:59:58\n",
              "26560617   2019-11-01 08:59:58\n",
              "26560618   2019-11-01 08:59:58\n",
              "26560619   2019-11-01 08:59:59\n",
              "Name: kst_time, Length: 26560620, dtype: datetime64[ns]"
            ]
          },
          "metadata": {},
          "execution_count": 25
        }
      ]
    },
    {
      "cell_type": "markdown",
      "source": [
        "## event_type"
      ],
      "metadata": {
        "id": "4BKjeL2U6B4F"
      }
    },
    {
      "cell_type": "markdown",
      "source": [
        "#### event_type에는 view, purchase, cart가 존재하며, 비율은 view가 압도적으로 높다.\n",
        "#### 시각화하여 표현하면 아래와 같다."
      ],
      "metadata": {
        "id": "jX0IXovN-4sA"
      }
    },
    {
      "cell_type": "code",
      "source": [
        "aft_ecommerce_df['event_type'].unique()"
      ],
      "metadata": {
        "colab": {
          "base_uri": "https://localhost:8080/"
        },
        "id": "463UEJw16GYE",
        "outputId": "143fd72a-72e6-4f05-84c8-78e7068bca7a"
      },
      "execution_count": 26,
      "outputs": [
        {
          "output_type": "execute_result",
          "data": {
            "text/plain": [
              "array(['view', 'purchase', 'cart'], dtype=object)"
            ]
          },
          "metadata": {},
          "execution_count": 26
        }
      ]
    },
    {
      "cell_type": "code",
      "source": [
        "aft_ecommerce_df['event_type'].value_counts()"
      ],
      "metadata": {
        "colab": {
          "base_uri": "https://localhost:8080/"
        },
        "id": "6V5O0bYt6PU4",
        "outputId": "f4ecb76d-82fb-4d5b-c677-615db393adec"
      },
      "execution_count": 27,
      "outputs": [
        {
          "output_type": "execute_result",
          "data": {
            "text/plain": [
              "view        25201706\n",
              "cart          809407\n",
              "purchase      549507\n",
              "Name: event_type, dtype: int64"
            ]
          },
          "metadata": {},
          "execution_count": 27
        }
      ]
    },
    {
      "cell_type": "code",
      "source": [
        "labels = ['view', 'cart','purchase']\n",
        "size = aft_ecommerce_df['event_type'].value_counts()\n",
        "colors = ['yellowgreen', 'lightskyblue','lightcoral']\n",
        "explode = [0, 0.1,0.1]\n",
        "\n",
        "plt.rcParams['figure.figsize'] = (8, 8)\n",
        "plt.pie(size, colors = colors, explode = explode, labels = labels, shadow = True, autopct = '%.2f%%')\n",
        "plt.title('Event_Type', fontsize = 20)\n",
        "plt.axis('off')\n",
        "plt.legend()\n",
        "plt.show()"
      ],
      "metadata": {
        "colab": {
          "base_uri": "https://localhost:8080/",
          "height": 486
        },
        "id": "7Ct2A2xS6l3G",
        "outputId": "1315a14d-2df2-4918-ebed-f65f0908c887"
      },
      "execution_count": 28,
      "outputs": [
        {
          "output_type": "display_data",
          "data": {
            "text/plain": [
              "<Figure size 576x576 with 1 Axes>"
            ],
            "image/png": "[encoded data removed]"
          },
          "metadata": {}
        }
      ]
    },
    {
      "cell_type": "markdown",
      "source": [
        "## product_id, categort_id, category_code, user_id, user_session"
      ],
      "metadata": {
        "id": "tBL1jtGQ8tTa"
      }
    },
    {
      "cell_type": "markdown",
      "source": [
        "#### product_id, category_id, category_code, brand는 같은 양상을 보이지만 price는 같은 제품이라도 날짜에 따른 가격 차이가 존재한다. \n",
        "#### user_id, user_session은 같은 양상을 보이는 경우도 있고, user_id가 같더라도 user_session이 다른 경우도 있다."
      ],
      "metadata": {
        "id": "yTDobLY3-fAm"
      }
    },
    {
      "cell_type": "code",
      "source": [
        "aft_ecommerce_df.head()"
      ],
      "metadata": {
        "colab": {
          "base_uri": "https://localhost:8080/",
          "height": 206
        },
        "id": "wdTlAbFWBoRI",
        "outputId": "82592f39-d4cf-4d6b-e0a7-790679abbe40"
      },
      "execution_count": 29,
      "outputs": [
        {
          "output_type": "execute_result",
          "data": {
            "text/plain": [
              "  event_type  product_id          category_id  \\\n",
              "0       view     3900821  2053013552326770905   \n",
              "1       view     1307067  2053013558920217191   \n",
              "2       view     1004237  2053013555631882655   \n",
              "3       view     1480613  2053013561092866779   \n",
              "4       view    28719074  2053013565480109009   \n",
              "\n",
              "                         category_code   brand    price    user_id  \\\n",
              "0  appliances.environment.water_heater    aqua    33.20  554748717   \n",
              "1                   computers.notebook  lenovo   251.74  550050854   \n",
              "2               electronics.smartphone   apple  1081.98  535871217   \n",
              "3                    computers.desktop  pulser   908.62  512742880   \n",
              "4                   apparel.shoes.keds   baden   102.71  520571932   \n",
              "\n",
              "                           user_session            kst_time  \n",
              "0  9333dfbd-b87a-4708-9857-6336556b0fcc 2019-10-01 09:00:00  \n",
              "1  7c90fc70-0e80-4590-96f3-13c02c18c713 2019-10-01 09:00:01  \n",
              "2  c6bd7419-2748-4c56-95b4-8cec9ff8b80d 2019-10-01 09:00:04  \n",
              "3  0d0d91c2-c9c2-4e81-90a5-86594dec0db9 2019-10-01 09:00:05  \n",
              "4  ac1cd4e5-a3ce-4224-a2d7-ff660a105880 2019-10-01 09:00:10  "
            ],
            "text/html": [
              "\n",
              "  <div id=\"df-fa2f3396-f620-49bc-91e3-1a6faeef604b\">\n",
              "    <div class=\"colab-df-container\">\n",
              "      <div>\n",
              "<style scoped>\n",
              "    .dataframe tbody tr th:only-of-type {\n",
              "        vertical-align: middle;\n",
              "    }\n",
              "\n",
              "    .dataframe tbody tr th {\n",
              "        vertical-align: top;\n",
              "    }\n",
              "\n",
              "    .dataframe thead th {\n",
              "        text-align: right;\n",
              "    }\n",
              "</style>\n",
              "<table border=\"1\" class=\"dataframe\">\n",
              "  <thead>\n",
              "    <tr style=\"text-align: right;\">\n",
              "      <th></th>\n",
              "      <th>event_type</th>\n",
              "      <th>product_id</th>\n",
              "      <th>category_id</th>\n",
              "      <th>category_code</th>\n",
              "      <th>brand</th>\n",
              "      <th>price</th>\n",
              "      <th>user_id</th>\n",
              "      <th>user_session</th>\n",
              "      <th>kst_time</th>\n",
              "    </tr>\n",
              "  </thead>\n",
              "  <tbody>\n",
              "    <tr>\n",
              "      <th>0</th>\n",
              "      <td>view</td>\n",
              "      <td>3900821</td>\n",
              "      <td>2053013552326770905</td>\n",
              "      <td>appliances.environment.water_heater</td>\n",
              "      <td>aqua</td>\n",
              "      <td>33.20</td>\n",
              "      <td>554748717</td>\n",
              "      <td>9333dfbd-b87a-4708-9857-6336556b0fcc</td>\n",
              "      <td>2019-10-01 09:00:00</td>\n",
              "    </tr>\n",
              "    <tr>\n",
              "      <th>1</th>\n",
              "      <td>view</td>\n",
              "      <td>1307067</td>\n",
              "      <td>2053013558920217191</td>\n",
              "      <td>computers.notebook</td>\n",
              "      <td>lenovo</td>\n",
              "      <td>251.74</td>\n",
              "      <td>550050854</td>\n",
              "      <td>7c90fc70-0e80-4590-96f3-13c02c18c713</td>\n",
              "      <td>2019-10-01 09:00:01</td>\n",
              "    </tr>\n",
              "    <tr>\n",
              "      <th>2</th>\n",
              "      <td>view</td>\n",
              "      <td>1004237</td>\n",
              "      <td>2053013555631882655</td>\n",
              "      <td>electronics.smartphone</td>\n",
              "      <td>apple</td>\n",
              "      <td>1081.98</td>\n",
              "      <td>535871217</td>\n",
              "      <td>c6bd7419-2748-4c56-95b4-8cec9ff8b80d</td>\n",
              "      <td>2019-10-01 09:00:04</td>\n",
              "    </tr>\n",
              "    <tr>\n",
              "      <th>3</th>\n",
              "      <td>view</td>\n",
              "      <td>1480613</td>\n",
              "      <td>2053013561092866779</td>\n",
              "      <td>computers.desktop</td>\n",
              "      <td>pulser</td>\n",
              "      <td>908.62</td>\n",
              "      <td>512742880</td>\n",
              "      <td>0d0d91c2-c9c2-4e81-90a5-86594dec0db9</td>\n",
              "      <td>2019-10-01 09:00:05</td>\n",
              "    </tr>\n",
              "    <tr>\n",
              "      <th>4</th>\n",
              "      <td>view</td>\n",
              "      <td>28719074</td>\n",
              "      <td>2053013565480109009</td>\n",
              "      <td>apparel.shoes.keds</td>\n",
              "      <td>baden</td>\n",
              "      <td>102.71</td>\n",
              "      <td>520571932</td>\n",
              "      <td>ac1cd4e5-a3ce-4224-a2d7-ff660a105880</td>\n",
              "      <td>2019-10-01 09:00:10</td>\n",
              "    </tr>\n",
              "  </tbody>\n",
              "</table>\n",
              "</div>\n",
              "      <button class=\"colab-df-convert\" onclick=\"convertToInteractive('df-fa2f3396-f620-49bc-91e3-1a6faeef604b')\"\n",
              "              title=\"Convert this dataframe to an interactive table.\"\n",
              "              style=\"display:none;\">\n",
              "        \n",
              "  <svg xmlns=\"http://www.w3.org/2000/svg\" height=\"24px\"viewBox=\"0 0 24 24\"\n",
              "       width=\"24px\">\n",
              "    <path d=\"M0 0h24v24H0V0z\" fill=\"none\"/>\n",
              "    <path d=\"M18.56 5.44l.94 2.06.94-2.06 2.06-.94-2.06-.94-.94-2.06-.94 2.06-2.06.94zm-11 1L8.5 8.5l.94-2.06 2.06-.94-2.06-.94L8.5 2.5l-.94 2.06-2.06.94zm10 10l.94 2.06.94-2.06 2.06-.94-2.06-.94-.94-2.06-.94 2.06-2.06.94z\"/><path d=\"M17.41 7.96l-1.37-1.37c-.4-.4-.92-.59-1.43-.59-.52 0-1.04.2-1.43.59L10.3 9.45l-7.72 7.72c-.78.78-.78 2.05 0 2.83L4 21.41c.39.39.9.59 1.41.59.51 0 1.02-.2 1.41-.59l7.78-7.78 2.81-2.81c.8-.78.8-2.07 0-2.86zM5.41 20L4 18.59l7.72-7.72 1.47 1.35L5.41 20z\"/>\n",
              "  </svg>\n",
              "      </button>\n",
              "      \n",
              "  <style>\n",
              "    .colab-df-container {\n",
              "      display:flex;\n",
              "      flex-wrap:wrap;\n",
              "      gap: 12px;\n",
              "    }\n",
              "\n",
              "    .colab-df-convert {\n",
              "      background-color: #E8F0FE;\n",
              "      border: none;\n",
              "      border-radius: 50%;\n",
              "      cursor: pointer;\n",
              "      display: none;\n",
              "      fill: #1967D2;\n",
              "      height: 32px;\n",
              "      padding: 0 0 0 0;\n",
              "      width: 32px;\n",
              "    }\n",
              "\n",
              "    .colab-df-convert:hover {\n",
              "      background-color: #E2EBFA;\n",
              "      box-shadow: 0px 1px 2px rgba(60, 64, 67, 0.3), 0px 1px 3px 1px rgba(60, 64, 67, 0.15);\n",
              "      fill: #174EA6;\n",
              "    }\n",
              "\n",
              "    [theme=dark] .colab-df-convert {\n",
              "      background-color: #3B4455;\n",
              "      fill: #D2E3FC;\n",
              "    }\n",
              "\n",
              "    [theme=dark] .colab-df-convert:hover {\n",
              "      background-color: #434B5C;\n",
              "      box-shadow: 0px 1px 3px 1px rgba(0, 0, 0, 0.15);\n",
              "      filter: drop-shadow(0px 1px 2px rgba(0, 0, 0, 0.3));\n",
              "      fill: #FFFFFF;\n",
              "    }\n",
              "  </style>\n",
              "\n",
              "      <script>\n",
              "        const buttonEl =\n",
              "          document.querySelector('#df-fa2f3396-f620-49bc-91e3-1a6faeef604b button.colab-df-convert');\n",
              "        buttonEl.style.display =\n",
              "          google.colab.kernel.accessAllowed ? 'block' : 'none';\n",
              "\n",
              "        async function convertToInteractive(key) {\n",
              "          const element = document.querySelector('#df-fa2f3396-f620-49bc-91e3-1a6faeef604b');\n",
              "          const dataTable =\n",
              "            await google.colab.kernel.invokeFunction('convertToInteractive',\n",
              "                                                     [key], {});\n",
              "          if (!dataTable) return;\n",
              "\n",
              "          const docLinkHtml = 'Like what you see? Visit the ' +\n",
              "            '<a target=\"_blank\" href=https://colab.research.google.com/notebooks/data_table.ipynb>data table notebook</a>'\n",
              "            + ' to learn more about interactive tables.';\n",
              "          element.innerHTML = '';\n",
              "          dataTable['output_type'] = 'display_data';\n",
              "          await google.colab.output.renderOutput(dataTable, element);\n",
              "          const docLink = document.createElement('div');\n",
              "          docLink.innerHTML = docLinkHtml;\n",
              "          element.appendChild(docLink);\n",
              "        }\n",
              "      </script>\n",
              "    </div>\n",
              "  </div>\n",
              "  "
            ]
          },
          "metadata": {},
          "execution_count": 29
        }
      ]
    },
    {
      "cell_type": "code",
      "source": [
        "aft_ecommerce_df[aft_ecommerce_df['product_id'] == 3900821]"
      ],
      "metadata": {
        "colab": {
          "base_uri": "https://localhost:8080/",
          "height": 424
        },
        "id": "lV1aBiCO8ycb",
        "outputId": "a25f5077-780a-4e64-d1cd-393d79b6c749"
      },
      "execution_count": 30,
      "outputs": [
        {
          "output_type": "execute_result",
          "data": {
            "text/plain": [
              "         event_type  product_id          category_id  \\\n",
              "0              view     3900821  2053013552326770905   \n",
              "20869          view     3900821  2053013552326770905   \n",
              "21190      purchase     3900821  2053013552326770905   \n",
              "27147          view     3900821  2053013552326770905   \n",
              "28337          view     3900821  2053013552326770905   \n",
              "...             ...         ...                  ...   \n",
              "26503659       view     3900821  2053013552326770905   \n",
              "26504523       view     3900821  2053013552326770905   \n",
              "26540925       view     3900821  2053013552326770905   \n",
              "26547737       view     3900821  2053013552326770905   \n",
              "26547935       view     3900821  2053013552326770905   \n",
              "\n",
              "                                category_code brand  price    user_id  \\\n",
              "0         appliances.environment.water_heater  aqua  33.20  554748717   \n",
              "20869     appliances.environment.water_heater  aqua  33.20  512448158   \n",
              "21190     appliances.environment.water_heater  aqua  33.20  512448158   \n",
              "27147     appliances.environment.water_heater  aqua  33.20  541410551   \n",
              "28337     appliances.environment.water_heater  aqua  33.20  541410551   \n",
              "...                                       ...   ...    ...        ...   \n",
              "26503659  appliances.environment.water_heater  aqua  30.61  565887381   \n",
              "26504523  appliances.environment.water_heater  aqua  30.61  565887381   \n",
              "26540925  appliances.environment.water_heater  aqua  30.61  555818740   \n",
              "26547737  appliances.environment.water_heater  aqua  30.61  542353553   \n",
              "26547935  appliances.environment.water_heater  aqua  30.61  542353553   \n",
              "\n",
              "                                  user_session            kst_time  \n",
              "0         9333dfbd-b87a-4708-9857-6336556b0fcc 2019-10-01 09:00:00  \n",
              "20869     52a857d6-b4db-42cb-bf03-b0b66cd36c72 2019-10-01 12:12:34  \n",
              "21190     52a857d6-b4db-42cb-bf03-b0b66cd36c72 2019-10-01 12:13:12  \n",
              "27147     50b74e0f-83a4-4114-aaaf-e083225665f6 2019-10-01 12:24:58  \n",
              "28337     50b74e0f-83a4-4114-aaaf-e083225665f6 2019-10-01 12:27:28  \n",
              "...                                        ...                 ...  \n",
              "26503659  2f7cdf20-52c4-4a40-b6c4-e0c2868d1528 2019-11-01 03:59:18  \n",
              "26504523  2f7cdf20-52c4-4a40-b6c4-e0c2868d1528 2019-11-01 04:00:46  \n",
              "26540925  b7799e97-16fb-41cd-90bd-3bde6fc2bcb9 2019-11-01 05:51:51  \n",
              "26547737  bb42affc-1863-4009-bcc9-bd8ba92fa30a 2019-11-01 06:30:20  \n",
              "26547935  6cb32dac-ae5c-4553-8e16-d6376500aba7 2019-11-01 06:31:43  \n",
              "\n",
              "[3069 rows x 9 columns]"
            ],
            "text/html": [
              "\n",
              "  <div id=\"df-92507177-8d92-44c7-afab-1ec1f897ad4e\">\n",
              "    <div class=\"colab-df-container\">\n",
              "      <div>\n",
              "<style scoped>\n",
              "    .dataframe tbody tr th:only-of-type {\n",
              "        vertical-align: middle;\n",
              "    }\n",
              "\n",
              "    .dataframe tbody tr th {\n",
              "        vertical-align: top;\n",
              "    }\n",
              "\n",
              "    .dataframe thead th {\n",
              "        text-align: right;\n",
              "    }\n",
              "</style>\n",
              "<table border=\"1\" class=\"dataframe\">\n",
              "  <thead>\n",
              "    <tr style=\"text-align: right;\">\n",
              "      <th></th>\n",
              "      <th>event_type</th>\n",
              "      <th>product_id</th>\n",
              "      <th>category_id</th>\n",
              "      <th>category_code</th>\n",
              "      <th>brand</th>\n",
              "      <th>price</th>\n",
              "      <th>user_id</th>\n",
              "      <th>user_session</th>\n",
              "      <th>kst_time</th>\n",
              "    </tr>\n",
              "  </thead>\n",
              "  <tbody>\n",
              "    <tr>\n",
              "      <th>0</th>\n",
              "      <td>view</td>\n",
              "      <td>3900821</td>\n",
              "      <td>2053013552326770905</td>\n",
              "      <td>appliances.environment.water_heater</td>\n",
              "      <td>aqua</td>\n",
              "      <td>33.20</td>\n",
              "      <td>554748717</td>\n",
              "      <td>9333dfbd-b87a-4708-9857-6336556b0fcc</td>\n",
              "      <td>2019-10-01 09:00:00</td>\n",
              "    </tr>\n",
              "    <tr>\n",
              "      <th>20869</th>\n",
              "      <td>view</td>\n",
              "      <td>3900821</td>\n",
              "      <td>2053013552326770905</td>\n",
              "      <td>appliances.environment.water_heater</td>\n",
              "      <td>aqua</td>\n",
              "      <td>33.20</td>\n",
              "      <td>512448158</td>\n",
              "      <td>52a857d6-b4db-42cb-bf03-b0b66cd36c72</td>\n",
              "      <td>2019-10-01 12:12:34</td>\n",
              "    </tr>\n",
              "    <tr>\n",
              "      <th>21190</th>\n",
              "      <td>purchase</td>\n",
              "      <td>3900821</td>\n",
              "      <td>2053013552326770905</td>\n",
              "      <td>appliances.environment.water_heater</td>\n",
              "      <td>aqua</td>\n",
              "      <td>33.20</td>\n",
              "      <td>512448158</td>\n",
              "      <td>52a857d6-b4db-42cb-bf03-b0b66cd36c72</td>\n",
              "      <td>2019-10-01 12:13:12</td>\n",
              "    </tr>\n",
              "    <tr>\n",
              "      <th>27147</th>\n",
              "      <td>view</td>\n",
              "      <td>3900821</td>\n",
              "      <td>2053013552326770905</td>\n",
              "      <td>appliances.environment.water_heater</td>\n",
              "      <td>aqua</td>\n",
              "      <td>33.20</td>\n",
              "      <td>541410551</td>\n",
              "      <td>50b74e0f-83a4-4114-aaaf-e083225665f6</td>\n",
              "      <td>2019-10-01 12:24:58</td>\n",
              "    </tr>\n",
              "    <tr>\n",
              "      <th>28337</th>\n",
              "      <td>view</td>\n",
              "      <td>3900821</td>\n",
              "      <td>2053013552326770905</td>\n",
              "      <td>appliances.environment.water_heater</td>\n",
              "      <td>aqua</td>\n",
              "      <td>33.20</td>\n",
              "      <td>541410551</td>\n",
              "      <td>50b74e0f-83a4-4114-aaaf-e083225665f6</td>\n",
              "      <td>2019-10-01 12:27:28</td>\n",
              "    </tr>\n",
              "    <tr>\n",
              "      <th>...</th>\n",
              "      <td>...</td>\n",
              "      <td>...</td>\n",
              "      <td>...</td>\n",
              "      <td>...</td>\n",
              "      <td>...</td>\n",
              "      <td>...</td>\n",
              "      <td>...</td>\n",
              "      <td>...</td>\n",
              "      <td>...</td>\n",
              "    </tr>\n",
              "    <tr>\n",
              "      <th>26503659</th>\n",
              "      <td>view</td>\n",
              "      <td>3900821</td>\n",
              "      <td>2053013552326770905</td>\n",
              "      <td>appliances.environment.water_heater</td>\n",
              "      <td>aqua</td>\n",
              "      <td>30.61</td>\n",
              "      <td>565887381</td>\n",
              "      <td>2f7cdf20-52c4-4a40-b6c4-e0c2868d1528</td>\n",
              "      <td>2019-11-01 03:59:18</td>\n",
              "    </tr>\n",
              "    <tr>\n",
              "      <th>26504523</th>\n",
              "      <td>view</td>\n",
              "      <td>3900821</td>\n",
              "      <td>2053013552326770905</td>\n",
              "      <td>appliances.environment.water_heater</td>\n",
              "      <td>aqua</td>\n",
              "      <td>30.61</td>\n",
              "      <td>565887381</td>\n",
              "      <td>2f7cdf20-52c4-4a40-b6c4-e0c2868d1528</td>\n",
              "      <td>2019-11-01 04:00:46</td>\n",
              "    </tr>\n",
              "    <tr>\n",
              "      <th>26540925</th>\n",
              "      <td>view</td>\n",
              "      <td>3900821</td>\n",
              "      <td>2053013552326770905</td>\n",
              "      <td>appliances.environment.water_heater</td>\n",
              "      <td>aqua</td>\n",
              "      <td>30.61</td>\n",
              "      <td>555818740</td>\n",
              "      <td>b7799e97-16fb-41cd-90bd-3bde6fc2bcb9</td>\n",
              "      <td>2019-11-01 05:51:51</td>\n",
              "    </tr>\n",
              "    <tr>\n",
              "      <th>26547737</th>\n",
              "      <td>view</td>\n",
              "      <td>3900821</td>\n",
              "      <td>2053013552326770905</td>\n",
              "      <td>appliances.environment.water_heater</td>\n",
              "      <td>aqua</td>\n",
              "      <td>30.61</td>\n",
              "      <td>542353553</td>\n",
              "      <td>bb42affc-1863-4009-bcc9-bd8ba92fa30a</td>\n",
              "      <td>2019-11-01 06:30:20</td>\n",
              "    </tr>\n",
              "    <tr>\n",
              "      <th>26547935</th>\n",
              "      <td>view</td>\n",
              "      <td>3900821</td>\n",
              "      <td>2053013552326770905</td>\n",
              "      <td>appliances.environment.water_heater</td>\n",
              "      <td>aqua</td>\n",
              "      <td>30.61</td>\n",
              "      <td>542353553</td>\n",
              "      <td>6cb32dac-ae5c-4553-8e16-d6376500aba7</td>\n",
              "      <td>2019-11-01 06:31:43</td>\n",
              "    </tr>\n",
              "  </tbody>\n",
              "</table>\n",
              "<p>3069 rows × 9 columns</p>\n",
              "</div>\n",
              "      <button class=\"colab-df-convert\" onclick=\"convertToInteractive('df-92507177-8d92-44c7-afab-1ec1f897ad4e')\"\n",
              "              title=\"Convert this dataframe to an interactive table.\"\n",
              "              style=\"display:none;\">\n",
              "        \n",
              "  <svg xmlns=\"http://www.w3.org/2000/svg\" height=\"24px\"viewBox=\"0 0 24 24\"\n",
              "       width=\"24px\">\n",
              "    <path d=\"M0 0h24v24H0V0z\" fill=\"none\"/>\n",
              "    <path d=\"M18.56 5.44l.94 2.06.94-2.06 2.06-.94-2.06-.94-.94-2.06-.94 2.06-2.06.94zm-11 1L8.5 8.5l.94-2.06 2.06-.94-2.06-.94L8.5 2.5l-.94 2.06-2.06.94zm10 10l.94 2.06.94-2.06 2.06-.94-2.06-.94-.94-2.06-.94 2.06-2.06.94z\"/><path d=\"M17.41 7.96l-1.37-1.37c-.4-.4-.92-.59-1.43-.59-.52 0-1.04.2-1.43.59L10.3 9.45l-7.72 7.72c-.78.78-.78 2.05 0 2.83L4 21.41c.39.39.9.59 1.41.59.51 0 1.02-.2 1.41-.59l7.78-7.78 2.81-2.81c.8-.78.8-2.07 0-2.86zM5.41 20L4 18.59l7.72-7.72 1.47 1.35L5.41 20z\"/>\n",
              "  </svg>\n",
              "      </button>\n",
              "      \n",
              "  <style>\n",
              "    .colab-df-container {\n",
              "      display:flex;\n",
              "      flex-wrap:wrap;\n",
              "      gap: 12px;\n",
              "    }\n",
              "\n",
              "    .colab-df-convert {\n",
              "      background-color: #E8F0FE;\n",
              "      border: none;\n",
              "      border-radius: 50%;\n",
              "      cursor: pointer;\n",
              "      display: none;\n",
              "      fill: #1967D2;\n",
              "      height: 32px;\n",
              "      padding: 0 0 0 0;\n",
              "      width: 32px;\n",
              "    }\n",
              "\n",
              "    .colab-df-convert:hover {\n",
              "      background-color: #E2EBFA;\n",
              "      box-shadow: 0px 1px 2px rgba(60, 64, 67, 0.3), 0px 1px 3px 1px rgba(60, 64, 67, 0.15);\n",
              "      fill: #174EA6;\n",
              "    }\n",
              "\n",
              "    [theme=dark] .colab-df-convert {\n",
              "      background-color: #3B4455;\n",
              "      fill: #D2E3FC;\n",
              "    }\n",
              "\n",
              "    [theme=dark] .colab-df-convert:hover {\n",
              "      background-color: #434B5C;\n",
              "      box-shadow: 0px 1px 3px 1px rgba(0, 0, 0, 0.15);\n",
              "      filter: drop-shadow(0px 1px 2px rgba(0, 0, 0, 0.3));\n",
              "      fill: #FFFFFF;\n",
              "    }\n",
              "  </style>\n",
              "\n",
              "      <script>\n",
              "        const buttonEl =\n",
              "          document.querySelector('#df-92507177-8d92-44c7-afab-1ec1f897ad4e button.colab-df-convert');\n",
              "        buttonEl.style.display =\n",
              "          google.colab.kernel.accessAllowed ? 'block' : 'none';\n",
              "\n",
              "        async function convertToInteractive(key) {\n",
              "          const element = document.querySelector('#df-92507177-8d92-44c7-afab-1ec1f897ad4e');\n",
              "          const dataTable =\n",
              "            await google.colab.kernel.invokeFunction('convertToInteractive',\n",
              "                                                     [key], {});\n",
              "          if (!dataTable) return;\n",
              "\n",
              "          const docLinkHtml = 'Like what you see? Visit the ' +\n",
              "            '<a target=\"_blank\" href=https://colab.research.google.com/notebooks/data_table.ipynb>data table notebook</a>'\n",
              "            + ' to learn more about interactive tables.';\n",
              "          element.innerHTML = '';\n",
              "          dataTable['output_type'] = 'display_data';\n",
              "          await google.colab.output.renderOutput(dataTable, element);\n",
              "          const docLink = document.createElement('div');\n",
              "          docLink.innerHTML = docLinkHtml;\n",
              "          element.appendChild(docLink);\n",
              "        }\n",
              "      </script>\n",
              "    </div>\n",
              "  </div>\n",
              "  "
            ]
          },
          "metadata": {},
          "execution_count": 30
        }
      ]
    },
    {
      "cell_type": "code",
      "source": [
        "print(\"product_id의 고유 값 개수 : \", len(aft_ecommerce_df['product_id'].unique()))\n",
        "print(\"category_id의 고유 값 개수 : \", len(aft_ecommerce_df['category_id'].unique()))\n",
        "print(\"category_code의 고유 값 개수 : \", len(aft_ecommerce_df['category_code'].unique()))\n",
        "print(\"user_id의 고유 값 개수 : \", len(aft_ecommerce_df['user_id'].unique()))\n",
        "print(\"user_session의 고유 값 개수 : \", len(aft_ecommerce_df['user_session'].unique()))"
      ],
      "metadata": {
        "colab": {
          "base_uri": "https://localhost:8080/"
        },
        "id": "RORAFq5gBAfU",
        "outputId": "29892c8f-587b-4b88-8258-5616a6d06f36"
      },
      "execution_count": 50,
      "outputs": [
        {
          "output_type": "stream",
          "name": "stdout",
          "text": [
            "product_id의 고유 값 개수 :  60371\n",
            "category_id의 고유 값 개수 :  248\n",
            "category_code의 고유 값 개수 :  126\n",
            "user_id의 고유 값 개수 :  2323036\n",
            "user_session의 고유 값 개수 :  6419693\n"
          ]
        }
      ]
    },
    {
      "cell_type": "markdown",
      "source": [
        "## brand"
      ],
      "metadata": {
        "id": "WfEfRJxxE83D"
      }
    },
    {
      "cell_type": "markdown",
      "source": [
        "#### 많은 수의 브랜드가 존재하고, event_type이 purchase인 데이터를 보면 제품의 브랜드에 따른 판매량을 볼 수 있다."
      ],
      "metadata": {
        "id": "yZHcS6oJFH9Z"
      }
    },
    {
      "cell_type": "code",
      "source": [
        "print(\"brand 고유 값 개수 : \", len(aft_ecommerce_df['brand'].unique()))"
      ],
      "metadata": {
        "colab": {
          "base_uri": "https://localhost:8080/"
        },
        "id": "2Lkqzbr8FDaK",
        "outputId": "b0a9cc82-1487-4145-ba96-eceede0e067f"
      },
      "execution_count": 51,
      "outputs": [
        {
          "output_type": "stream",
          "name": "stdout",
          "text": [
            "brand 고유 값 개수 :  1731\n"
          ]
        }
      ]
    },
    {
      "cell_type": "code",
      "source": [
        "purchase = aft_ecommerce_df.loc[aft_ecommerce_df['event_type'] == \"purchase\"]\n",
        "purchase.head()"
      ],
      "metadata": {
        "colab": {
          "base_uri": "https://localhost:8080/",
          "height": 206
        },
        "id": "_6-2zNWdFxPo",
        "outputId": "4c7eb23b-2483-4bb9-a746-5e871cc6f917"
      },
      "execution_count": 53,
      "outputs": [
        {
          "output_type": "execute_result",
          "data": {
            "text/plain": [
              "    event_type  product_id          category_id                category_code  \\\n",
              "111   purchase     1004856  2053013555631882655       electronics.smartphone   \n",
              "197   purchase     1002532  2053013555631882655       electronics.smartphone   \n",
              "268   purchase    13800054  2053013557418656265    furniture.bathroom.toilet   \n",
              "339   purchase     4804055  2053013554658804075  electronics.audio.headphone   \n",
              "352   purchase     4804056  2053013554658804075  electronics.audio.headphone   \n",
              "\n",
              "       brand   price    user_id                          user_session  \\\n",
              "111  samsung  130.76  543272936  8187d148-3c41-46d4-b0c0-9c08cd9dc564   \n",
              "197    apple  642.69  551377651  3c80f0d6-e9ec-4181-8c5c-837a30be2d68   \n",
              "268  santeri   54.42  555332717  1dea3ee2-2ded-42e8-8e7a-4e2ad6ae942f   \n",
              "339    apple  189.91  524601178  2af9b570-0942-4dcd-8f25-4d84fba82553   \n",
              "352    apple  161.98  551377651  3c80f0d6-e9ec-4181-8c5c-837a30be2d68   \n",
              "\n",
              "               kst_time  \n",
              "111 2019-10-01 09:02:14  \n",
              "197 2019-10-01 09:04:37  \n",
              "268 2019-10-01 09:07:07  \n",
              "339 2019-10-01 09:09:26  \n",
              "352 2019-10-01 09:09:54  "
            ],
            "text/html": [
              "\n",
              "  <div id=\"df-967dddca-7244-421f-8764-c8d8b9c74404\">\n",
              "    <div class=\"colab-df-container\">\n",
              "      <div>\n",
              "<style scoped>\n",
              "    .dataframe tbody tr th:only-of-type {\n",
              "        vertical-align: middle;\n",
              "    }\n",
              "\n",
              "    .dataframe tbody tr th {\n",
              "        vertical-align: top;\n",
              "    }\n",
              "\n",
              "    .dataframe thead th {\n",
              "        text-align: right;\n",
              "    }\n",
              "</style>\n",
              "<table border=\"1\" class=\"dataframe\">\n",
              "  <thead>\n",
              "    <tr style=\"text-align: right;\">\n",
              "      <th></th>\n",
              "      <th>event_type</th>\n",
              "      <th>product_id</th>\n",
              "      <th>category_id</th>\n",
              "      <th>category_code</th>\n",
              "      <th>brand</th>\n",
              "      <th>price</th>\n",
              "      <th>user_id</th>\n",
              "      <th>user_session</th>\n",
              "      <th>kst_time</th>\n",
              "    </tr>\n",
              "  </thead>\n",
              "  <tbody>\n",
              "    <tr>\n",
              "      <th>111</th>\n",
              "      <td>purchase</td>\n",
              "      <td>1004856</td>\n",
              "      <td>2053013555631882655</td>\n",
              "      <td>electronics.smartphone</td>\n",
              "      <td>samsung</td>\n",
              "      <td>130.76</td>\n",
              "      <td>543272936</td>\n",
              "      <td>8187d148-3c41-46d4-b0c0-9c08cd9dc564</td>\n",
              "      <td>2019-10-01 09:02:14</td>\n",
              "    </tr>\n",
              "    <tr>\n",
              "      <th>197</th>\n",
              "      <td>purchase</td>\n",
              "      <td>1002532</td>\n",
              "      <td>2053013555631882655</td>\n",
              "      <td>electronics.smartphone</td>\n",
              "      <td>apple</td>\n",
              "      <td>642.69</td>\n",
              "      <td>551377651</td>\n",
              "      <td>3c80f0d6-e9ec-4181-8c5c-837a30be2d68</td>\n",
              "      <td>2019-10-01 09:04:37</td>\n",
              "    </tr>\n",
              "    <tr>\n",
              "      <th>268</th>\n",
              "      <td>purchase</td>\n",
              "      <td>13800054</td>\n",
              "      <td>2053013557418656265</td>\n",
              "      <td>furniture.bathroom.toilet</td>\n",
              "      <td>santeri</td>\n",
              "      <td>54.42</td>\n",
              "      <td>555332717</td>\n",
              "      <td>1dea3ee2-2ded-42e8-8e7a-4e2ad6ae942f</td>\n",
              "      <td>2019-10-01 09:07:07</td>\n",
              "    </tr>\n",
              "    <tr>\n",
              "      <th>339</th>\n",
              "      <td>purchase</td>\n",
              "      <td>4804055</td>\n",
              "      <td>2053013554658804075</td>\n",
              "      <td>electronics.audio.headphone</td>\n",
              "      <td>apple</td>\n",
              "      <td>189.91</td>\n",
              "      <td>524601178</td>\n",
              "      <td>2af9b570-0942-4dcd-8f25-4d84fba82553</td>\n",
              "      <td>2019-10-01 09:09:26</td>\n",
              "    </tr>\n",
              "    <tr>\n",
              "      <th>352</th>\n",
              "      <td>purchase</td>\n",
              "      <td>4804056</td>\n",
              "      <td>2053013554658804075</td>\n",
              "      <td>electronics.audio.headphone</td>\n",
              "      <td>apple</td>\n",
              "      <td>161.98</td>\n",
              "      <td>551377651</td>\n",
              "      <td>3c80f0d6-e9ec-4181-8c5c-837a30be2d68</td>\n",
              "      <td>2019-10-01 09:09:54</td>\n",
              "    </tr>\n",
              "  </tbody>\n",
              "</table>\n",
              "</div>\n",
              "      <button class=\"colab-df-convert\" onclick=\"convertToInteractive('df-967dddca-7244-421f-8764-c8d8b9c74404')\"\n",
              "              title=\"Convert this dataframe to an interactive table.\"\n",
              "              style=\"display:none;\">\n",
              "        \n",
              "  <svg xmlns=\"http://www.w3.org/2000/svg\" height=\"24px\"viewBox=\"0 0 24 24\"\n",
              "       width=\"24px\">\n",
              "    <path d=\"M0 0h24v24H0V0z\" fill=\"none\"/>\n",
              "    <path d=\"M18.56 5.44l.94 2.06.94-2.06 2.06-.94-2.06-.94-.94-2.06-.94 2.06-2.06.94zm-11 1L8.5 8.5l.94-2.06 2.06-.94-2.06-.94L8.5 2.5l-.94 2.06-2.06.94zm10 10l.94 2.06.94-2.06 2.06-.94-2.06-.94-.94-2.06-.94 2.06-2.06.94z\"/><path d=\"M17.41 7.96l-1.37-1.37c-.4-.4-.92-.59-1.43-.59-.52 0-1.04.2-1.43.59L10.3 9.45l-7.72 7.72c-.78.78-.78 2.05 0 2.83L4 21.41c.39.39.9.59 1.41.59.51 0 1.02-.2 1.41-.59l7.78-7.78 2.81-2.81c.8-.78.8-2.07 0-2.86zM5.41 20L4 18.59l7.72-7.72 1.47 1.35L5.41 20z\"/>\n",
              "  </svg>\n",
              "      </button>\n",
              "      \n",
              "  <style>\n",
              "    .colab-df-container {\n",
              "      display:flex;\n",
              "      flex-wrap:wrap;\n",
              "      gap: 12px;\n",
              "    }\n",
              "\n",
              "    .colab-df-convert {\n",
              "      background-color: #E8F0FE;\n",
              "      border: none;\n",
              "      border-radius: 50%;\n",
              "      cursor: pointer;\n",
              "      display: none;\n",
              "      fill: #1967D2;\n",
              "      height: 32px;\n",
              "      padding: 0 0 0 0;\n",
              "      width: 32px;\n",
              "    }\n",
              "\n",
              "    .colab-df-convert:hover {\n",
              "      background-color: #E2EBFA;\n",
              "      box-shadow: 0px 1px 2px rgba(60, 64, 67, 0.3), 0px 1px 3px 1px rgba(60, 64, 67, 0.15);\n",
              "      fill: #174EA6;\n",
              "    }\n",
              "\n",
              "    [theme=dark] .colab-df-convert {\n",
              "      background-color: #3B4455;\n",
              "      fill: #D2E3FC;\n",
              "    }\n",
              "\n",
              "    [theme=dark] .colab-df-convert:hover {\n",
              "      background-color: #434B5C;\n",
              "      box-shadow: 0px 1px 3px 1px rgba(0, 0, 0, 0.15);\n",
              "      filter: drop-shadow(0px 1px 2px rgba(0, 0, 0, 0.3));\n",
              "      fill: #FFFFFF;\n",
              "    }\n",
              "  </style>\n",
              "\n",
              "      <script>\n",
              "        const buttonEl =\n",
              "          document.querySelector('#df-967dddca-7244-421f-8764-c8d8b9c74404 button.colab-df-convert');\n",
              "        buttonEl.style.display =\n",
              "          google.colab.kernel.accessAllowed ? 'block' : 'none';\n",
              "\n",
              "        async function convertToInteractive(key) {\n",
              "          const element = document.querySelector('#df-967dddca-7244-421f-8764-c8d8b9c74404');\n",
              "          const dataTable =\n",
              "            await google.colab.kernel.invokeFunction('convertToInteractive',\n",
              "                                                     [key], {});\n",
              "          if (!dataTable) return;\n",
              "\n",
              "          const docLinkHtml = 'Like what you see? Visit the ' +\n",
              "            '<a target=\"_blank\" href=https://colab.research.google.com/notebooks/data_table.ipynb>data table notebook</a>'\n",
              "            + ' to learn more about interactive tables.';\n",
              "          element.innerHTML = '';\n",
              "          dataTable['output_type'] = 'display_data';\n",
              "          await google.colab.output.renderOutput(dataTable, element);\n",
              "          const docLink = document.createElement('div');\n",
              "          docLink.innerHTML = docLinkHtml;\n",
              "          element.appendChild(docLink);\n",
              "        }\n",
              "      </script>\n",
              "    </div>\n",
              "  </div>\n",
              "  "
            ]
          },
          "metadata": {},
          "execution_count": 53
        }
      ]
    },
    {
      "cell_type": "markdown",
      "source": [
        "#### 판매량 순위를 보면 아래와 같고, 그래프로 top 5 brand를 표현하면 samsung, apple, xiaomi, huawei, oppo 로 나타난다."
      ],
      "metadata": {
        "id": "8DKpSGS4JVD_"
      }
    },
    {
      "cell_type": "code",
      "source": [
        "top_sell_brand = purchase.groupby('brand')['brand'].agg(['count']).sort_values('count', ascending=False)\n",
        "top_sell_brand.head(10)"
      ],
      "metadata": {
        "colab": {
          "base_uri": "https://localhost:8080/",
          "height": 394
        },
        "id": "xIwvatllFGMQ",
        "outputId": "695d60d1-9704-4b40-d961-6b4ca2ad8ca0"
      },
      "execution_count": 55,
      "outputs": [
        {
          "output_type": "execute_result",
          "data": {
            "text/plain": [
              "           count\n",
              "brand           \n",
              "samsung   171706\n",
              "apple     142577\n",
              "xiaomi     46595\n",
              "huawei     23294\n",
              "oppo       10891\n",
              "lg          7831\n",
              "acer        6882\n",
              "elenberg    5435\n",
              "indesit     5023\n",
              "artel       4717"
            ],
            "text/html": [
              "\n",
              "  <div id=\"df-444a73c7-9044-40ec-9d82-3acf26a9da60\">\n",
              "    <div class=\"colab-df-container\">\n",
              "      <div>\n",
              "<style scoped>\n",
              "    .dataframe tbody tr th:only-of-type {\n",
              "        vertical-align: middle;\n",
              "    }\n",
              "\n",
              "    .dataframe tbody tr th {\n",
              "        vertical-align: top;\n",
              "    }\n",
              "\n",
              "    .dataframe thead th {\n",
              "        text-align: right;\n",
              "    }\n",
              "</style>\n",
              "<table border=\"1\" class=\"dataframe\">\n",
              "  <thead>\n",
              "    <tr style=\"text-align: right;\">\n",
              "      <th></th>\n",
              "      <th>count</th>\n",
              "    </tr>\n",
              "    <tr>\n",
              "      <th>brand</th>\n",
              "      <th></th>\n",
              "    </tr>\n",
              "  </thead>\n",
              "  <tbody>\n",
              "    <tr>\n",
              "      <th>samsung</th>\n",
              "      <td>171706</td>\n",
              "    </tr>\n",
              "    <tr>\n",
              "      <th>apple</th>\n",
              "      <td>142577</td>\n",
              "    </tr>\n",
              "    <tr>\n",
              "      <th>xiaomi</th>\n",
              "      <td>46595</td>\n",
              "    </tr>\n",
              "    <tr>\n",
              "      <th>huawei</th>\n",
              "      <td>23294</td>\n",
              "    </tr>\n",
              "    <tr>\n",
              "      <th>oppo</th>\n",
              "      <td>10891</td>\n",
              "    </tr>\n",
              "    <tr>\n",
              "      <th>lg</th>\n",
              "      <td>7831</td>\n",
              "    </tr>\n",
              "    <tr>\n",
              "      <th>acer</th>\n",
              "      <td>6882</td>\n",
              "    </tr>\n",
              "    <tr>\n",
              "      <th>elenberg</th>\n",
              "      <td>5435</td>\n",
              "    </tr>\n",
              "    <tr>\n",
              "      <th>indesit</th>\n",
              "      <td>5023</td>\n",
              "    </tr>\n",
              "    <tr>\n",
              "      <th>artel</th>\n",
              "      <td>4717</td>\n",
              "    </tr>\n",
              "  </tbody>\n",
              "</table>\n",
              "</div>\n",
              "      <button class=\"colab-df-convert\" onclick=\"convertToInteractive('df-444a73c7-9044-40ec-9d82-3acf26a9da60')\"\n",
              "              title=\"Convert this dataframe to an interactive table.\"\n",
              "              style=\"display:none;\">\n",
              "        \n",
              "  <svg xmlns=\"http://www.w3.org/2000/svg\" height=\"24px\"viewBox=\"0 0 24 24\"\n",
              "       width=\"24px\">\n",
              "    <path d=\"M0 0h24v24H0V0z\" fill=\"none\"/>\n",
              "    <path d=\"M18.56 5.44l.94 2.06.94-2.06 2.06-.94-2.06-.94-.94-2.06-.94 2.06-2.06.94zm-11 1L8.5 8.5l.94-2.06 2.06-.94-2.06-.94L8.5 2.5l-.94 2.06-2.06.94zm10 10l.94 2.06.94-2.06 2.06-.94-2.06-.94-.94-2.06-.94 2.06-2.06.94z\"/><path d=\"M17.41 7.96l-1.37-1.37c-.4-.4-.92-.59-1.43-.59-.52 0-1.04.2-1.43.59L10.3 9.45l-7.72 7.72c-.78.78-.78 2.05 0 2.83L4 21.41c.39.39.9.59 1.41.59.51 0 1.02-.2 1.41-.59l7.78-7.78 2.81-2.81c.8-.78.8-2.07 0-2.86zM5.41 20L4 18.59l7.72-7.72 1.47 1.35L5.41 20z\"/>\n",
              "  </svg>\n",
              "      </button>\n",
              "      \n",
              "  <style>\n",
              "    .colab-df-container {\n",
              "      display:flex;\n",
              "      flex-wrap:wrap;\n",
              "      gap: 12px;\n",
              "    }\n",
              "\n",
              "    .colab-df-convert {\n",
              "      background-color: #E8F0FE;\n",
              "      border: none;\n",
              "      border-radius: 50%;\n",
              "      cursor: pointer;\n",
              "      display: none;\n",
              "      fill: #1967D2;\n",
              "      height: 32px;\n",
              "      padding: 0 0 0 0;\n",
              "      width: 32px;\n",
              "    }\n",
              "\n",
              "    .colab-df-convert:hover {\n",
              "      background-color: #E2EBFA;\n",
              "      box-shadow: 0px 1px 2px rgba(60, 64, 67, 0.3), 0px 1px 3px 1px rgba(60, 64, 67, 0.15);\n",
              "      fill: #174EA6;\n",
              "    }\n",
              "\n",
              "    [theme=dark] .colab-df-convert {\n",
              "      background-color: #3B4455;\n",
              "      fill: #D2E3FC;\n",
              "    }\n",
              "\n",
              "    [theme=dark] .colab-df-convert:hover {\n",
              "      background-color: #434B5C;\n",
              "      box-shadow: 0px 1px 3px 1px rgba(0, 0, 0, 0.15);\n",
              "      filter: drop-shadow(0px 1px 2px rgba(0, 0, 0, 0.3));\n",
              "      fill: #FFFFFF;\n",
              "    }\n",
              "  </style>\n",
              "\n",
              "      <script>\n",
              "        const buttonEl =\n",
              "          document.querySelector('#df-444a73c7-9044-40ec-9d82-3acf26a9da60 button.colab-df-convert');\n",
              "        buttonEl.style.display =\n",
              "          google.colab.kernel.accessAllowed ? 'block' : 'none';\n",
              "\n",
              "        async function convertToInteractive(key) {\n",
              "          const element = document.querySelector('#df-444a73c7-9044-40ec-9d82-3acf26a9da60');\n",
              "          const dataTable =\n",
              "            await google.colab.kernel.invokeFunction('convertToInteractive',\n",
              "                                                     [key], {});\n",
              "          if (!dataTable) return;\n",
              "\n",
              "          const docLinkHtml = 'Like what you see? Visit the ' +\n",
              "            '<a target=\"_blank\" href=https://colab.research.google.com/notebooks/data_table.ipynb>data table notebook</a>'\n",
              "            + ' to learn more about interactive tables.';\n",
              "          element.innerHTML = '';\n",
              "          dataTable['output_type'] = 'display_data';\n",
              "          await google.colab.output.renderOutput(dataTable, element);\n",
              "          const docLink = document.createElement('div');\n",
              "          docLink.innerHTML = docLinkHtml;\n",
              "          element.appendChild(docLink);\n",
              "        }\n",
              "      </script>\n",
              "    </div>\n",
              "  </div>\n",
              "  "
            ]
          },
          "metadata": {},
          "execution_count": 55
        }
      ]
    },
    {
      "cell_type": "code",
      "source": [
        "labels = top_sell_brand.index[:5]\n",
        "size = top_sell_brand['count'].tolist()[:5]\n",
        "colors = ['yellowgreen', 'lightskyblue','lightcoral','yellow','purple']\n",
        "\n",
        "plt.rcParams['figure.figsize'] = (8, 8)\n",
        "plt.pie(size, colors = colors, labels = labels, shadow = True, autopct = '%.2f%%')\n",
        "plt.title('Event_Type', fontsize = 20)\n",
        "plt.axis('off')\n",
        "plt.legend()\n",
        "plt.show()"
      ],
      "metadata": {
        "colab": {
          "base_uri": "https://localhost:8080/",
          "height": 486
        },
        "id": "51HVg8ErHUkK",
        "outputId": "a12012e7-1421-4519-9ccc-7f57469b7c36"
      },
      "execution_count": 87,
      "outputs": [
        {
          "output_type": "display_data",
          "data": {
            "text/plain": [
              "<Figure size 576x576 with 1 Axes>"
            ],
            "image/png": "[encoded data removed]"
          },
          "metadata": {}
        }
      ]
    },
    {
      "cell_type": "markdown",
      "source": [
        "## price"
      ],
      "metadata": {
        "id": "nIprIKatG-ZU"
      }
    },
    {
      "cell_type": "markdown",
      "source": [
        "#### 가격은 0.88달러부터 2574달러까지 다양하게 분포되어 있다.\n",
        "#### 최소 가격 제품은 ritmix사의 헤드폰이고, 최대 가격 제품은 rado사의 시계이다."
      ],
      "metadata": {
        "id": "RFAcqCBiHtL3"
      }
    },
    {
      "cell_type": "code",
      "source": [
        "print(\"price 고유 값 개수 : \", len(aft_ecommerce_df['price'].unique()))"
      ],
      "metadata": {
        "colab": {
          "base_uri": "https://localhost:8080/"
        },
        "id": "vijzETqEGbNf",
        "outputId": "29c18188-59db-4db3-bd8c-a2648a36f703"
      },
      "execution_count": 56,
      "outputs": [
        {
          "output_type": "stream",
          "name": "stdout",
          "text": [
            "price 고유 값 개수 :  50795\n"
          ]
        }
      ]
    },
    {
      "cell_type": "code",
      "source": [
        "aft_ecommerce_df['price'].unique()"
      ],
      "metadata": {
        "colab": {
          "base_uri": "https://localhost:8080/"
        },
        "id": "bONxWhf9Hyd3",
        "outputId": "c927bf84-ea5a-4dbe-fd04-931d607862d1"
      },
      "execution_count": 64,
      "outputs": [
        {
          "output_type": "execute_result",
          "data": {
            "text/plain": [
              "array([  33.2 ,  251.74, 1081.98, ..., 1693.42, 1604.37,  120.78])"
            ]
          },
          "metadata": {},
          "execution_count": 64
        }
      ]
    },
    {
      "cell_type": "code",
      "source": [
        "print(\"최소 price : \", aft_ecommerce_df['price'].min())\n",
        "print(\"최대 price : \", aft_ecommerce_df['price'].max())"
      ],
      "metadata": {
        "colab": {
          "base_uri": "https://localhost:8080/"
        },
        "id": "nEwHc2nlHAmT",
        "outputId": "5bfa4d7d-1e9a-4c45-bdd7-35a4b7749759"
      },
      "execution_count": 57,
      "outputs": [
        {
          "output_type": "stream",
          "name": "stdout",
          "text": [
            "최소 price :  0.88\n",
            "최대 price :  2574.07\n"
          ]
        }
      ]
    },
    {
      "cell_type": "code",
      "source": [
        "aft_ecommerce_df[aft_ecommerce_df['price'] == 0.88][:3]"
      ],
      "metadata": {
        "colab": {
          "base_uri": "https://localhost:8080/",
          "height": 143
        },
        "id": "vooML1JQHZ8J",
        "outputId": "b8660219-db7b-41f8-c3cf-3db5e4496bb1"
      },
      "execution_count": 60,
      "outputs": [
        {
          "output_type": "execute_result",
          "data": {
            "text/plain": [
              "     event_type  product_id          category_id                category_code  \\\n",
              "2328       view     4804536  2053013554658804075  electronics.audio.headphone   \n",
              "2471       view     4804536  2053013554658804075  electronics.audio.headphone   \n",
              "2603   purchase     4804536  2053013554658804075  electronics.audio.headphone   \n",
              "\n",
              "       brand  price    user_id                          user_session  \\\n",
              "2328  ritmix   0.88  514127317  abb0d5da-9acb-4714-a4fa-cd514f585739   \n",
              "2471  ritmix   0.88  514127317  abb0d5da-9acb-4714-a4fa-cd514f585739   \n",
              "2603  ritmix   0.88  514127317  abb0d5da-9acb-4714-a4fa-cd514f585739   \n",
              "\n",
              "                kst_time  \n",
              "2328 2019-10-01 11:25:11  \n",
              "2471 2019-10-01 11:25:40  \n",
              "2603 2019-10-01 11:26:05  "
            ],
            "text/html": [
              "\n",
              "  <div id=\"df-d48e329f-e601-4140-b6b0-be4c83dfae63\">\n",
              "    <div class=\"colab-df-container\">\n",
              "      <div>\n",
              "<style scoped>\n",
              "    .dataframe tbody tr th:only-of-type {\n",
              "        vertical-align: middle;\n",
              "    }\n",
              "\n",
              "    .dataframe tbody tr th {\n",
              "        vertical-align: top;\n",
              "    }\n",
              "\n",
              "    .dataframe thead th {\n",
              "        text-align: right;\n",
              "    }\n",
              "</style>\n",
              "<table border=\"1\" class=\"dataframe\">\n",
              "  <thead>\n",
              "    <tr style=\"text-align: right;\">\n",
              "      <th></th>\n",
              "      <th>event_type</th>\n",
              "      <th>product_id</th>\n",
              "      <th>category_id</th>\n",
              "      <th>category_code</th>\n",
              "      <th>brand</th>\n",
              "      <th>price</th>\n",
              "      <th>user_id</th>\n",
              "      <th>user_session</th>\n",
              "      <th>kst_time</th>\n",
              "    </tr>\n",
              "  </thead>\n",
              "  <tbody>\n",
              "    <tr>\n",
              "      <th>2328</th>\n",
              "      <td>view</td>\n",
              "      <td>4804536</td>\n",
              "      <td>2053013554658804075</td>\n",
              "      <td>electronics.audio.headphone</td>\n",
              "      <td>ritmix</td>\n",
              "      <td>0.88</td>\n",
              "      <td>514127317</td>\n",
              "      <td>abb0d5da-9acb-4714-a4fa-cd514f585739</td>\n",
              "      <td>2019-10-01 11:25:11</td>\n",
              "    </tr>\n",
              "    <tr>\n",
              "      <th>2471</th>\n",
              "      <td>view</td>\n",
              "      <td>4804536</td>\n",
              "      <td>2053013554658804075</td>\n",
              "      <td>electronics.audio.headphone</td>\n",
              "      <td>ritmix</td>\n",
              "      <td>0.88</td>\n",
              "      <td>514127317</td>\n",
              "      <td>abb0d5da-9acb-4714-a4fa-cd514f585739</td>\n",
              "      <td>2019-10-01 11:25:40</td>\n",
              "    </tr>\n",
              "    <tr>\n",
              "      <th>2603</th>\n",
              "      <td>purchase</td>\n",
              "      <td>4804536</td>\n",
              "      <td>2053013554658804075</td>\n",
              "      <td>electronics.audio.headphone</td>\n",
              "      <td>ritmix</td>\n",
              "      <td>0.88</td>\n",
              "      <td>514127317</td>\n",
              "      <td>abb0d5da-9acb-4714-a4fa-cd514f585739</td>\n",
              "      <td>2019-10-01 11:26:05</td>\n",
              "    </tr>\n",
              "  </tbody>\n",
              "</table>\n",
              "</div>\n",
              "      <button class=\"colab-df-convert\" onclick=\"convertToInteractive('df-d48e329f-e601-4140-b6b0-be4c83dfae63')\"\n",
              "              title=\"Convert this dataframe to an interactive table.\"\n",
              "              style=\"display:none;\">\n",
              "        \n",
              "  <svg xmlns=\"http://www.w3.org/2000/svg\" height=\"24px\"viewBox=\"0 0 24 24\"\n",
              "       width=\"24px\">\n",
              "    <path d=\"M0 0h24v24H0V0z\" fill=\"none\"/>\n",
              "    <path d=\"M18.56 5.44l.94 2.06.94-2.06 2.06-.94-2.06-.94-.94-2.06-.94 2.06-2.06.94zm-11 1L8.5 8.5l.94-2.06 2.06-.94-2.06-.94L8.5 2.5l-.94 2.06-2.06.94zm10 10l.94 2.06.94-2.06 2.06-.94-2.06-.94-.94-2.06-.94 2.06-2.06.94z\"/><path d=\"M17.41 7.96l-1.37-1.37c-.4-.4-.92-.59-1.43-.59-.52 0-1.04.2-1.43.59L10.3 9.45l-7.72 7.72c-.78.78-.78 2.05 0 2.83L4 21.41c.39.39.9.59 1.41.59.51 0 1.02-.2 1.41-.59l7.78-7.78 2.81-2.81c.8-.78.8-2.07 0-2.86zM5.41 20L4 18.59l7.72-7.72 1.47 1.35L5.41 20z\"/>\n",
              "  </svg>\n",
              "      </button>\n",
              "      \n",
              "  <style>\n",
              "    .colab-df-container {\n",
              "      display:flex;\n",
              "      flex-wrap:wrap;\n",
              "      gap: 12px;\n",
              "    }\n",
              "\n",
              "    .colab-df-convert {\n",
              "      background-color: #E8F0FE;\n",
              "      border: none;\n",
              "      border-radius: 50%;\n",
              "      cursor: pointer;\n",
              "      display: none;\n",
              "      fill: #1967D2;\n",
              "      height: 32px;\n",
              "      padding: 0 0 0 0;\n",
              "      width: 32px;\n",
              "    }\n",
              "\n",
              "    .colab-df-convert:hover {\n",
              "      background-color: #E2EBFA;\n",
              "      box-shadow: 0px 1px 2px rgba(60, 64, 67, 0.3), 0px 1px 3px 1px rgba(60, 64, 67, 0.15);\n",
              "      fill: #174EA6;\n",
              "    }\n",
              "\n",
              "    [theme=dark] .colab-df-convert {\n",
              "      background-color: #3B4455;\n",
              "      fill: #D2E3FC;\n",
              "    }\n",
              "\n",
              "    [theme=dark] .colab-df-convert:hover {\n",
              "      background-color: #434B5C;\n",
              "      box-shadow: 0px 1px 3px 1px rgba(0, 0, 0, 0.15);\n",
              "      filter: drop-shadow(0px 1px 2px rgba(0, 0, 0, 0.3));\n",
              "      fill: #FFFFFF;\n",
              "    }\n",
              "  </style>\n",
              "\n",
              "      <script>\n",
              "        const buttonEl =\n",
              "          document.querySelector('#df-d48e329f-e601-4140-b6b0-be4c83dfae63 button.colab-df-convert');\n",
              "        buttonEl.style.display =\n",
              "          google.colab.kernel.accessAllowed ? 'block' : 'none';\n",
              "\n",
              "        async function convertToInteractive(key) {\n",
              "          const element = document.querySelector('#df-d48e329f-e601-4140-b6b0-be4c83dfae63');\n",
              "          const dataTable =\n",
              "            await google.colab.kernel.invokeFunction('convertToInteractive',\n",
              "                                                     [key], {});\n",
              "          if (!dataTable) return;\n",
              "\n",
              "          const docLinkHtml = 'Like what you see? Visit the ' +\n",
              "            '<a target=\"_blank\" href=https://colab.research.google.com/notebooks/data_table.ipynb>data table notebook</a>'\n",
              "            + ' to learn more about interactive tables.';\n",
              "          element.innerHTML = '';\n",
              "          dataTable['output_type'] = 'display_data';\n",
              "          await google.colab.output.renderOutput(dataTable, element);\n",
              "          const docLink = document.createElement('div');\n",
              "          docLink.innerHTML = docLinkHtml;\n",
              "          element.appendChild(docLink);\n",
              "        }\n",
              "      </script>\n",
              "    </div>\n",
              "  </div>\n",
              "  "
            ]
          },
          "metadata": {},
          "execution_count": 60
        }
      ]
    },
    {
      "cell_type": "code",
      "source": [
        "aft_ecommerce_df[aft_ecommerce_df['price'] == 2574.07][:3]"
      ],
      "metadata": {
        "colab": {
          "base_uri": "https://localhost:8080/",
          "height": 143
        },
        "id": "KjK_Oy66HgbA",
        "outputId": "fe09496a-9c9d-411d-b5fb-d635ceb4c454"
      },
      "execution_count": 61,
      "outputs": [
        {
          "output_type": "execute_result",
          "data": {
            "text/plain": [
              "      event_type  product_id          category_id       category_code brand  \\\n",
              "2702        view    21407288  2053013561579406073  electronics.clocks  rado   \n",
              "21361       view    21407287  2053013561579406073  electronics.clocks  rado   \n",
              "40593       view    21407287  2053013561579406073  electronics.clocks  rado   \n",
              "\n",
              "         price    user_id                          user_session  \\\n",
              "2702   2574.07  527321544  b25dd047-7fec-489d-8b6b-a165cf1c7490   \n",
              "21361  2574.07  545771154  3316840f-8196-487c-a694-1b9b4c147a7d   \n",
              "40593  2574.07  514166081  5ec254bf-4457-48bf-8a5c-d1ad25284e97   \n",
              "\n",
              "                 kst_time  \n",
              "2702  2019-10-01 11:26:24  \n",
              "21361 2019-10-01 12:13:33  \n",
              "40593 2019-10-01 12:50:50  "
            ],
            "text/html": [
              "\n",
              "  <div id=\"df-e1a559e1-3481-471e-bd49-cead9dcdcd40\">\n",
              "    <div class=\"colab-df-container\">\n",
              "      <div>\n",
              "<style scoped>\n",
              "    .dataframe tbody tr th:only-of-type {\n",
              "        vertical-align: middle;\n",
              "    }\n",
              "\n",
              "    .dataframe tbody tr th {\n",
              "        vertical-align: top;\n",
              "    }\n",
              "\n",
              "    .dataframe thead th {\n",
              "        text-align: right;\n",
              "    }\n",
              "</style>\n",
              "<table border=\"1\" class=\"dataframe\">\n",
              "  <thead>\n",
              "    <tr style=\"text-align: right;\">\n",
              "      <th></th>\n",
              "      <th>event_type</th>\n",
              "      <th>product_id</th>\n",
              "      <th>category_id</th>\n",
              "      <th>category_code</th>\n",
              "      <th>brand</th>\n",
              "      <th>price</th>\n",
              "      <th>user_id</th>\n",
              "      <th>user_session</th>\n",
              "      <th>kst_time</th>\n",
              "    </tr>\n",
              "  </thead>\n",
              "  <tbody>\n",
              "    <tr>\n",
              "      <th>2702</th>\n",
              "      <td>view</td>\n",
              "      <td>21407288</td>\n",
              "      <td>2053013561579406073</td>\n",
              "      <td>electronics.clocks</td>\n",
              "      <td>rado</td>\n",
              "      <td>2574.07</td>\n",
              "      <td>527321544</td>\n",
              "      <td>b25dd047-7fec-489d-8b6b-a165cf1c7490</td>\n",
              "      <td>2019-10-01 11:26:24</td>\n",
              "    </tr>\n",
              "    <tr>\n",
              "      <th>21361</th>\n",
              "      <td>view</td>\n",
              "      <td>21407287</td>\n",
              "      <td>2053013561579406073</td>\n",
              "      <td>electronics.clocks</td>\n",
              "      <td>rado</td>\n",
              "      <td>2574.07</td>\n",
              "      <td>545771154</td>\n",
              "      <td>3316840f-8196-487c-a694-1b9b4c147a7d</td>\n",
              "      <td>2019-10-01 12:13:33</td>\n",
              "    </tr>\n",
              "    <tr>\n",
              "      <th>40593</th>\n",
              "      <td>view</td>\n",
              "      <td>21407287</td>\n",
              "      <td>2053013561579406073</td>\n",
              "      <td>electronics.clocks</td>\n",
              "      <td>rado</td>\n",
              "      <td>2574.07</td>\n",
              "      <td>514166081</td>\n",
              "      <td>5ec254bf-4457-48bf-8a5c-d1ad25284e97</td>\n",
              "      <td>2019-10-01 12:50:50</td>\n",
              "    </tr>\n",
              "  </tbody>\n",
              "</table>\n",
              "</div>\n",
              "      <button class=\"colab-df-convert\" onclick=\"convertToInteractive('df-e1a559e1-3481-471e-bd49-cead9dcdcd40')\"\n",
              "              title=\"Convert this dataframe to an interactive table.\"\n",
              "              style=\"display:none;\">\n",
              "        \n",
              "  <svg xmlns=\"http://www.w3.org/2000/svg\" height=\"24px\"viewBox=\"0 0 24 24\"\n",
              "       width=\"24px\">\n",
              "    <path d=\"M0 0h24v24H0V0z\" fill=\"none\"/>\n",
              "    <path d=\"M18.56 5.44l.94 2.06.94-2.06 2.06-.94-2.06-.94-.94-2.06-.94 2.06-2.06.94zm-11 1L8.5 8.5l.94-2.06 2.06-.94-2.06-.94L8.5 2.5l-.94 2.06-2.06.94zm10 10l.94 2.06.94-2.06 2.06-.94-2.06-.94-.94-2.06-.94 2.06-2.06.94z\"/><path d=\"M17.41 7.96l-1.37-1.37c-.4-.4-.92-.59-1.43-.59-.52 0-1.04.2-1.43.59L10.3 9.45l-7.72 7.72c-.78.78-.78 2.05 0 2.83L4 21.41c.39.39.9.59 1.41.59.51 0 1.02-.2 1.41-.59l7.78-7.78 2.81-2.81c.8-.78.8-2.07 0-2.86zM5.41 20L4 18.59l7.72-7.72 1.47 1.35L5.41 20z\"/>\n",
              "  </svg>\n",
              "      </button>\n",
              "      \n",
              "  <style>\n",
              "    .colab-df-container {\n",
              "      display:flex;\n",
              "      flex-wrap:wrap;\n",
              "      gap: 12px;\n",
              "    }\n",
              "\n",
              "    .colab-df-convert {\n",
              "      background-color: #E8F0FE;\n",
              "      border: none;\n",
              "      border-radius: 50%;\n",
              "      cursor: pointer;\n",
              "      display: none;\n",
              "      fill: #1967D2;\n",
              "      height: 32px;\n",
              "      padding: 0 0 0 0;\n",
              "      width: 32px;\n",
              "    }\n",
              "\n",
              "    .colab-df-convert:hover {\n",
              "      background-color: #E2EBFA;\n",
              "      box-shadow: 0px 1px 2px rgba(60, 64, 67, 0.3), 0px 1px 3px 1px rgba(60, 64, 67, 0.15);\n",
              "      fill: #174EA6;\n",
              "    }\n",
              "\n",
              "    [theme=dark] .colab-df-convert {\n",
              "      background-color: #3B4455;\n",
              "      fill: #D2E3FC;\n",
              "    }\n",
              "\n",
              "    [theme=dark] .colab-df-convert:hover {\n",
              "      background-color: #434B5C;\n",
              "      box-shadow: 0px 1px 3px 1px rgba(0, 0, 0, 0.15);\n",
              "      filter: drop-shadow(0px 1px 2px rgba(0, 0, 0, 0.3));\n",
              "      fill: #FFFFFF;\n",
              "    }\n",
              "  </style>\n",
              "\n",
              "      <script>\n",
              "        const buttonEl =\n",
              "          document.querySelector('#df-e1a559e1-3481-471e-bd49-cead9dcdcd40 button.colab-df-convert');\n",
              "        buttonEl.style.display =\n",
              "          google.colab.kernel.accessAllowed ? 'block' : 'none';\n",
              "\n",
              "        async function convertToInteractive(key) {\n",
              "          const element = document.querySelector('#df-e1a559e1-3481-471e-bd49-cead9dcdcd40');\n",
              "          const dataTable =\n",
              "            await google.colab.kernel.invokeFunction('convertToInteractive',\n",
              "                                                     [key], {});\n",
              "          if (!dataTable) return;\n",
              "\n",
              "          const docLinkHtml = 'Like what you see? Visit the ' +\n",
              "            '<a target=\"_blank\" href=https://colab.research.google.com/notebooks/data_table.ipynb>data table notebook</a>'\n",
              "            + ' to learn more about interactive tables.';\n",
              "          element.innerHTML = '';\n",
              "          dataTable['output_type'] = 'display_data';\n",
              "          await google.colab.output.renderOutput(dataTable, element);\n",
              "          const docLink = document.createElement('div');\n",
              "          docLink.innerHTML = docLinkHtml;\n",
              "          element.appendChild(docLink);\n",
              "        }\n",
              "      </script>\n",
              "    </div>\n",
              "  </div>\n",
              "  "
            ]
          },
          "metadata": {},
          "execution_count": 61
        }
      ]
    },
    {
      "cell_type": "markdown",
      "source": [
        "## 데이터 저장"
      ],
      "metadata": {
        "id": "JK9WAd3cJo-c"
      }
    },
    {
      "cell_type": "code",
      "source": [
        "aft_ecommerce_df.to_csv('refined_2019_Oct.csv')"
      ],
      "metadata": {
        "id": "3aEHenApJq37"
      },
      "execution_count": 88,
      "outputs": []
    }
  ]
}