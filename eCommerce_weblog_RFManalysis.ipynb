{
  "nbformat": 4,
  "nbformat_minor": 0,
  "metadata": {
    "colab": {
      "name": "eCommerce_weblog_RFManalysis.ipynb",
      "provenance": [],
      "collapsed_sections": [],
      "authorship_tag": "ABX9TyMS5svyka0BVbugps5n2/ml",
      "include_colab_link": true
    },
    "kernelspec": {
      "name": "python3",
      "display_name": "Python 3"
    },
    "language_info": {
      "name": "python"
    }
  },
  "cells": [
    {
      "cell_type": "markdown",
      "metadata": {
        "id": "view-in-github",
        "colab_type": "text"
      },
      "source": [
        "<a href=\"https://colab.research.google.com/github/JunSeokCheon/eCommerce_weblog_analysis/blob/master/eCommerce_weblog_RFManalysis.ipynb\" target=\"_parent\"><img src=\"https://colab.research.google.com/assets/colab-badge.svg\" alt=\"Open In Colab\"/></a>"
      ]
    },
    {
      "cell_type": "markdown",
      "source": [
        "# - 이번 프로젝트는 kaggle에서 제공하는 데이터셋인 eCommerce 웹 로그 데이터 분석 프로젝트이다.\n",
        "### 1. 데이터 전처리\n",
        "### 2. 데이터 분석 & 시각화\n",
        "### 3. 데이터 모델링\n",
        "\n",
        "#### 해당 파일은 데이터 분석 & 시각화 과정이다.\n",
        "#### 이 과정에서는 RFM 분석을 진행할 예정이다."
      ],
      "metadata": {
        "id": "tYR9bnm5bIEC"
      }
    },
    {
      "cell_type": "code",
      "source": [
        "from google.colab import drive\n",
        "drive.mount('/content/drive')"
      ],
      "metadata": {
        "colab": {
          "base_uri": "https://localhost:8080/"
        },
        "id": "o1ws7krlbYYb",
        "outputId": "37bddc1c-c6c7-4774-de60-9e74ed383d85"
      },
      "execution_count": null,
      "outputs": [
        {
          "output_type": "stream",
          "name": "stdout",
          "text": [
            "Mounted at /content/drive\n"
          ]
        }
      ]
    },
    {
      "cell_type": "code",
      "execution_count": null,
      "metadata": {
        "colab": {
          "base_uri": "https://localhost:8080/"
        },
        "id": "8KFXDb2yNZ7I",
        "outputId": "bb7a51cc-1bf4-4ad8-a484-c3b78a26b39b"
      },
      "outputs": [
        {
          "output_type": "stream",
          "name": "stdout",
          "text": [
            "/content/drive/MyDrive/ecommerce_log_analysis\n"
          ]
        }
      ],
      "source": [
        "cd /content/drive/MyDrive/ecommerce_log_analysis"
      ]
    },
    {
      "cell_type": "code",
      "source": [
        "ls"
      ],
      "metadata": {
        "colab": {
          "base_uri": "https://localhost:8080/"
        },
        "id": "N1azSvnXgcK7",
        "outputId": "47266652-b4e5-4f48-ecda-13cbe2e72b92"
      },
      "execution_count": null,
      "outputs": [
        {
          "output_type": "stream",
          "name": "stdout",
          "text": [
            "2019-Nov.csv\n",
            "2019-Oct.csv\n",
            "data_load.ipynb\n",
            "ecommerce-behavior-data-from-multi-category-store.zip\n",
            "eCommerce_weblog_analysis.ipynb\n",
            "eCommerce_weblog_preprocessing.ipynb\n",
            "eCommerce_weblog_RFManalysis.ipynb\n",
            "kaggle.json\n",
            "refined_2019_Oct.csv\n"
          ]
        }
      ]
    },
    {
      "cell_type": "markdown",
      "source": [
        "## 데이터 load & import"
      ],
      "metadata": {
        "id": "vC1ADTX4gfB3"
      }
    },
    {
      "cell_type": "code",
      "source": [
        "import pandas as pd\n",
        "import numpy as np\n",
        "import matplotlib.pyplot as plt\n",
        "import seaborn as sns\n",
        "from datetime import datetime, timedelta\n",
        "import squarify\n",
        "import datetime as dt\n",
        "\n",
        "%matplotlib inline"
      ],
      "metadata": {
        "id": "uDB6PVGugczR"
      },
      "execution_count": null,
      "outputs": []
    },
    {
      "cell_type": "code",
      "source": [
        "ecommerce_df = pd.read_csv(\"refined_2019_Oct.csv\", index_col = 0, usecols=['kst_time','event_type','price','user_id','user_session'])"
      ],
      "metadata": {
        "id": "3P79Ug5CggyW"
      },
      "execution_count": null,
      "outputs": []
    },
    {
      "cell_type": "code",
      "source": [
        "ecommerce_df = ecommerce_df.reset_index()"
      ],
      "metadata": {
        "id": "aJvRRztWgrXP"
      },
      "execution_count": null,
      "outputs": []
    },
    {
      "cell_type": "code",
      "source": [
        "ecommerce_df.head()"
      ],
      "metadata": {
        "colab": {
          "base_uri": "https://localhost:8080/",
          "height": 206
        },
        "id": "RRaKegNKgt5C",
        "outputId": "64bb6e0e-2727-47a2-94e3-1cb94104d128"
      },
      "execution_count": null,
      "outputs": [
        {
          "output_type": "execute_result",
          "data": {
            "text/plain": [
              "  event_type    price    user_id                          user_session  \\\n",
              "0       view    33.20  554748717  9333dfbd-b87a-4708-9857-6336556b0fcc   \n",
              "1       view   251.74  550050854  7c90fc70-0e80-4590-96f3-13c02c18c713   \n",
              "2       view  1081.98  535871217  c6bd7419-2748-4c56-95b4-8cec9ff8b80d   \n",
              "3       view   908.62  512742880  0d0d91c2-c9c2-4e81-90a5-86594dec0db9   \n",
              "4       view   102.71  520571932  ac1cd4e5-a3ce-4224-a2d7-ff660a105880   \n",
              "\n",
              "              kst_time  \n",
              "0  2019-10-01 09:00:00  \n",
              "1  2019-10-01 09:00:01  \n",
              "2  2019-10-01 09:00:04  \n",
              "3  2019-10-01 09:00:05  \n",
              "4  2019-10-01 09:00:10  "
            ],
            "text/html": [
              "\n",
              "  <div id=\"df-e4af917b-fa88-41e6-a64e-76e5de344d8f\">\n",
              "    <div class=\"colab-df-container\">\n",
              "      <div>\n",
              "<style scoped>\n",
              "    .dataframe tbody tr th:only-of-type {\n",
              "        vertical-align: middle;\n",
              "    }\n",
              "\n",
              "    .dataframe tbody tr th {\n",
              "        vertical-align: top;\n",
              "    }\n",
              "\n",
              "    .dataframe thead th {\n",
              "        text-align: right;\n",
              "    }\n",
              "</style>\n",
              "<table border=\"1\" class=\"dataframe\">\n",
              "  <thead>\n",
              "    <tr style=\"text-align: right;\">\n",
              "      <th></th>\n",
              "      <th>event_type</th>\n",
              "      <th>price</th>\n",
              "      <th>user_id</th>\n",
              "      <th>user_session</th>\n",
              "      <th>kst_time</th>\n",
              "    </tr>\n",
              "  </thead>\n",
              "  <tbody>\n",
              "    <tr>\n",
              "      <th>0</th>\n",
              "      <td>view</td>\n",
              "      <td>33.20</td>\n",
              "      <td>554748717</td>\n",
              "      <td>9333dfbd-b87a-4708-9857-6336556b0fcc</td>\n",
              "      <td>2019-10-01 09:00:00</td>\n",
              "    </tr>\n",
              "    <tr>\n",
              "      <th>1</th>\n",
              "      <td>view</td>\n",
              "      <td>251.74</td>\n",
              "      <td>550050854</td>\n",
              "      <td>7c90fc70-0e80-4590-96f3-13c02c18c713</td>\n",
              "      <td>2019-10-01 09:00:01</td>\n",
              "    </tr>\n",
              "    <tr>\n",
              "      <th>2</th>\n",
              "      <td>view</td>\n",
              "      <td>1081.98</td>\n",
              "      <td>535871217</td>\n",
              "      <td>c6bd7419-2748-4c56-95b4-8cec9ff8b80d</td>\n",
              "      <td>2019-10-01 09:00:04</td>\n",
              "    </tr>\n",
              "    <tr>\n",
              "      <th>3</th>\n",
              "      <td>view</td>\n",
              "      <td>908.62</td>\n",
              "      <td>512742880</td>\n",
              "      <td>0d0d91c2-c9c2-4e81-90a5-86594dec0db9</td>\n",
              "      <td>2019-10-01 09:00:05</td>\n",
              "    </tr>\n",
              "    <tr>\n",
              "      <th>4</th>\n",
              "      <td>view</td>\n",
              "      <td>102.71</td>\n",
              "      <td>520571932</td>\n",
              "      <td>ac1cd4e5-a3ce-4224-a2d7-ff660a105880</td>\n",
              "      <td>2019-10-01 09:00:10</td>\n",
              "    </tr>\n",
              "  </tbody>\n",
              "</table>\n",
              "</div>\n",
              "      <button class=\"colab-df-convert\" onclick=\"convertToInteractive('df-e4af917b-fa88-41e6-a64e-76e5de344d8f')\"\n",
              "              title=\"Convert this dataframe to an interactive table.\"\n",
              "              style=\"display:none;\">\n",
              "        \n",
              "  <svg xmlns=\"http://www.w3.org/2000/svg\" height=\"24px\"viewBox=\"0 0 24 24\"\n",
              "       width=\"24px\">\n",
              "    <path d=\"M0 0h24v24H0V0z\" fill=\"none\"/>\n",
              "    <path d=\"M18.56 5.44l.94 2.06.94-2.06 2.06-.94-2.06-.94-.94-2.06-.94 2.06-2.06.94zm-11 1L8.5 8.5l.94-2.06 2.06-.94-2.06-.94L8.5 2.5l-.94 2.06-2.06.94zm10 10l.94 2.06.94-2.06 2.06-.94-2.06-.94-.94-2.06-.94 2.06-2.06.94z\"/><path d=\"M17.41 7.96l-1.37-1.37c-.4-.4-.92-.59-1.43-.59-.52 0-1.04.2-1.43.59L10.3 9.45l-7.72 7.72c-.78.78-.78 2.05 0 2.83L4 21.41c.39.39.9.59 1.41.59.51 0 1.02-.2 1.41-.59l7.78-7.78 2.81-2.81c.8-.78.8-2.07 0-2.86zM5.41 20L4 18.59l7.72-7.72 1.47 1.35L5.41 20z\"/>\n",
              "  </svg>\n",
              "      </button>\n",
              "      \n",
              "  <style>\n",
              "    .colab-df-container {\n",
              "      display:flex;\n",
              "      flex-wrap:wrap;\n",
              "      gap: 12px;\n",
              "    }\n",
              "\n",
              "    .colab-df-convert {\n",
              "      background-color: #E8F0FE;\n",
              "      border: none;\n",
              "      border-radius: 50%;\n",
              "      cursor: pointer;\n",
              "      display: none;\n",
              "      fill: #1967D2;\n",
              "      height: 32px;\n",
              "      padding: 0 0 0 0;\n",
              "      width: 32px;\n",
              "    }\n",
              "\n",
              "    .colab-df-convert:hover {\n",
              "      background-color: #E2EBFA;\n",
              "      box-shadow: 0px 1px 2px rgba(60, 64, 67, 0.3), 0px 1px 3px 1px rgba(60, 64, 67, 0.15);\n",
              "      fill: #174EA6;\n",
              "    }\n",
              "\n",
              "    [theme=dark] .colab-df-convert {\n",
              "      background-color: #3B4455;\n",
              "      fill: #D2E3FC;\n",
              "    }\n",
              "\n",
              "    [theme=dark] .colab-df-convert:hover {\n",
              "      background-color: #434B5C;\n",
              "      box-shadow: 0px 1px 3px 1px rgba(0, 0, 0, 0.15);\n",
              "      filter: drop-shadow(0px 1px 2px rgba(0, 0, 0, 0.3));\n",
              "      fill: #FFFFFF;\n",
              "    }\n",
              "  </style>\n",
              "\n",
              "      <script>\n",
              "        const buttonEl =\n",
              "          document.querySelector('#df-e4af917b-fa88-41e6-a64e-76e5de344d8f button.colab-df-convert');\n",
              "        buttonEl.style.display =\n",
              "          google.colab.kernel.accessAllowed ? 'block' : 'none';\n",
              "\n",
              "        async function convertToInteractive(key) {\n",
              "          const element = document.querySelector('#df-e4af917b-fa88-41e6-a64e-76e5de344d8f');\n",
              "          const dataTable =\n",
              "            await google.colab.kernel.invokeFunction('convertToInteractive',\n",
              "                                                     [key], {});\n",
              "          if (!dataTable) return;\n",
              "\n",
              "          const docLinkHtml = 'Like what you see? Visit the ' +\n",
              "            '<a target=\"_blank\" href=https://colab.research.google.com/notebooks/data_table.ipynb>data table notebook</a>'\n",
              "            + ' to learn more about interactive tables.';\n",
              "          element.innerHTML = '';\n",
              "          dataTable['output_type'] = 'display_data';\n",
              "          await google.colab.output.renderOutput(dataTable, element);\n",
              "          const docLink = document.createElement('div');\n",
              "          docLink.innerHTML = docLinkHtml;\n",
              "          element.appendChild(docLink);\n",
              "        }\n",
              "      </script>\n",
              "    </div>\n",
              "  </div>\n",
              "  "
            ]
          },
          "metadata": {},
          "execution_count": 8
        }
      ]
    },
    {
      "cell_type": "markdown",
      "source": [
        "## RFM ?\n",
        "RFM의 개념은 비교적 간단합니다. 아래 세가지 단어의 약자를 따서 RFM이라고 부르는데요.  \n",
        "Recency : 얼마나 최근에 구매했는가  \n",
        "Frequency : 얼마나 자주 구매했는가  \n",
        "Monetary : 얼마나 많은 금액을 지출했는가  \n",
        "즉, 사용자별로 얼마나 최근에, 얼마나 자주, 얼마나 많은 금액을 지출했는지에 따라 사용자들의 분포를 확인 하거나 사용자 그룹(또는 등급)을 나누어 분류 하는 분석 기법입니다. "
      ],
      "metadata": {
        "id": "RT9upEifgv11"
      }
    },
    {
      "cell_type": "markdown",
      "source": [
        "RFM 분석은 기본적으로 evnet_type이 purchase 유저기준으로 진행하기 때문에, 필터링 한다.  \n",
        "같은 유저라도 세션이 다를 수 있으니, 세션별로 그룹핑을 진행한다."
      ],
      "metadata": {
        "id": "ueqkUTSurFQX"
      }
    },
    {
      "cell_type": "code",
      "source": [
        "ecommerce_df = ecommerce_df[ecommerce_df['event_type'] == 'purchase']"
      ],
      "metadata": {
        "id": "vFllh3KamvxJ"
      },
      "execution_count": null,
      "outputs": []
    },
    {
      "cell_type": "code",
      "source": [
        "ecommerce_df['kst_time'] = pd.to_datetime(ecommerce_df['kst_time'])"
      ],
      "metadata": {
        "id": "bc7L67N3mvzH"
      },
      "execution_count": null,
      "outputs": []
    },
    {
      "cell_type": "code",
      "source": [
        "ecommerce_df.info()"
      ],
      "metadata": {
        "colab": {
          "base_uri": "https://localhost:8080/"
        },
        "id": "3MCGmvA_mv1W",
        "outputId": "17d9ca7c-41f7-4899-9b31-b7454a7d1ed5"
      },
      "execution_count": null,
      "outputs": [
        {
          "output_type": "stream",
          "name": "stdout",
          "text": [
            "<class 'pandas.core.frame.DataFrame'>\n",
            "Int64Index: 549507 entries, 111 to 26560567\n",
            "Data columns (total 5 columns):\n",
            " #   Column        Non-Null Count   Dtype         \n",
            "---  ------        --------------   -----         \n",
            " 0   event_type    549507 non-null  object        \n",
            " 1   price         549507 non-null  float64       \n",
            " 2   user_id       549507 non-null  int64         \n",
            " 3   user_session  549507 non-null  object        \n",
            " 4   kst_time      549507 non-null  datetime64[ns]\n",
            "dtypes: datetime64[ns](1), float64(1), int64(1), object(2)\n",
            "memory usage: 25.2+ MB\n"
          ]
        }
      ]
    },
    {
      "cell_type": "code",
      "source": [
        "ecommerce_df = ecommerce_df.groupby(by=\"user_session\").agg(Date_order=(\"kst_time\", lambda x: x.max()), / \n",
        "                                                           user_id=(\"user_id\", lambda x: x.unique()), / \n",
        "                                                           session_count=(\"user_session\", \"count\"),  /\n",
        "                                                           money_spent=(\"price\", \"sum\")).reset_index(drop=True)"
      ],
      "metadata": {
        "id": "XIEugdFImv35"
      },
      "execution_count": null,
      "outputs": []
    },
    {
      "cell_type": "code",
      "source": [
        "ecommerce_df"
      ],
      "metadata": {
        "colab": {
          "base_uri": "https://localhost:8080/",
          "height": 424
        },
        "id": "lQn1P59HtBHD",
        "outputId": "38f98672-37be-4554-deba-68a270098fc6"
      },
      "execution_count": null,
      "outputs": [
        {
          "output_type": "execute_result",
          "data": {
            "text/plain": [
              "                Date_order    user_id  session_count  money_spent\n",
              "0      2019-10-06 20:34:30  546521725              1       289.52\n",
              "1      2019-10-25 17:39:11  560486342              1       171.90\n",
              "2      2019-10-17 22:37:59  560744406              2       379.78\n",
              "3      2019-10-15 17:09:02  520649833              1        90.07\n",
              "4      2019-10-23 23:27:08  534210306              2       571.92\n",
              "...                    ...        ...            ...          ...\n",
              "466794 2019-10-29 14:18:45  565273783              2      2715.20\n",
              "466795 2019-10-04 18:01:28  548691169              1       193.03\n",
              "466796 2019-10-14 18:19:57  560049739              1       131.64\n",
              "466797 2019-10-10 21:34:49  517051774              1       130.12\n",
              "466798 2019-10-04 17:53:59  519348985              1       360.34\n",
              "\n",
              "[466799 rows x 4 columns]"
            ],
            "text/html": [
              "\n",
              "  <div id=\"df-f6f6232b-2f2f-47e8-9e1b-aa5955a273b1\">\n",
              "    <div class=\"colab-df-container\">\n",
              "      <div>\n",
              "<style scoped>\n",
              "    .dataframe tbody tr th:only-of-type {\n",
              "        vertical-align: middle;\n",
              "    }\n",
              "\n",
              "    .dataframe tbody tr th {\n",
              "        vertical-align: top;\n",
              "    }\n",
              "\n",
              "    .dataframe thead th {\n",
              "        text-align: right;\n",
              "    }\n",
              "</style>\n",
              "<table border=\"1\" class=\"dataframe\">\n",
              "  <thead>\n",
              "    <tr style=\"text-align: right;\">\n",
              "      <th></th>\n",
              "      <th>Date_order</th>\n",
              "      <th>user_id</th>\n",
              "      <th>session_count</th>\n",
              "      <th>money_spent</th>\n",
              "    </tr>\n",
              "  </thead>\n",
              "  <tbody>\n",
              "    <tr>\n",
              "      <th>0</th>\n",
              "      <td>2019-10-06 20:34:30</td>\n",
              "      <td>546521725</td>\n",
              "      <td>1</td>\n",
              "      <td>289.52</td>\n",
              "    </tr>\n",
              "    <tr>\n",
              "      <th>1</th>\n",
              "      <td>2019-10-25 17:39:11</td>\n",
              "      <td>560486342</td>\n",
              "      <td>1</td>\n",
              "      <td>171.90</td>\n",
              "    </tr>\n",
              "    <tr>\n",
              "      <th>2</th>\n",
              "      <td>2019-10-17 22:37:59</td>\n",
              "      <td>560744406</td>\n",
              "      <td>2</td>\n",
              "      <td>379.78</td>\n",
              "    </tr>\n",
              "    <tr>\n",
              "      <th>3</th>\n",
              "      <td>2019-10-15 17:09:02</td>\n",
              "      <td>520649833</td>\n",
              "      <td>1</td>\n",
              "      <td>90.07</td>\n",
              "    </tr>\n",
              "    <tr>\n",
              "      <th>4</th>\n",
              "      <td>2019-10-23 23:27:08</td>\n",
              "      <td>534210306</td>\n",
              "      <td>2</td>\n",
              "      <td>571.92</td>\n",
              "    </tr>\n",
              "    <tr>\n",
              "      <th>...</th>\n",
              "      <td>...</td>\n",
              "      <td>...</td>\n",
              "      <td>...</td>\n",
              "      <td>...</td>\n",
              "    </tr>\n",
              "    <tr>\n",
              "      <th>466794</th>\n",
              "      <td>2019-10-29 14:18:45</td>\n",
              "      <td>565273783</td>\n",
              "      <td>2</td>\n",
              "      <td>2715.20</td>\n",
              "    </tr>\n",
              "    <tr>\n",
              "      <th>466795</th>\n",
              "      <td>2019-10-04 18:01:28</td>\n",
              "      <td>548691169</td>\n",
              "      <td>1</td>\n",
              "      <td>193.03</td>\n",
              "    </tr>\n",
              "    <tr>\n",
              "      <th>466796</th>\n",
              "      <td>2019-10-14 18:19:57</td>\n",
              "      <td>560049739</td>\n",
              "      <td>1</td>\n",
              "      <td>131.64</td>\n",
              "    </tr>\n",
              "    <tr>\n",
              "      <th>466797</th>\n",
              "      <td>2019-10-10 21:34:49</td>\n",
              "      <td>517051774</td>\n",
              "      <td>1</td>\n",
              "      <td>130.12</td>\n",
              "    </tr>\n",
              "    <tr>\n",
              "      <th>466798</th>\n",
              "      <td>2019-10-04 17:53:59</td>\n",
              "      <td>519348985</td>\n",
              "      <td>1</td>\n",
              "      <td>360.34</td>\n",
              "    </tr>\n",
              "  </tbody>\n",
              "</table>\n",
              "<p>466799 rows × 4 columns</p>\n",
              "</div>\n",
              "      <button class=\"colab-df-convert\" onclick=\"convertToInteractive('df-f6f6232b-2f2f-47e8-9e1b-aa5955a273b1')\"\n",
              "              title=\"Convert this dataframe to an interactive table.\"\n",
              "              style=\"display:none;\">\n",
              "        \n",
              "  <svg xmlns=\"http://www.w3.org/2000/svg\" height=\"24px\"viewBox=\"0 0 24 24\"\n",
              "       width=\"24px\">\n",
              "    <path d=\"M0 0h24v24H0V0z\" fill=\"none\"/>\n",
              "    <path d=\"M18.56 5.44l.94 2.06.94-2.06 2.06-.94-2.06-.94-.94-2.06-.94 2.06-2.06.94zm-11 1L8.5 8.5l.94-2.06 2.06-.94-2.06-.94L8.5 2.5l-.94 2.06-2.06.94zm10 10l.94 2.06.94-2.06 2.06-.94-2.06-.94-.94-2.06-.94 2.06-2.06.94z\"/><path d=\"M17.41 7.96l-1.37-1.37c-.4-.4-.92-.59-1.43-.59-.52 0-1.04.2-1.43.59L10.3 9.45l-7.72 7.72c-.78.78-.78 2.05 0 2.83L4 21.41c.39.39.9.59 1.41.59.51 0 1.02-.2 1.41-.59l7.78-7.78 2.81-2.81c.8-.78.8-2.07 0-2.86zM5.41 20L4 18.59l7.72-7.72 1.47 1.35L5.41 20z\"/>\n",
              "  </svg>\n",
              "      </button>\n",
              "      \n",
              "  <style>\n",
              "    .colab-df-container {\n",
              "      display:flex;\n",
              "      flex-wrap:wrap;\n",
              "      gap: 12px;\n",
              "    }\n",
              "\n",
              "    .colab-df-convert {\n",
              "      background-color: #E8F0FE;\n",
              "      border: none;\n",
              "      border-radius: 50%;\n",
              "      cursor: pointer;\n",
              "      display: none;\n",
              "      fill: #1967D2;\n",
              "      height: 32px;\n",
              "      padding: 0 0 0 0;\n",
              "      width: 32px;\n",
              "    }\n",
              "\n",
              "    .colab-df-convert:hover {\n",
              "      background-color: #E2EBFA;\n",
              "      box-shadow: 0px 1px 2px rgba(60, 64, 67, 0.3), 0px 1px 3px 1px rgba(60, 64, 67, 0.15);\n",
              "      fill: #174EA6;\n",
              "    }\n",
              "\n",
              "    [theme=dark] .colab-df-convert {\n",
              "      background-color: #3B4455;\n",
              "      fill: #D2E3FC;\n",
              "    }\n",
              "\n",
              "    [theme=dark] .colab-df-convert:hover {\n",
              "      background-color: #434B5C;\n",
              "      box-shadow: 0px 1px 3px 1px rgba(0, 0, 0, 0.15);\n",
              "      filter: drop-shadow(0px 1px 2px rgba(0, 0, 0, 0.3));\n",
              "      fill: #FFFFFF;\n",
              "    }\n",
              "  </style>\n",
              "\n",
              "      <script>\n",
              "        const buttonEl =\n",
              "          document.querySelector('#df-f6f6232b-2f2f-47e8-9e1b-aa5955a273b1 button.colab-df-convert');\n",
              "        buttonEl.style.display =\n",
              "          google.colab.kernel.accessAllowed ? 'block' : 'none';\n",
              "\n",
              "        async function convertToInteractive(key) {\n",
              "          const element = document.querySelector('#df-f6f6232b-2f2f-47e8-9e1b-aa5955a273b1');\n",
              "          const dataTable =\n",
              "            await google.colab.kernel.invokeFunction('convertToInteractive',\n",
              "                                                     [key], {});\n",
              "          if (!dataTable) return;\n",
              "\n",
              "          const docLinkHtml = 'Like what you see? Visit the ' +\n",
              "            '<a target=\"_blank\" href=https://colab.research.google.com/notebooks/data_table.ipynb>data table notebook</a>'\n",
              "            + ' to learn more about interactive tables.';\n",
              "          element.innerHTML = '';\n",
              "          dataTable['output_type'] = 'display_data';\n",
              "          await google.colab.output.renderOutput(dataTable, element);\n",
              "          const docLink = document.createElement('div');\n",
              "          docLink.innerHTML = docLinkHtml;\n",
              "          element.appendChild(docLink);\n",
              "        }\n",
              "      </script>\n",
              "    </div>\n",
              "  </div>\n",
              "  "
            ]
          },
          "metadata": {},
          "execution_count": 15
        }
      ]
    },
    {
      "cell_type": "markdown",
      "source": [
        "## RFM 분석\n",
        "RFM 분석의 3가지 속성인 Recency, Frequency, Monetary를 구할 것이다."
      ],
      "metadata": {
        "id": "iY_bnl_ztioR"
      }
    },
    {
      "cell_type": "code",
      "source": [
        "ecommerce_df['Date_order'].max()"
      ],
      "metadata": {
        "colab": {
          "base_uri": "https://localhost:8080/"
        },
        "id": "1LxFaV0GtY-a",
        "outputId": "79e6c03b-7010-464d-dcd8-12ce8f7b090e"
      },
      "execution_count": null,
      "outputs": [
        {
          "output_type": "execute_result",
          "data": {
            "text/plain": [
              "Timestamp('2019-11-01 08:59:16')"
            ]
          },
          "metadata": {},
          "execution_count": 16
        }
      ]
    },
    {
      "cell_type": "markdown",
      "source": [
        "데이터 마지막날짜에서 현재 구입 날짜를 빼면 마지막 구매 날짜가 나오는데, 일자 데이터 타입으로 변경해서 넣는다."
      ],
      "metadata": {
        "id": "Cod0MEHft9te"
      }
    },
    {
      "cell_type": "code",
      "source": [
        "last_day = dt.datetime(2019,11,2)\n",
        "ecommerce_df['last_purchase'] = last_day - ecommerce_df['Date_order']\n",
        "ecommerce_df['last_purchase'].astype('timedelta64[D]')\n",
        "ecommerce_df['last_purchase']=ecommerce_df['last_purchase'] / np.timedelta64(1, 'D')\n",
        "ecommerce_df.head()"
      ],
      "metadata": {
        "colab": {
          "base_uri": "https://localhost:8080/",
          "height": 206
        },
        "id": "shA8PfIxufCs",
        "outputId": "93fc63e8-c59b-4de2-b073-fe2409c1d648"
      },
      "execution_count": null,
      "outputs": [
        {
          "output_type": "execute_result",
          "data": {
            "text/plain": [
              "           Date_order    user_id  session_count  money_spent  last_purchase\n",
              "0 2019-10-06 20:34:30  546521725              1       289.52      26.142708\n",
              "1 2019-10-25 17:39:11  560486342              1       171.90       7.264456\n",
              "2 2019-10-17 22:37:59  560744406              2       379.78      15.056956\n",
              "3 2019-10-15 17:09:02  520649833              1        90.07      17.285394\n",
              "4 2019-10-23 23:27:08  534210306              2       571.92       9.022824"
            ],
            "text/html": [
              "\n",
              "  <div id=\"df-448655a1-98bc-473f-bf31-75f9b4a7817c\">\n",
              "    <div class=\"colab-df-container\">\n",
              "      <div>\n",
              "<style scoped>\n",
              "    .dataframe tbody tr th:only-of-type {\n",
              "        vertical-align: middle;\n",
              "    }\n",
              "\n",
              "    .dataframe tbody tr th {\n",
              "        vertical-align: top;\n",
              "    }\n",
              "\n",
              "    .dataframe thead th {\n",
              "        text-align: right;\n",
              "    }\n",
              "</style>\n",
              "<table border=\"1\" class=\"dataframe\">\n",
              "  <thead>\n",
              "    <tr style=\"text-align: right;\">\n",
              "      <th></th>\n",
              "      <th>Date_order</th>\n",
              "      <th>user_id</th>\n",
              "      <th>session_count</th>\n",
              "      <th>money_spent</th>\n",
              "      <th>last_purchase</th>\n",
              "    </tr>\n",
              "  </thead>\n",
              "  <tbody>\n",
              "    <tr>\n",
              "      <th>0</th>\n",
              "      <td>2019-10-06 20:34:30</td>\n",
              "      <td>546521725</td>\n",
              "      <td>1</td>\n",
              "      <td>289.52</td>\n",
              "      <td>26.142708</td>\n",
              "    </tr>\n",
              "    <tr>\n",
              "      <th>1</th>\n",
              "      <td>2019-10-25 17:39:11</td>\n",
              "      <td>560486342</td>\n",
              "      <td>1</td>\n",
              "      <td>171.90</td>\n",
              "      <td>7.264456</td>\n",
              "    </tr>\n",
              "    <tr>\n",
              "      <th>2</th>\n",
              "      <td>2019-10-17 22:37:59</td>\n",
              "      <td>560744406</td>\n",
              "      <td>2</td>\n",
              "      <td>379.78</td>\n",
              "      <td>15.056956</td>\n",
              "    </tr>\n",
              "    <tr>\n",
              "      <th>3</th>\n",
              "      <td>2019-10-15 17:09:02</td>\n",
              "      <td>520649833</td>\n",
              "      <td>1</td>\n",
              "      <td>90.07</td>\n",
              "      <td>17.285394</td>\n",
              "    </tr>\n",
              "    <tr>\n",
              "      <th>4</th>\n",
              "      <td>2019-10-23 23:27:08</td>\n",
              "      <td>534210306</td>\n",
              "      <td>2</td>\n",
              "      <td>571.92</td>\n",
              "      <td>9.022824</td>\n",
              "    </tr>\n",
              "  </tbody>\n",
              "</table>\n",
              "</div>\n",
              "      <button class=\"colab-df-convert\" onclick=\"convertToInteractive('df-448655a1-98bc-473f-bf31-75f9b4a7817c')\"\n",
              "              title=\"Convert this dataframe to an interactive table.\"\n",
              "              style=\"display:none;\">\n",
              "        \n",
              "  <svg xmlns=\"http://www.w3.org/2000/svg\" height=\"24px\"viewBox=\"0 0 24 24\"\n",
              "       width=\"24px\">\n",
              "    <path d=\"M0 0h24v24H0V0z\" fill=\"none\"/>\n",
              "    <path d=\"M18.56 5.44l.94 2.06.94-2.06 2.06-.94-2.06-.94-.94-2.06-.94 2.06-2.06.94zm-11 1L8.5 8.5l.94-2.06 2.06-.94-2.06-.94L8.5 2.5l-.94 2.06-2.06.94zm10 10l.94 2.06.94-2.06 2.06-.94-2.06-.94-.94-2.06-.94 2.06-2.06.94z\"/><path d=\"M17.41 7.96l-1.37-1.37c-.4-.4-.92-.59-1.43-.59-.52 0-1.04.2-1.43.59L10.3 9.45l-7.72 7.72c-.78.78-.78 2.05 0 2.83L4 21.41c.39.39.9.59 1.41.59.51 0 1.02-.2 1.41-.59l7.78-7.78 2.81-2.81c.8-.78.8-2.07 0-2.86zM5.41 20L4 18.59l7.72-7.72 1.47 1.35L5.41 20z\"/>\n",
              "  </svg>\n",
              "      </button>\n",
              "      \n",
              "  <style>\n",
              "    .colab-df-container {\n",
              "      display:flex;\n",
              "      flex-wrap:wrap;\n",
              "      gap: 12px;\n",
              "    }\n",
              "\n",
              "    .colab-df-convert {\n",
              "      background-color: #E8F0FE;\n",
              "      border: none;\n",
              "      border-radius: 50%;\n",
              "      cursor: pointer;\n",
              "      display: none;\n",
              "      fill: #1967D2;\n",
              "      height: 32px;\n",
              "      padding: 0 0 0 0;\n",
              "      width: 32px;\n",
              "    }\n",
              "\n",
              "    .colab-df-convert:hover {\n",
              "      background-color: #E2EBFA;\n",
              "      box-shadow: 0px 1px 2px rgba(60, 64, 67, 0.3), 0px 1px 3px 1px rgba(60, 64, 67, 0.15);\n",
              "      fill: #174EA6;\n",
              "    }\n",
              "\n",
              "    [theme=dark] .colab-df-convert {\n",
              "      background-color: #3B4455;\n",
              "      fill: #D2E3FC;\n",
              "    }\n",
              "\n",
              "    [theme=dark] .colab-df-convert:hover {\n",
              "      background-color: #434B5C;\n",
              "      box-shadow: 0px 1px 3px 1px rgba(0, 0, 0, 0.15);\n",
              "      filter: drop-shadow(0px 1px 2px rgba(0, 0, 0, 0.3));\n",
              "      fill: #FFFFFF;\n",
              "    }\n",
              "  </style>\n",
              "\n",
              "      <script>\n",
              "        const buttonEl =\n",
              "          document.querySelector('#df-448655a1-98bc-473f-bf31-75f9b4a7817c button.colab-df-convert');\n",
              "        buttonEl.style.display =\n",
              "          google.colab.kernel.accessAllowed ? 'block' : 'none';\n",
              "\n",
              "        async function convertToInteractive(key) {\n",
              "          const element = document.querySelector('#df-448655a1-98bc-473f-bf31-75f9b4a7817c');\n",
              "          const dataTable =\n",
              "            await google.colab.kernel.invokeFunction('convertToInteractive',\n",
              "                                                     [key], {});\n",
              "          if (!dataTable) return;\n",
              "\n",
              "          const docLinkHtml = 'Like what you see? Visit the ' +\n",
              "            '<a target=\"_blank\" href=https://colab.research.google.com/notebooks/data_table.ipynb>data table notebook</a>'\n",
              "            + ' to learn more about interactive tables.';\n",
              "          element.innerHTML = '';\n",
              "          dataTable['output_type'] = 'display_data';\n",
              "          await google.colab.output.renderOutput(dataTable, element);\n",
              "          const docLink = document.createElement('div');\n",
              "          docLink.innerHTML = docLinkHtml;\n",
              "          element.appendChild(docLink);\n",
              "        }\n",
              "      </script>\n",
              "    </div>\n",
              "  </div>\n",
              "  "
            ]
          },
          "metadata": {},
          "execution_count": 32
        }
      ]
    },
    {
      "cell_type": "markdown",
      "source": [
        "user_id로 그룹핑해서 Recency, Frequency, Monetary 구한다.  \n",
        "Recency - last_purchase 중 최소 일자(min())  \n",
        "Frequency - user_id의 개수를 세면 해당 일자로부터의 빈도(count)  \n",
        "Monetary - 그룹핑된 데이터에서 money_spend의 합(sum))"
      ],
      "metadata": {
        "id": "54rnTR63wYsr"
      }
    },
    {
      "cell_type": "code",
      "source": [
        "RFM = ecommerce_df.groupby('user_id').agg(Recency=('last_purchase', lambda x: x.min()),  / \n",
        "                                          Frequency=('user_id', lambda x: x.count()),  / \n",
        "                                          Monetary=('money_spent', lambda x : x.sum()))"
      ],
      "metadata": {
        "id": "6-KJMsA-u8Av"
      },
      "execution_count": null,
      "outputs": []
    },
    {
      "cell_type": "code",
      "source": [
        "RFM.head()"
      ],
      "metadata": {
        "colab": {
          "base_uri": "https://localhost:8080/",
          "height": 238
        },
        "id": "ykoWOJXDxqwC",
        "outputId": "b21856a1-7b0c-42cd-b6c3-2119c82d7f82"
      },
      "execution_count": null,
      "outputs": [
        {
          "output_type": "execute_result",
          "data": {
            "text/plain": [
              "             Recency  Frequency  Monetary\n",
              "user_id                                  \n",
              "303160429  19.065637          1    340.59\n",
              "340041246  18.009965          1    339.70\n",
              "384989212  14.152789          1     41.44\n",
              "401021311  11.444977          1    231.64\n",
              "403013066  13.822766          1    807.16"
            ],
            "text/html": [
              "\n",
              "  <div id=\"df-5dc18af7-f665-4689-b883-e3da687b0282\">\n",
              "    <div class=\"colab-df-container\">\n",
              "      <div>\n",
              "<style scoped>\n",
              "    .dataframe tbody tr th:only-of-type {\n",
              "        vertical-align: middle;\n",
              "    }\n",
              "\n",
              "    .dataframe tbody tr th {\n",
              "        vertical-align: top;\n",
              "    }\n",
              "\n",
              "    .dataframe thead th {\n",
              "        text-align: right;\n",
              "    }\n",
              "</style>\n",
              "<table border=\"1\" class=\"dataframe\">\n",
              "  <thead>\n",
              "    <tr style=\"text-align: right;\">\n",
              "      <th></th>\n",
              "      <th>Recency</th>\n",
              "      <th>Frequency</th>\n",
              "      <th>Monetary</th>\n",
              "    </tr>\n",
              "    <tr>\n",
              "      <th>user_id</th>\n",
              "      <th></th>\n",
              "      <th></th>\n",
              "      <th></th>\n",
              "    </tr>\n",
              "  </thead>\n",
              "  <tbody>\n",
              "    <tr>\n",
              "      <th>303160429</th>\n",
              "      <td>19.065637</td>\n",
              "      <td>1</td>\n",
              "      <td>340.59</td>\n",
              "    </tr>\n",
              "    <tr>\n",
              "      <th>340041246</th>\n",
              "      <td>18.009965</td>\n",
              "      <td>1</td>\n",
              "      <td>339.70</td>\n",
              "    </tr>\n",
              "    <tr>\n",
              "      <th>384989212</th>\n",
              "      <td>14.152789</td>\n",
              "      <td>1</td>\n",
              "      <td>41.44</td>\n",
              "    </tr>\n",
              "    <tr>\n",
              "      <th>401021311</th>\n",
              "      <td>11.444977</td>\n",
              "      <td>1</td>\n",
              "      <td>231.64</td>\n",
              "    </tr>\n",
              "    <tr>\n",
              "      <th>403013066</th>\n",
              "      <td>13.822766</td>\n",
              "      <td>1</td>\n",
              "      <td>807.16</td>\n",
              "    </tr>\n",
              "  </tbody>\n",
              "</table>\n",
              "</div>\n",
              "      <button class=\"colab-df-convert\" onclick=\"convertToInteractive('df-5dc18af7-f665-4689-b883-e3da687b0282')\"\n",
              "              title=\"Convert this dataframe to an interactive table.\"\n",
              "              style=\"display:none;\">\n",
              "        \n",
              "  <svg xmlns=\"http://www.w3.org/2000/svg\" height=\"24px\"viewBox=\"0 0 24 24\"\n",
              "       width=\"24px\">\n",
              "    <path d=\"M0 0h24v24H0V0z\" fill=\"none\"/>\n",
              "    <path d=\"M18.56 5.44l.94 2.06.94-2.06 2.06-.94-2.06-.94-.94-2.06-.94 2.06-2.06.94zm-11 1L8.5 8.5l.94-2.06 2.06-.94-2.06-.94L8.5 2.5l-.94 2.06-2.06.94zm10 10l.94 2.06.94-2.06 2.06-.94-2.06-.94-.94-2.06-.94 2.06-2.06.94z\"/><path d=\"M17.41 7.96l-1.37-1.37c-.4-.4-.92-.59-1.43-.59-.52 0-1.04.2-1.43.59L10.3 9.45l-7.72 7.72c-.78.78-.78 2.05 0 2.83L4 21.41c.39.39.9.59 1.41.59.51 0 1.02-.2 1.41-.59l7.78-7.78 2.81-2.81c.8-.78.8-2.07 0-2.86zM5.41 20L4 18.59l7.72-7.72 1.47 1.35L5.41 20z\"/>\n",
              "  </svg>\n",
              "      </button>\n",
              "      \n",
              "  <style>\n",
              "    .colab-df-container {\n",
              "      display:flex;\n",
              "      flex-wrap:wrap;\n",
              "      gap: 12px;\n",
              "    }\n",
              "\n",
              "    .colab-df-convert {\n",
              "      background-color: #E8F0FE;\n",
              "      border: none;\n",
              "      border-radius: 50%;\n",
              "      cursor: pointer;\n",
              "      display: none;\n",
              "      fill: #1967D2;\n",
              "      height: 32px;\n",
              "      padding: 0 0 0 0;\n",
              "      width: 32px;\n",
              "    }\n",
              "\n",
              "    .colab-df-convert:hover {\n",
              "      background-color: #E2EBFA;\n",
              "      box-shadow: 0px 1px 2px rgba(60, 64, 67, 0.3), 0px 1px 3px 1px rgba(60, 64, 67, 0.15);\n",
              "      fill: #174EA6;\n",
              "    }\n",
              "\n",
              "    [theme=dark] .colab-df-convert {\n",
              "      background-color: #3B4455;\n",
              "      fill: #D2E3FC;\n",
              "    }\n",
              "\n",
              "    [theme=dark] .colab-df-convert:hover {\n",
              "      background-color: #434B5C;\n",
              "      box-shadow: 0px 1px 3px 1px rgba(0, 0, 0, 0.15);\n",
              "      filter: drop-shadow(0px 1px 2px rgba(0, 0, 0, 0.3));\n",
              "      fill: #FFFFFF;\n",
              "    }\n",
              "  </style>\n",
              "\n",
              "      <script>\n",
              "        const buttonEl =\n",
              "          document.querySelector('#df-5dc18af7-f665-4689-b883-e3da687b0282 button.colab-df-convert');\n",
              "        buttonEl.style.display =\n",
              "          google.colab.kernel.accessAllowed ? 'block' : 'none';\n",
              "\n",
              "        async function convertToInteractive(key) {\n",
              "          const element = document.querySelector('#df-5dc18af7-f665-4689-b883-e3da687b0282');\n",
              "          const dataTable =\n",
              "            await google.colab.kernel.invokeFunction('convertToInteractive',\n",
              "                                                     [key], {});\n",
              "          if (!dataTable) return;\n",
              "\n",
              "          const docLinkHtml = 'Like what you see? Visit the ' +\n",
              "            '<a target=\"_blank\" href=https://colab.research.google.com/notebooks/data_table.ipynb>data table notebook</a>'\n",
              "            + ' to learn more about interactive tables.';\n",
              "          element.innerHTML = '';\n",
              "          dataTable['output_type'] = 'display_data';\n",
              "          await google.colab.output.renderOutput(dataTable, element);\n",
              "          const docLink = document.createElement('div');\n",
              "          docLink.innerHTML = docLinkHtml;\n",
              "          element.appendChild(docLink);\n",
              "        }\n",
              "      </script>\n",
              "    </div>\n",
              "  </div>\n",
              "  "
            ]
          },
          "metadata": {},
          "execution_count": 35
        }
      ]
    },
    {
      "cell_type": "markdown",
      "source": [
        "### Recency \n",
        "얼마나 최근에 구입했는가 - 최소 6시간부터 마지막 날(11/1)에 구입한 유저까지 존재한다."
      ],
      "metadata": {
        "id": "N0tBTX19yGWq"
      }
    },
    {
      "cell_type": "code",
      "source": [
        "RFM['Recency'].describe()"
      ],
      "metadata": {
        "colab": {
          "base_uri": "https://localhost:8080/"
        },
        "id": "SVreIveAx84j",
        "outputId": "e6c2cef1-b705-4075-e660-2a1b18baa395"
      },
      "execution_count": null,
      "outputs": [
        {
          "output_type": "execute_result",
          "data": {
            "text/plain": [
              "count    263445.000000\n",
              "mean         14.852063\n",
              "std           8.712395\n",
              "min           0.625509\n",
              "25%           7.297870\n",
              "50%          14.316053\n",
              "75%          21.912280\n",
              "max          31.618449\n",
              "Name: Recency, dtype: float64"
            ]
          },
          "metadata": {},
          "execution_count": 36
        }
      ]
    },
    {
      "cell_type": "markdown",
      "source": [
        "### Frequency  \n",
        "얼마나 자주 구입했는가 - 최소 1번 구입부터 152번이나 구입한 유저까지 존재한다."
      ],
      "metadata": {
        "id": "YzvLXByZy411"
      }
    },
    {
      "cell_type": "code",
      "source": [
        "RFM['Frequency'].describe()"
      ],
      "metadata": {
        "colab": {
          "base_uri": "https://localhost:8080/"
        },
        "id": "rbBJzRnGx_nl",
        "outputId": "7b802a29-df9b-4820-a67b-b70454939181"
      },
      "execution_count": null,
      "outputs": [
        {
          "output_type": "execute_result",
          "data": {
            "text/plain": [
              "count    263445.000000\n",
              "mean          1.771903\n",
              "std           2.399952\n",
              "min           1.000000\n",
              "25%           1.000000\n",
              "50%           1.000000\n",
              "75%           2.000000\n",
              "max         152.000000\n",
              "Name: Frequency, dtype: float64"
            ]
          },
          "metadata": {},
          "execution_count": 37
        }
      ]
    },
    {
      "cell_type": "markdown",
      "source": [
        "### Monetary  \n",
        "얼마나 많은 금액을 지출했는가 - 최소 0.88달러에서 최대 265569달러 제품까지 구입한 유저가 존재한다."
      ],
      "metadata": {
        "id": "7sLnbPyezYZV"
      }
    },
    {
      "cell_type": "code",
      "source": [
        "RFM['Monetary'].describe()"
      ],
      "metadata": {
        "colab": {
          "base_uri": "https://localhost:8080/"
        },
        "id": "m4EaqF9ezA_b",
        "outputId": "3ef902c0-5457-4461-ee95-6ef79b1d31f5"
      },
      "execution_count": null,
      "outputs": [
        {
          "output_type": "execute_result",
          "data": {
            "text/plain": [
              "count    263445.000000\n",
              "mean        773.853133\n",
              "std        2291.897206\n",
              "min           0.880000\n",
              "25%         145.430000\n",
              "50%         287.970000\n",
              "75%         738.740000\n",
              "max      265569.520000\n",
              "Name: Monetary, dtype: float64"
            ]
          },
          "metadata": {},
          "execution_count": 38
        }
      ]
    },
    {
      "cell_type": "markdown",
      "source": [
        "위의 과정에서 RFM은 구했으나 RFM 분석에서 더 중요한건 RFM 세분화(Segmentation)이다\n"
      ],
      "metadata": {
        "id": "syVRINvqzuIz"
      }
    },
    {
      "cell_type": "markdown",
      "source": [
        "## RFM Segmentation\n",
        "RFM 세분화는 데이터에 따라 사용자의 그룹을 식별하는 방법입니다.  \n",
        "이를 통해, 특정 고객 그룹을 타켓팅할 수 있어서 응답률이 향상되고 서비스 충성도가 높아집니다.  \n",
        "RFM 모델에서 고객 세분화를 하는 가장 간단한 방법으로 사분위수를 사용할 것 입니다.  \n",
        "우리는 1에서 4까지 점수를 RFM에 할당할 것이고, RFM Score는 각 점수를 합하여 계산합니다.\n"
      ],
      "metadata": {
        "id": "26i-1m8hz4Ek"
      }
    },
    {
      "cell_type": "markdown",
      "source": [
        "고객 세분화를 위한 사분위수 기준 정하기 위해 quantile 함수 사용합니다."
      ],
      "metadata": {
        "id": "TjdRIcyd16oP"
      }
    },
    {
      "cell_type": "code",
      "source": [
        "RFM.quantile(q=[0.25, 0.5, 0.75])"
      ],
      "metadata": {
        "colab": {
          "base_uri": "https://localhost:8080/",
          "height": 143
        },
        "id": "dvyDWEC7zhIU",
        "outputId": "e51f9544-e9f1-4c5e-9caa-99e6fe2791c0"
      },
      "execution_count": null,
      "outputs": [
        {
          "output_type": "execute_result",
          "data": {
            "text/plain": [
              "        Recency  Frequency  Monetary\n",
              "0.25   7.297870        1.0    145.43\n",
              "0.50  14.316053        1.0    287.97\n",
              "0.75  21.912280        2.0    738.74"
            ],
            "text/html": [
              "\n",
              "  <div id=\"df-1b57bd6b-736a-450e-a566-fc7aafc5026c\">\n",
              "    <div class=\"colab-df-container\">\n",
              "      <div>\n",
              "<style scoped>\n",
              "    .dataframe tbody tr th:only-of-type {\n",
              "        vertical-align: middle;\n",
              "    }\n",
              "\n",
              "    .dataframe tbody tr th {\n",
              "        vertical-align: top;\n",
              "    }\n",
              "\n",
              "    .dataframe thead th {\n",
              "        text-align: right;\n",
              "    }\n",
              "</style>\n",
              "<table border=\"1\" class=\"dataframe\">\n",
              "  <thead>\n",
              "    <tr style=\"text-align: right;\">\n",
              "      <th></th>\n",
              "      <th>Recency</th>\n",
              "      <th>Frequency</th>\n",
              "      <th>Monetary</th>\n",
              "    </tr>\n",
              "  </thead>\n",
              "  <tbody>\n",
              "    <tr>\n",
              "      <th>0.25</th>\n",
              "      <td>7.297870</td>\n",
              "      <td>1.0</td>\n",
              "      <td>145.43</td>\n",
              "    </tr>\n",
              "    <tr>\n",
              "      <th>0.50</th>\n",
              "      <td>14.316053</td>\n",
              "      <td>1.0</td>\n",
              "      <td>287.97</td>\n",
              "    </tr>\n",
              "    <tr>\n",
              "      <th>0.75</th>\n",
              "      <td>21.912280</td>\n",
              "      <td>2.0</td>\n",
              "      <td>738.74</td>\n",
              "    </tr>\n",
              "  </tbody>\n",
              "</table>\n",
              "</div>\n",
              "      <button class=\"colab-df-convert\" onclick=\"convertToInteractive('df-1b57bd6b-736a-450e-a566-fc7aafc5026c')\"\n",
              "              title=\"Convert this dataframe to an interactive table.\"\n",
              "              style=\"display:none;\">\n",
              "        \n",
              "  <svg xmlns=\"http://www.w3.org/2000/svg\" height=\"24px\"viewBox=\"0 0 24 24\"\n",
              "       width=\"24px\">\n",
              "    <path d=\"M0 0h24v24H0V0z\" fill=\"none\"/>\n",
              "    <path d=\"M18.56 5.44l.94 2.06.94-2.06 2.06-.94-2.06-.94-.94-2.06-.94 2.06-2.06.94zm-11 1L8.5 8.5l.94-2.06 2.06-.94-2.06-.94L8.5 2.5l-.94 2.06-2.06.94zm10 10l.94 2.06.94-2.06 2.06-.94-2.06-.94-.94-2.06-.94 2.06-2.06.94z\"/><path d=\"M17.41 7.96l-1.37-1.37c-.4-.4-.92-.59-1.43-.59-.52 0-1.04.2-1.43.59L10.3 9.45l-7.72 7.72c-.78.78-.78 2.05 0 2.83L4 21.41c.39.39.9.59 1.41.59.51 0 1.02-.2 1.41-.59l7.78-7.78 2.81-2.81c.8-.78.8-2.07 0-2.86zM5.41 20L4 18.59l7.72-7.72 1.47 1.35L5.41 20z\"/>\n",
              "  </svg>\n",
              "      </button>\n",
              "      \n",
              "  <style>\n",
              "    .colab-df-container {\n",
              "      display:flex;\n",
              "      flex-wrap:wrap;\n",
              "      gap: 12px;\n",
              "    }\n",
              "\n",
              "    .colab-df-convert {\n",
              "      background-color: #E8F0FE;\n",
              "      border: none;\n",
              "      border-radius: 50%;\n",
              "      cursor: pointer;\n",
              "      display: none;\n",
              "      fill: #1967D2;\n",
              "      height: 32px;\n",
              "      padding: 0 0 0 0;\n",
              "      width: 32px;\n",
              "    }\n",
              "\n",
              "    .colab-df-convert:hover {\n",
              "      background-color: #E2EBFA;\n",
              "      box-shadow: 0px 1px 2px rgba(60, 64, 67, 0.3), 0px 1px 3px 1px rgba(60, 64, 67, 0.15);\n",
              "      fill: #174EA6;\n",
              "    }\n",
              "\n",
              "    [theme=dark] .colab-df-convert {\n",
              "      background-color: #3B4455;\n",
              "      fill: #D2E3FC;\n",
              "    }\n",
              "\n",
              "    [theme=dark] .colab-df-convert:hover {\n",
              "      background-color: #434B5C;\n",
              "      box-shadow: 0px 1px 3px 1px rgba(0, 0, 0, 0.15);\n",
              "      filter: drop-shadow(0px 1px 2px rgba(0, 0, 0, 0.3));\n",
              "      fill: #FFFFFF;\n",
              "    }\n",
              "  </style>\n",
              "\n",
              "      <script>\n",
              "        const buttonEl =\n",
              "          document.querySelector('#df-1b57bd6b-736a-450e-a566-fc7aafc5026c button.colab-df-convert');\n",
              "        buttonEl.style.display =\n",
              "          google.colab.kernel.accessAllowed ? 'block' : 'none';\n",
              "\n",
              "        async function convertToInteractive(key) {\n",
              "          const element = document.querySelector('#df-1b57bd6b-736a-450e-a566-fc7aafc5026c');\n",
              "          const dataTable =\n",
              "            await google.colab.kernel.invokeFunction('convertToInteractive',\n",
              "                                                     [key], {});\n",
              "          if (!dataTable) return;\n",
              "\n",
              "          const docLinkHtml = 'Like what you see? Visit the ' +\n",
              "            '<a target=\"_blank\" href=https://colab.research.google.com/notebooks/data_table.ipynb>data table notebook</a>'\n",
              "            + ' to learn more about interactive tables.';\n",
              "          element.innerHTML = '';\n",
              "          dataTable['output_type'] = 'display_data';\n",
              "          await google.colab.output.renderOutput(dataTable, element);\n",
              "          const docLink = document.createElement('div');\n",
              "          docLink.innerHTML = docLinkHtml;\n",
              "          element.appendChild(docLink);\n",
              "        }\n",
              "      </script>\n",
              "    </div>\n",
              "  </div>\n",
              "  "
            ]
          },
          "metadata": {},
          "execution_count": 39
        }
      ]
    },
    {
      "cell_type": "code",
      "source": [
        "quartiles = RFM.quantile(q=[0.25, 0.5, 0.75]).to_dict()\n",
        "quartiles"
      ],
      "metadata": {
        "colab": {
          "base_uri": "https://localhost:8080/"
        },
        "id": "4kjKAe0k1ygh",
        "outputId": "3b1ebed9-3efa-4f9b-f7d8-6a9f02f88b53"
      },
      "execution_count": null,
      "outputs": [
        {
          "output_type": "execute_result",
          "data": {
            "text/plain": [
              "{'Frequency': {0.25: 1.0, 0.5: 1.0, 0.75: 2.0},\n",
              " 'Monetary': {0.25: 145.43, 0.5: 287.97, 0.75: 738.74},\n",
              " 'Recency': {0.25: 7.2978703703703705,\n",
              "  0.5: 14.316053240740741,\n",
              "  0.75: 21.912280092592592}}"
            ]
          },
          "metadata": {},
          "execution_count": 40
        }
      ]
    },
    {
      "cell_type": "markdown",
      "source": [
        "### RFM 세분화 함수\n",
        "recency가 작으면 작을 수록 충성도가 높은 고객  \n",
        "monetary, frequency가 클수록 충성도가 높은 고객  \n",
        "RFM score = recency.quartiles + monetary.quartiles + frequency는.quartiles  \n",
        "score가 작을수록 충성도가 높은 고객으로 설정한다."
      ],
      "metadata": {
        "id": "-o-Fj7Z12DM4"
      }
    },
    {
      "cell_type": "code",
      "source": [
        "def for_recency(x, parm, data):\n",
        "  if x <= data[parm][0.25]:\n",
        "    return 1\n",
        "  elif x <= data[parm][0.50]:\n",
        "    return 2\n",
        "  elif x <= data[parm][0.75]:\n",
        "    return 3\n",
        "  else:\n",
        "    return 4\n",
        "  \n",
        "def for_monfre(x, parm, data):\n",
        "  if x <= data[parm][0.25]:\n",
        "    return 4\n",
        "  elif x <= data[parm][0.50]:\n",
        "    return 3\n",
        "  elif x <= data[parm][0.75]:\n",
        "    return 2\n",
        "  else:\n",
        "    return 1"
      ],
      "metadata": {
        "id": "keODiJ4V142x"
      },
      "execution_count": null,
      "outputs": []
    },
    {
      "cell_type": "code",
      "source": [
        "RFM['R_quartile'] = RFM['Recency'].apply(for_recency, args=('Recency', quartiles))\n",
        "RFM['F_quartile'] = RFM['Frequency'].apply(for_monfre, args=('Frequency', quartiles))\n",
        "RFM['M_quartile'] = RFM['Monetary'].apply(for_monfre, args=('Monetary', quartiles))\n",
        "RFM['RFM_Score'] = RFM.R_quartile.map(int) + RFM.F_quartile.map(int) + RFM.M_quartile.map(int)\n",
        "RFM.head()"
      ],
      "metadata": {
        "colab": {
          "base_uri": "https://localhost:8080/",
          "height": 238
        },
        "id": "lcUX3qFY3vpK",
        "outputId": "e8529d01-2343-4a1e-9058-75ae4f9df13a"
      },
      "execution_count": null,
      "outputs": [
        {
          "output_type": "execute_result",
          "data": {
            "text/plain": [
              "             Recency  Frequency  Monetary  R_quartile  F_quartile  M_quartile  \\\n",
              "user_id                                                                         \n",
              "303160429  19.065637          1    340.59           3           4           2   \n",
              "340041246  18.009965          1    339.70           3           4           2   \n",
              "384989212  14.152789          1     41.44           2           4           4   \n",
              "401021311  11.444977          1    231.64           2           4           3   \n",
              "403013066  13.822766          1    807.16           2           4           1   \n",
              "\n",
              "           RFM_Score  \n",
              "user_id               \n",
              "303160429          9  \n",
              "340041246          9  \n",
              "384989212         10  \n",
              "401021311          9  \n",
              "403013066          7  "
            ],
            "text/html": [
              "\n",
              "  <div id=\"df-e9ac715e-cd07-42a3-811d-2c00d60c1ea7\">\n",
              "    <div class=\"colab-df-container\">\n",
              "      <div>\n",
              "<style scoped>\n",
              "    .dataframe tbody tr th:only-of-type {\n",
              "        vertical-align: middle;\n",
              "    }\n",
              "\n",
              "    .dataframe tbody tr th {\n",
              "        vertical-align: top;\n",
              "    }\n",
              "\n",
              "    .dataframe thead th {\n",
              "        text-align: right;\n",
              "    }\n",
              "</style>\n",
              "<table border=\"1\" class=\"dataframe\">\n",
              "  <thead>\n",
              "    <tr style=\"text-align: right;\">\n",
              "      <th></th>\n",
              "      <th>Recency</th>\n",
              "      <th>Frequency</th>\n",
              "      <th>Monetary</th>\n",
              "      <th>R_quartile</th>\n",
              "      <th>F_quartile</th>\n",
              "      <th>M_quartile</th>\n",
              "      <th>RFM_Score</th>\n",
              "    </tr>\n",
              "    <tr>\n",
              "      <th>user_id</th>\n",
              "      <th></th>\n",
              "      <th></th>\n",
              "      <th></th>\n",
              "      <th></th>\n",
              "      <th></th>\n",
              "      <th></th>\n",
              "      <th></th>\n",
              "    </tr>\n",
              "  </thead>\n",
              "  <tbody>\n",
              "    <tr>\n",
              "      <th>303160429</th>\n",
              "      <td>19.065637</td>\n",
              "      <td>1</td>\n",
              "      <td>340.59</td>\n",
              "      <td>3</td>\n",
              "      <td>4</td>\n",
              "      <td>2</td>\n",
              "      <td>9</td>\n",
              "    </tr>\n",
              "    <tr>\n",
              "      <th>340041246</th>\n",
              "      <td>18.009965</td>\n",
              "      <td>1</td>\n",
              "      <td>339.70</td>\n",
              "      <td>3</td>\n",
              "      <td>4</td>\n",
              "      <td>2</td>\n",
              "      <td>9</td>\n",
              "    </tr>\n",
              "    <tr>\n",
              "      <th>384989212</th>\n",
              "      <td>14.152789</td>\n",
              "      <td>1</td>\n",
              "      <td>41.44</td>\n",
              "      <td>2</td>\n",
              "      <td>4</td>\n",
              "      <td>4</td>\n",
              "      <td>10</td>\n",
              "    </tr>\n",
              "    <tr>\n",
              "      <th>401021311</th>\n",
              "      <td>11.444977</td>\n",
              "      <td>1</td>\n",
              "      <td>231.64</td>\n",
              "      <td>2</td>\n",
              "      <td>4</td>\n",
              "      <td>3</td>\n",
              "      <td>9</td>\n",
              "    </tr>\n",
              "    <tr>\n",
              "      <th>403013066</th>\n",
              "      <td>13.822766</td>\n",
              "      <td>1</td>\n",
              "      <td>807.16</td>\n",
              "      <td>2</td>\n",
              "      <td>4</td>\n",
              "      <td>1</td>\n",
              "      <td>7</td>\n",
              "    </tr>\n",
              "  </tbody>\n",
              "</table>\n",
              "</div>\n",
              "      <button class=\"colab-df-convert\" onclick=\"convertToInteractive('df-e9ac715e-cd07-42a3-811d-2c00d60c1ea7')\"\n",
              "              title=\"Convert this dataframe to an interactive table.\"\n",
              "              style=\"display:none;\">\n",
              "        \n",
              "  <svg xmlns=\"http://www.w3.org/2000/svg\" height=\"24px\"viewBox=\"0 0 24 24\"\n",
              "       width=\"24px\">\n",
              "    <path d=\"M0 0h24v24H0V0z\" fill=\"none\"/>\n",
              "    <path d=\"M18.56 5.44l.94 2.06.94-2.06 2.06-.94-2.06-.94-.94-2.06-.94 2.06-2.06.94zm-11 1L8.5 8.5l.94-2.06 2.06-.94-2.06-.94L8.5 2.5l-.94 2.06-2.06.94zm10 10l.94 2.06.94-2.06 2.06-.94-2.06-.94-.94-2.06-.94 2.06-2.06.94z\"/><path d=\"M17.41 7.96l-1.37-1.37c-.4-.4-.92-.59-1.43-.59-.52 0-1.04.2-1.43.59L10.3 9.45l-7.72 7.72c-.78.78-.78 2.05 0 2.83L4 21.41c.39.39.9.59 1.41.59.51 0 1.02-.2 1.41-.59l7.78-7.78 2.81-2.81c.8-.78.8-2.07 0-2.86zM5.41 20L4 18.59l7.72-7.72 1.47 1.35L5.41 20z\"/>\n",
              "  </svg>\n",
              "      </button>\n",
              "      \n",
              "  <style>\n",
              "    .colab-df-container {\n",
              "      display:flex;\n",
              "      flex-wrap:wrap;\n",
              "      gap: 12px;\n",
              "    }\n",
              "\n",
              "    .colab-df-convert {\n",
              "      background-color: #E8F0FE;\n",
              "      border: none;\n",
              "      border-radius: 50%;\n",
              "      cursor: pointer;\n",
              "      display: none;\n",
              "      fill: #1967D2;\n",
              "      height: 32px;\n",
              "      padding: 0 0 0 0;\n",
              "      width: 32px;\n",
              "    }\n",
              "\n",
              "    .colab-df-convert:hover {\n",
              "      background-color: #E2EBFA;\n",
              "      box-shadow: 0px 1px 2px rgba(60, 64, 67, 0.3), 0px 1px 3px 1px rgba(60, 64, 67, 0.15);\n",
              "      fill: #174EA6;\n",
              "    }\n",
              "\n",
              "    [theme=dark] .colab-df-convert {\n",
              "      background-color: #3B4455;\n",
              "      fill: #D2E3FC;\n",
              "    }\n",
              "\n",
              "    [theme=dark] .colab-df-convert:hover {\n",
              "      background-color: #434B5C;\n",
              "      box-shadow: 0px 1px 3px 1px rgba(0, 0, 0, 0.15);\n",
              "      filter: drop-shadow(0px 1px 2px rgba(0, 0, 0, 0.3));\n",
              "      fill: #FFFFFF;\n",
              "    }\n",
              "  </style>\n",
              "\n",
              "      <script>\n",
              "        const buttonEl =\n",
              "          document.querySelector('#df-e9ac715e-cd07-42a3-811d-2c00d60c1ea7 button.colab-df-convert');\n",
              "        buttonEl.style.display =\n",
              "          google.colab.kernel.accessAllowed ? 'block' : 'none';\n",
              "\n",
              "        async function convertToInteractive(key) {\n",
              "          const element = document.querySelector('#df-e9ac715e-cd07-42a3-811d-2c00d60c1ea7');\n",
              "          const dataTable =\n",
              "            await google.colab.kernel.invokeFunction('convertToInteractive',\n",
              "                                                     [key], {});\n",
              "          if (!dataTable) return;\n",
              "\n",
              "          const docLinkHtml = 'Like what you see? Visit the ' +\n",
              "            '<a target=\"_blank\" href=https://colab.research.google.com/notebooks/data_table.ipynb>data table notebook</a>'\n",
              "            + ' to learn more about interactive tables.';\n",
              "          element.innerHTML = '';\n",
              "          dataTable['output_type'] = 'display_data';\n",
              "          await google.colab.output.renderOutput(dataTable, element);\n",
              "          const docLink = document.createElement('div');\n",
              "          docLink.innerHTML = docLinkHtml;\n",
              "          element.appendChild(docLink);\n",
              "        }\n",
              "      </script>\n",
              "    </div>\n",
              "  </div>\n",
              "  "
            ]
          },
          "metadata": {},
          "execution_count": 42
        }
      ]
    },
    {
      "cell_type": "code",
      "source": [
        "RFM['RFM_Score'].unique()"
      ],
      "metadata": {
        "colab": {
          "base_uri": "https://localhost:8080/"
        },
        "id": "8aj86AsS446o",
        "outputId": "9ad001b9-9c0d-4cdb-a5fd-ee82ad260d45"
      },
      "execution_count": null,
      "outputs": [
        {
          "output_type": "execute_result",
          "data": {
            "text/plain": [
              "array([ 9, 10,  7,  8, 11, 12,  5,  6,  4,  3])"
            ]
          },
          "metadata": {},
          "execution_count": 43
        }
      ]
    },
    {
      "cell_type": "markdown",
      "source": [
        "RFM Score에 따른 고객 분류를 정의한다.  \n",
        "3 - Leading Customer  \n",
        "4, 5, 6 - Loyal Customers  \n",
        "7, 8, 9 - Promising Customers  \n",
        "10, 11 - Hibernating Customers  \n",
        "12 - Loss Customers"
      ],
      "metadata": {
        "id": "_yPsbLBz4zGC"
      }
    },
    {
      "cell_type": "code",
      "source": [
        "def RFM_Define(data):\n",
        "  if data['RFM_Score'] >= 12:\n",
        "    return 'Loss Customers'\n",
        "  elif ((data['RFM_Score'] >= 10) and (data['RFM_Score'] < 12)):\n",
        "    return 'Hibernating Customers'\n",
        "  elif ((data['RFM_Score'] >= 7) and (data['RFM_Score'] < 10)):\n",
        "    return 'Promising Customers'\n",
        "  elif ((data['RFM_Score'] >= 4) and (data['RFM_Score'] < 7)):\n",
        "    return 'Loyal Customers'\n",
        "  else:\n",
        "    return 'Leading Customer'"
      ],
      "metadata": {
        "id": "s0N3T1324k_7"
      },
      "execution_count": null,
      "outputs": []
    },
    {
      "cell_type": "code",
      "source": [
        "RFM['RFM_Label'] = RFM.apply(RFM_Define, axis = 1)\n",
        "RFM.head()"
      ],
      "metadata": {
        "colab": {
          "base_uri": "https://localhost:8080/",
          "height": 238
        },
        "id": "dCIyCSfy63dl",
        "outputId": "8ec6b1fb-2770-45fa-c1e8-32c4d839bdc9"
      },
      "execution_count": null,
      "outputs": [
        {
          "output_type": "execute_result",
          "data": {
            "text/plain": [
              "             Recency  Frequency  Monetary  R_quartile  F_quartile  M_quartile  \\\n",
              "user_id                                                                         \n",
              "303160429  19.065637          1    340.59           3           4           2   \n",
              "340041246  18.009965          1    339.70           3           4           2   \n",
              "384989212  14.152789          1     41.44           2           4           4   \n",
              "401021311  11.444977          1    231.64           2           4           3   \n",
              "403013066  13.822766          1    807.16           2           4           1   \n",
              "\n",
              "           RFM_Score              RFM_Label  \n",
              "user_id                                      \n",
              "303160429          9    Promising Customers  \n",
              "340041246          9    Promising Customers  \n",
              "384989212         10  Hibernating Customers  \n",
              "401021311          9    Promising Customers  \n",
              "403013066          7    Promising Customers  "
            ],
            "text/html": [
              "\n",
              "  <div id=\"df-1a4c18e1-60cd-4990-bb7e-c6cc70112b34\">\n",
              "    <div class=\"colab-df-container\">\n",
              "      <div>\n",
              "<style scoped>\n",
              "    .dataframe tbody tr th:only-of-type {\n",
              "        vertical-align: middle;\n",
              "    }\n",
              "\n",
              "    .dataframe tbody tr th {\n",
              "        vertical-align: top;\n",
              "    }\n",
              "\n",
              "    .dataframe thead th {\n",
              "        text-align: right;\n",
              "    }\n",
              "</style>\n",
              "<table border=\"1\" class=\"dataframe\">\n",
              "  <thead>\n",
              "    <tr style=\"text-align: right;\">\n",
              "      <th></th>\n",
              "      <th>Recency</th>\n",
              "      <th>Frequency</th>\n",
              "      <th>Monetary</th>\n",
              "      <th>R_quartile</th>\n",
              "      <th>F_quartile</th>\n",
              "      <th>M_quartile</th>\n",
              "      <th>RFM_Score</th>\n",
              "      <th>RFM_Label</th>\n",
              "    </tr>\n",
              "    <tr>\n",
              "      <th>user_id</th>\n",
              "      <th></th>\n",
              "      <th></th>\n",
              "      <th></th>\n",
              "      <th></th>\n",
              "      <th></th>\n",
              "      <th></th>\n",
              "      <th></th>\n",
              "      <th></th>\n",
              "    </tr>\n",
              "  </thead>\n",
              "  <tbody>\n",
              "    <tr>\n",
              "      <th>303160429</th>\n",
              "      <td>19.065637</td>\n",
              "      <td>1</td>\n",
              "      <td>340.59</td>\n",
              "      <td>3</td>\n",
              "      <td>4</td>\n",
              "      <td>2</td>\n",
              "      <td>9</td>\n",
              "      <td>Promising Customers</td>\n",
              "    </tr>\n",
              "    <tr>\n",
              "      <th>340041246</th>\n",
              "      <td>18.009965</td>\n",
              "      <td>1</td>\n",
              "      <td>339.70</td>\n",
              "      <td>3</td>\n",
              "      <td>4</td>\n",
              "      <td>2</td>\n",
              "      <td>9</td>\n",
              "      <td>Promising Customers</td>\n",
              "    </tr>\n",
              "    <tr>\n",
              "      <th>384989212</th>\n",
              "      <td>14.152789</td>\n",
              "      <td>1</td>\n",
              "      <td>41.44</td>\n",
              "      <td>2</td>\n",
              "      <td>4</td>\n",
              "      <td>4</td>\n",
              "      <td>10</td>\n",
              "      <td>Hibernating Customers</td>\n",
              "    </tr>\n",
              "    <tr>\n",
              "      <th>401021311</th>\n",
              "      <td>11.444977</td>\n",
              "      <td>1</td>\n",
              "      <td>231.64</td>\n",
              "      <td>2</td>\n",
              "      <td>4</td>\n",
              "      <td>3</td>\n",
              "      <td>9</td>\n",
              "      <td>Promising Customers</td>\n",
              "    </tr>\n",
              "    <tr>\n",
              "      <th>403013066</th>\n",
              "      <td>13.822766</td>\n",
              "      <td>1</td>\n",
              "      <td>807.16</td>\n",
              "      <td>2</td>\n",
              "      <td>4</td>\n",
              "      <td>1</td>\n",
              "      <td>7</td>\n",
              "      <td>Promising Customers</td>\n",
              "    </tr>\n",
              "  </tbody>\n",
              "</table>\n",
              "</div>\n",
              "      <button class=\"colab-df-convert\" onclick=\"convertToInteractive('df-1a4c18e1-60cd-4990-bb7e-c6cc70112b34')\"\n",
              "              title=\"Convert this dataframe to an interactive table.\"\n",
              "              style=\"display:none;\">\n",
              "        \n",
              "  <svg xmlns=\"http://www.w3.org/2000/svg\" height=\"24px\"viewBox=\"0 0 24 24\"\n",
              "       width=\"24px\">\n",
              "    <path d=\"M0 0h24v24H0V0z\" fill=\"none\"/>\n",
              "    <path d=\"M18.56 5.44l.94 2.06.94-2.06 2.06-.94-2.06-.94-.94-2.06-.94 2.06-2.06.94zm-11 1L8.5 8.5l.94-2.06 2.06-.94-2.06-.94L8.5 2.5l-.94 2.06-2.06.94zm10 10l.94 2.06.94-2.06 2.06-.94-2.06-.94-.94-2.06-.94 2.06-2.06.94z\"/><path d=\"M17.41 7.96l-1.37-1.37c-.4-.4-.92-.59-1.43-.59-.52 0-1.04.2-1.43.59L10.3 9.45l-7.72 7.72c-.78.78-.78 2.05 0 2.83L4 21.41c.39.39.9.59 1.41.59.51 0 1.02-.2 1.41-.59l7.78-7.78 2.81-2.81c.8-.78.8-2.07 0-2.86zM5.41 20L4 18.59l7.72-7.72 1.47 1.35L5.41 20z\"/>\n",
              "  </svg>\n",
              "      </button>\n",
              "      \n",
              "  <style>\n",
              "    .colab-df-container {\n",
              "      display:flex;\n",
              "      flex-wrap:wrap;\n",
              "      gap: 12px;\n",
              "    }\n",
              "\n",
              "    .colab-df-convert {\n",
              "      background-color: #E8F0FE;\n",
              "      border: none;\n",
              "      border-radius: 50%;\n",
              "      cursor: pointer;\n",
              "      display: none;\n",
              "      fill: #1967D2;\n",
              "      height: 32px;\n",
              "      padding: 0 0 0 0;\n",
              "      width: 32px;\n",
              "    }\n",
              "\n",
              "    .colab-df-convert:hover {\n",
              "      background-color: #E2EBFA;\n",
              "      box-shadow: 0px 1px 2px rgba(60, 64, 67, 0.3), 0px 1px 3px 1px rgba(60, 64, 67, 0.15);\n",
              "      fill: #174EA6;\n",
              "    }\n",
              "\n",
              "    [theme=dark] .colab-df-convert {\n",
              "      background-color: #3B4455;\n",
              "      fill: #D2E3FC;\n",
              "    }\n",
              "\n",
              "    [theme=dark] .colab-df-convert:hover {\n",
              "      background-color: #434B5C;\n",
              "      box-shadow: 0px 1px 3px 1px rgba(0, 0, 0, 0.15);\n",
              "      filter: drop-shadow(0px 1px 2px rgba(0, 0, 0, 0.3));\n",
              "      fill: #FFFFFF;\n",
              "    }\n",
              "  </style>\n",
              "\n",
              "      <script>\n",
              "        const buttonEl =\n",
              "          document.querySelector('#df-1a4c18e1-60cd-4990-bb7e-c6cc70112b34 button.colab-df-convert');\n",
              "        buttonEl.style.display =\n",
              "          google.colab.kernel.accessAllowed ? 'block' : 'none';\n",
              "\n",
              "        async function convertToInteractive(key) {\n",
              "          const element = document.querySelector('#df-1a4c18e1-60cd-4990-bb7e-c6cc70112b34');\n",
              "          const dataTable =\n",
              "            await google.colab.kernel.invokeFunction('convertToInteractive',\n",
              "                                                     [key], {});\n",
              "          if (!dataTable) return;\n",
              "\n",
              "          const docLinkHtml = 'Like what you see? Visit the ' +\n",
              "            '<a target=\"_blank\" href=https://colab.research.google.com/notebooks/data_table.ipynb>data table notebook</a>'\n",
              "            + ' to learn more about interactive tables.';\n",
              "          element.innerHTML = '';\n",
              "          dataTable['output_type'] = 'display_data';\n",
              "          await google.colab.output.renderOutput(dataTable, element);\n",
              "          const docLink = document.createElement('div');\n",
              "          docLink.innerHTML = docLinkHtml;\n",
              "          element.appendChild(docLink);\n",
              "        }\n",
              "      </script>\n",
              "    </div>\n",
              "  </div>\n",
              "  "
            ]
          },
          "metadata": {},
          "execution_count": 47
        }
      ]
    },
    {
      "cell_type": "markdown",
      "source": [
        "각 RFM_Label 별로 분포를 살펴보겠습니다."
      ],
      "metadata": {
        "id": "MYH7dpUr7R9X"
      }
    },
    {
      "cell_type": "code",
      "source": [
        "RFM_desc = RFM.groupby('RFM_Label').agg({\n",
        "    'Recency' : 'mean',\n",
        "    'Frequency' : 'mean',\n",
        "    'Monetary' : ['mean', 'count'],\n",
        "}).round(1)\n",
        "RFM_desc"
      ],
      "metadata": {
        "colab": {
          "base_uri": "https://localhost:8080/",
          "height": 269
        },
        "id": "TrNvFLz76_Av",
        "outputId": "1fd26270-39f7-4ffb-d264-25dc07f124df"
      },
      "execution_count": null,
      "outputs": [
        {
          "output_type": "execute_result",
          "data": {
            "text/plain": [
              "                      Recency Frequency Monetary        \n",
              "                         mean      mean     mean   count\n",
              "RFM_Label                                               \n",
              "Hibernating Customers    20.2       1.0    199.3   75547\n",
              "Leading Customer          3.6       7.3   4534.7   12285\n",
              "Loss Customers           26.8       1.0     84.3   17901\n",
              "Loyal Customers          10.2       3.0   1529.7   51408\n",
              "Promising Customers      12.6       1.2    498.2  106304"
            ],
            "text/html": [
              "\n",
              "  <div id=\"df-01dd2b37-c20d-4d6b-9e8b-ecc1a8b14d66\">\n",
              "    <div class=\"colab-df-container\">\n",
              "      <div>\n",
              "<style scoped>\n",
              "    .dataframe tbody tr th:only-of-type {\n",
              "        vertical-align: middle;\n",
              "    }\n",
              "\n",
              "    .dataframe tbody tr th {\n",
              "        vertical-align: top;\n",
              "    }\n",
              "\n",
              "    .dataframe thead tr th {\n",
              "        text-align: left;\n",
              "    }\n",
              "\n",
              "    .dataframe thead tr:last-of-type th {\n",
              "        text-align: right;\n",
              "    }\n",
              "</style>\n",
              "<table border=\"1\" class=\"dataframe\">\n",
              "  <thead>\n",
              "    <tr>\n",
              "      <th></th>\n",
              "      <th>Recency</th>\n",
              "      <th>Frequency</th>\n",
              "      <th colspan=\"2\" halign=\"left\">Monetary</th>\n",
              "    </tr>\n",
              "    <tr>\n",
              "      <th></th>\n",
              "      <th>mean</th>\n",
              "      <th>mean</th>\n",
              "      <th>mean</th>\n",
              "      <th>count</th>\n",
              "    </tr>\n",
              "    <tr>\n",
              "      <th>RFM_Label</th>\n",
              "      <th></th>\n",
              "      <th></th>\n",
              "      <th></th>\n",
              "      <th></th>\n",
              "    </tr>\n",
              "  </thead>\n",
              "  <tbody>\n",
              "    <tr>\n",
              "      <th>Hibernating Customers</th>\n",
              "      <td>20.2</td>\n",
              "      <td>1.0</td>\n",
              "      <td>199.3</td>\n",
              "      <td>75547</td>\n",
              "    </tr>\n",
              "    <tr>\n",
              "      <th>Leading Customer</th>\n",
              "      <td>3.6</td>\n",
              "      <td>7.3</td>\n",
              "      <td>4534.7</td>\n",
              "      <td>12285</td>\n",
              "    </tr>\n",
              "    <tr>\n",
              "      <th>Loss Customers</th>\n",
              "      <td>26.8</td>\n",
              "      <td>1.0</td>\n",
              "      <td>84.3</td>\n",
              "      <td>17901</td>\n",
              "    </tr>\n",
              "    <tr>\n",
              "      <th>Loyal Customers</th>\n",
              "      <td>10.2</td>\n",
              "      <td>3.0</td>\n",
              "      <td>1529.7</td>\n",
              "      <td>51408</td>\n",
              "    </tr>\n",
              "    <tr>\n",
              "      <th>Promising Customers</th>\n",
              "      <td>12.6</td>\n",
              "      <td>1.2</td>\n",
              "      <td>498.2</td>\n",
              "      <td>106304</td>\n",
              "    </tr>\n",
              "  </tbody>\n",
              "</table>\n",
              "</div>\n",
              "      <button class=\"colab-df-convert\" onclick=\"convertToInteractive('df-01dd2b37-c20d-4d6b-9e8b-ecc1a8b14d66')\"\n",
              "              title=\"Convert this dataframe to an interactive table.\"\n",
              "              style=\"display:none;\">\n",
              "        \n",
              "  <svg xmlns=\"http://www.w3.org/2000/svg\" height=\"24px\"viewBox=\"0 0 24 24\"\n",
              "       width=\"24px\">\n",
              "    <path d=\"M0 0h24v24H0V0z\" fill=\"none\"/>\n",
              "    <path d=\"M18.56 5.44l.94 2.06.94-2.06 2.06-.94-2.06-.94-.94-2.06-.94 2.06-2.06.94zm-11 1L8.5 8.5l.94-2.06 2.06-.94-2.06-.94L8.5 2.5l-.94 2.06-2.06.94zm10 10l.94 2.06.94-2.06 2.06-.94-2.06-.94-.94-2.06-.94 2.06-2.06.94z\"/><path d=\"M17.41 7.96l-1.37-1.37c-.4-.4-.92-.59-1.43-.59-.52 0-1.04.2-1.43.59L10.3 9.45l-7.72 7.72c-.78.78-.78 2.05 0 2.83L4 21.41c.39.39.9.59 1.41.59.51 0 1.02-.2 1.41-.59l7.78-7.78 2.81-2.81c.8-.78.8-2.07 0-2.86zM5.41 20L4 18.59l7.72-7.72 1.47 1.35L5.41 20z\"/>\n",
              "  </svg>\n",
              "      </button>\n",
              "      \n",
              "  <style>\n",
              "    .colab-df-container {\n",
              "      display:flex;\n",
              "      flex-wrap:wrap;\n",
              "      gap: 12px;\n",
              "    }\n",
              "\n",
              "    .colab-df-convert {\n",
              "      background-color: #E8F0FE;\n",
              "      border: none;\n",
              "      border-radius: 50%;\n",
              "      cursor: pointer;\n",
              "      display: none;\n",
              "      fill: #1967D2;\n",
              "      height: 32px;\n",
              "      padding: 0 0 0 0;\n",
              "      width: 32px;\n",
              "    }\n",
              "\n",
              "    .colab-df-convert:hover {\n",
              "      background-color: #E2EBFA;\n",
              "      box-shadow: 0px 1px 2px rgba(60, 64, 67, 0.3), 0px 1px 3px 1px rgba(60, 64, 67, 0.15);\n",
              "      fill: #174EA6;\n",
              "    }\n",
              "\n",
              "    [theme=dark] .colab-df-convert {\n",
              "      background-color: #3B4455;\n",
              "      fill: #D2E3FC;\n",
              "    }\n",
              "\n",
              "    [theme=dark] .colab-df-convert:hover {\n",
              "      background-color: #434B5C;\n",
              "      box-shadow: 0px 1px 3px 1px rgba(0, 0, 0, 0.15);\n",
              "      filter: drop-shadow(0px 1px 2px rgba(0, 0, 0, 0.3));\n",
              "      fill: #FFFFFF;\n",
              "    }\n",
              "  </style>\n",
              "\n",
              "      <script>\n",
              "        const buttonEl =\n",
              "          document.querySelector('#df-01dd2b37-c20d-4d6b-9e8b-ecc1a8b14d66 button.colab-df-convert');\n",
              "        buttonEl.style.display =\n",
              "          google.colab.kernel.accessAllowed ? 'block' : 'none';\n",
              "\n",
              "        async function convertToInteractive(key) {\n",
              "          const element = document.querySelector('#df-01dd2b37-c20d-4d6b-9e8b-ecc1a8b14d66');\n",
              "          const dataTable =\n",
              "            await google.colab.kernel.invokeFunction('convertToInteractive',\n",
              "                                                     [key], {});\n",
              "          if (!dataTable) return;\n",
              "\n",
              "          const docLinkHtml = 'Like what you see? Visit the ' +\n",
              "            '<a target=\"_blank\" href=https://colab.research.google.com/notebooks/data_table.ipynb>data table notebook</a>'\n",
              "            + ' to learn more about interactive tables.';\n",
              "          element.innerHTML = '';\n",
              "          dataTable['output_type'] = 'display_data';\n",
              "          await google.colab.output.renderOutput(dataTable, element);\n",
              "          const docLink = document.createElement('div');\n",
              "          docLink.innerHTML = docLinkHtml;\n",
              "          element.appendChild(docLink);\n",
              "        }\n",
              "      </script>\n",
              "    </div>\n",
              "  </div>\n",
              "  "
            ]
          },
          "metadata": {},
          "execution_count": 76
        }
      ]
    },
    {
      "cell_type": "code",
      "source": [
        "RFM_desc.columns = RFM_desc.columns.droplevel()\n",
        "RFM_desc.columns = ['RecencyMean','FrequencyMean','MonetaryMean', 'Count']\n",
        "\n",
        "fig = plt.gcf()\n",
        "ax = fig.add_subplot()\n",
        "fig.set_size_inches(16, 9)\n",
        "squarify.plot(sizes=RFM_desc['Count'], \n",
        "              label=['Hibernating Customers',\n",
        "                     'Leading Customer',\n",
        "                     'Loss Customers',\n",
        "                     'Loyal Customers',\n",
        "                     'Promising Customers'], alpha=.6 )\n",
        "plt.title(\"RFM Segments\",fontsize=18,fontweight=\"bold\")\n",
        "plt.axis('off')\n",
        "plt.show()"
      ],
      "metadata": {
        "colab": {
          "base_uri": "https://localhost:8080/",
          "height": 540
        },
        "id": "YYWsb9jl7m2i",
        "outputId": "343ec18d-f83e-430b-ad82-65803dacf075"
      },
      "execution_count": null,
      "outputs": [
        {
          "output_type": "display_data",
          "data": {
            "text/plain": [
              "<Figure size 1152x648 with 1 Axes>"
            ],
            "image/png": "[encoded data removed]"
          },
          "metadata": {
            "needs_background": "light"
          }
        }
      ]
    },
    {
      "cell_type": "markdown",
      "source": [
        "RFM Segment에 따른 고객 마케팅 전략을 생각해보자  \n",
        "Leading Customer - 해당 고객군에게 보상을 한다. 그러면 신제품의 얼리 어답터가 될 수도 있고, 해당 서비스를 홍보할 것이다.  \n",
        "Loyal Customers - 더 높은 가치의 제품을 상향 판매하고, 리뷰 요청을 진행한다.  \n",
        "Promising Customers - 멤버십/서비스 충성 프로그램을 제공하고, 맞춤 추천을 제공한다.  \n",
        "Hibernating Customers - 이메일 개인화와 특정 제품에 대한 특정 할인으로 관심을 되살린다.  \n",
        "Loss Customers - 목표 캠페인을 진행하여 관심을 유도하되 많은 리소스를 쏟지 않는다."
      ],
      "metadata": {
        "id": "UhzQ43ka-i3m"
      }
    }
  ]
}